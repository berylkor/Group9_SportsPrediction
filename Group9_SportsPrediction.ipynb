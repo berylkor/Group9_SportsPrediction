{
  "cells": [
    {
      "cell_type": "code",
      "execution_count": 6,
      "metadata": {
        "colab": {
          "base_uri": "https://localhost:8080/"
        },
        "id": "6UsWj_G6WJ__",
        "outputId": "85770af2-7548-481e-9e65-ad7261db0084"
      },
      "outputs": [
        {
          "output_type": "stream",
          "name": "stdout",
          "text": [
            "Drive already mounted at /content/drive; to attempt to forcibly remount, call drive.mount(\"/content/drive\", force_remount=True).\n"
          ]
        }
      ],
      "source": [
        "#importing all important libraries\n",
        "import pandas as pd\n",
        "import os\n",
        "import sklearn\n",
        "import numpy as np\n",
        "import pandas as pd\n",
        "import xgboost as xgb\n",
        "import numpy as np, pandas as pd\n",
        "from sklearn import tree, metrics\n",
        "from sklearn.model_selection import train_test_split\n",
        "from sklearn.preprocessing import LabelEncoder\n",
        "from sklearn.preprocessing import StandardScaler\n",
        "from sklearn.impute import SimpleImputer\n",
        "from sklearn.tree import DecisionTreeRegressor\n",
        "from sklearn.ensemble import AdaBoostRegressor\n",
        "from sklearn.metrics import mean_absolute_error\n",
        "from sklearn.ensemble import AdaBoostRegressor\n",
        "from sklearn.ensemble import GradientBoostingRegressor\n",
        "from sklearn.ensemble import RandomForestRegressor\n",
        "from sklearn.model_selection import KFold,GridSearchCV\n",
        "from google.colab import drive\n",
        "drive.mount('/content/drive')"
      ]
    },
    {
      "cell_type": "code",
      "execution_count": 7,
      "metadata": {
        "colab": {
          "base_uri": "https://localhost:8080/"
        },
        "id": "XdDgeoknWUvF",
        "outputId": "c0da4f8d-6eeb-4cb2-88d5-7652face6a39"
      },
      "outputs": [
        {
          "output_type": "stream",
          "name": "stderr",
          "text": [
            "<ipython-input-7-a3430cece631>:3: DtypeWarning: Columns (25,108) have mixed types. Specify dtype option on import or set low_memory=False.\n",
            "  testing_data = pd.read_csv('/content/drive/MyDrive/Colab Notebooks/AI Mid-Sem Project/players_22.csv')\n"
          ]
        }
      ],
      "source": [
        "#fifa data set to be used\n",
        "training_data = pd.read_csv('/content/drive/MyDrive/Colab Notebooks/AI Mid-Sem Project/players_21.csv')\n",
        "testing_data = pd.read_csv('/content/drive/MyDrive/Colab Notebooks/AI Mid-Sem Project/players_22.csv')"
      ]
    },
    {
      "cell_type": "markdown",
      "metadata": {
        "id": "OAviqq4gXMMC"
      },
      "source": [
        "## **1. Data Preparation and Feature Extraction**"
      ]
    },
    {
      "cell_type": "markdown",
      "metadata": {
        "id": "EC-407PnXHGV"
      },
      "source": [
        "Training Data preprocessing"
      ]
    },
    {
      "cell_type": "code",
      "execution_count": 8,
      "metadata": {
        "id": "mN0O14h-W7D-"
      },
      "outputs": [],
      "source": [
        "# These are columns that contain ids and url links.\n",
        "training_data.drop('sofifa_id', axis = 1, inplace = True)\n",
        "training_data.drop('player_url', axis = 1, inplace = True)\n",
        "training_data.drop('player_face_url', axis = 1, inplace = True)\n",
        "training_data.drop('club_logo_url', axis = 1, inplace = True)\n",
        "training_data.drop('club_flag_url', axis = 1, inplace = True)\n",
        "training_data.drop('nation_logo_url', axis = 1, inplace = True)\n",
        "training_data.drop('nation_flag_url', axis = 1, inplace = True)\n",
        "training_data.drop('nationality_id', axis = 1, inplace = True)\n",
        "training_data.drop('nation_team_id', axis = 1, inplace = True)\n",
        "training_data.drop('club_team_id', axis = 1, inplace = True)\n",
        "training_data.drop('dob', axis = 1, inplace = True) #dropped dob because it basically does the same work as age"
      ]
    },
    {
      "cell_type": "code",
      "execution_count": 9,
      "metadata": {
        "id": "Ble9yck4qgYq"
      },
      "outputs": [],
      "source": [
        "# drop columns with 30% or more missing data\n",
        "missing = (training_data.isnull().sum() / len(training_data)) * 100\n",
        "columns_missing = missing[missing >= 30].index\n",
        "training_data.drop(columns=columns_missing, inplace =True)"
      ]
    },
    {
      "cell_type": "code",
      "execution_count": 10,
      "metadata": {
        "colab": {
          "base_uri": "https://localhost:8080/"
        },
        "id": "9cbxQilergPt",
        "outputId": "0fcc2132-1d9f-4a84-b84e-6ccf7b4e9c20"
      },
      "outputs": [
        {
          "output_type": "stream",
          "name": "stdout",
          "text": [
            "<class 'pandas.core.frame.DataFrame'>\n",
            "RangeIndex: 18944 entries, 0 to 18943\n",
            "Data columns (total 93 columns):\n",
            " #   Column                       Non-Null Count  Dtype  \n",
            "---  ------                       --------------  -----  \n",
            " 0   short_name                   18944 non-null  object \n",
            " 1   long_name                    18944 non-null  object \n",
            " 2   player_positions             18944 non-null  object \n",
            " 3   overall                      18944 non-null  int64  \n",
            " 4   potential                    18944 non-null  int64  \n",
            " 5   value_eur                    18707 non-null  float64\n",
            " 6   wage_eur                     18719 non-null  float64\n",
            " 7   age                          18944 non-null  int64  \n",
            " 8   height_cm                    18944 non-null  int64  \n",
            " 9   weight_kg                    18944 non-null  int64  \n",
            " 10  club_name                    18719 non-null  object \n",
            " 11  league_name                  18719 non-null  object \n",
            " 12  league_level                 18719 non-null  float64\n",
            " 13  club_position                18719 non-null  object \n",
            " 14  club_jersey_number           18719 non-null  float64\n",
            " 15  club_joined                  17961 non-null  object \n",
            " 16  club_contract_valid_until    18719 non-null  float64\n",
            " 17  nationality_name             18944 non-null  object \n",
            " 18  preferred_foot               18944 non-null  object \n",
            " 19  weak_foot                    18944 non-null  int64  \n",
            " 20  skill_moves                  18944 non-null  int64  \n",
            " 21  international_reputation     18944 non-null  int64  \n",
            " 22  work_rate                    18944 non-null  object \n",
            " 23  body_type                    18944 non-null  object \n",
            " 24  real_face                    18944 non-null  object \n",
            " 25  release_clause_eur           17949 non-null  float64\n",
            " 26  pace                         16861 non-null  float64\n",
            " 27  shooting                     16861 non-null  float64\n",
            " 28  passing                      16861 non-null  float64\n",
            " 29  dribbling                    16861 non-null  float64\n",
            " 30  defending                    16861 non-null  float64\n",
            " 31  physic                       16861 non-null  float64\n",
            " 32  attacking_crossing           18944 non-null  int64  \n",
            " 33  attacking_finishing          18944 non-null  int64  \n",
            " 34  attacking_heading_accuracy   18944 non-null  int64  \n",
            " 35  attacking_short_passing      18944 non-null  int64  \n",
            " 36  attacking_volleys            18944 non-null  int64  \n",
            " 37  skill_dribbling              18944 non-null  int64  \n",
            " 38  skill_curve                  18944 non-null  int64  \n",
            " 39  skill_fk_accuracy            18944 non-null  int64  \n",
            " 40  skill_long_passing           18944 non-null  int64  \n",
            " 41  skill_ball_control           18944 non-null  int64  \n",
            " 42  movement_acceleration        18944 non-null  int64  \n",
            " 43  movement_sprint_speed        18944 non-null  int64  \n",
            " 44  movement_agility             18944 non-null  int64  \n",
            " 45  movement_reactions           18944 non-null  int64  \n",
            " 46  movement_balance             18944 non-null  int64  \n",
            " 47  power_shot_power             18944 non-null  int64  \n",
            " 48  power_jumping                18944 non-null  int64  \n",
            " 49  power_stamina                18944 non-null  int64  \n",
            " 50  power_strength               18944 non-null  int64  \n",
            " 51  power_long_shots             18944 non-null  int64  \n",
            " 52  mentality_aggression         18944 non-null  int64  \n",
            " 53  mentality_interceptions      18944 non-null  int64  \n",
            " 54  mentality_positioning        18944 non-null  int64  \n",
            " 55  mentality_vision             18944 non-null  int64  \n",
            " 56  mentality_penalties          18944 non-null  int64  \n",
            " 57  mentality_composure          18944 non-null  int64  \n",
            " 58  defending_marking_awareness  18944 non-null  int64  \n",
            " 59  defending_standing_tackle    18944 non-null  int64  \n",
            " 60  defending_sliding_tackle     18944 non-null  int64  \n",
            " 61  goalkeeping_diving           18944 non-null  int64  \n",
            " 62  goalkeeping_handling         18944 non-null  int64  \n",
            " 63  goalkeeping_kicking          18944 non-null  int64  \n",
            " 64  goalkeeping_positioning      18944 non-null  int64  \n",
            " 65  goalkeeping_reflexes         18944 non-null  int64  \n",
            " 66  ls                           18944 non-null  object \n",
            " 67  st                           18944 non-null  object \n",
            " 68  rs                           18944 non-null  object \n",
            " 69  lw                           18944 non-null  object \n",
            " 70  lf                           18944 non-null  object \n",
            " 71  cf                           18944 non-null  object \n",
            " 72  rf                           18944 non-null  object \n",
            " 73  rw                           18944 non-null  object \n",
            " 74  lam                          18944 non-null  object \n",
            " 75  cam                          18944 non-null  object \n",
            " 76  ram                          18944 non-null  object \n",
            " 77  lm                           18944 non-null  object \n",
            " 78  lcm                          18944 non-null  object \n",
            " 79  cm                           18944 non-null  object \n",
            " 80  rcm                          18944 non-null  object \n",
            " 81  rm                           18944 non-null  object \n",
            " 82  lwb                          18944 non-null  object \n",
            " 83  ldm                          18944 non-null  object \n",
            " 84  cdm                          18944 non-null  object \n",
            " 85  rdm                          18944 non-null  object \n",
            " 86  rwb                          18944 non-null  object \n",
            " 87  lb                           18944 non-null  object \n",
            " 88  lcb                          18944 non-null  object \n",
            " 89  cb                           18944 non-null  object \n",
            " 90  rcb                          18944 non-null  object \n",
            " 91  rb                           18944 non-null  object \n",
            " 92  gk                           18944 non-null  object \n",
            "dtypes: float64(12), int64(42), object(39)\n",
            "memory usage: 13.4+ MB\n"
          ]
        }
      ],
      "source": [
        "training_data.info()"
      ]
    },
    {
      "cell_type": "code",
      "execution_count": 11,
      "metadata": {
        "colab": {
          "base_uri": "https://localhost:8080/"
        },
        "id": "A2RHV2yMXxoi",
        "outputId": "757484bc-bb89-453a-c0f5-8c630ebf149d"
      },
      "outputs": [
        {
          "output_type": "execute_result",
          "data": {
            "text/plain": [
              "0        93\n",
              "1        92\n",
              "2        91\n",
              "3        91\n",
              "4        91\n",
              "         ..\n",
              "18939    47\n",
              "18940    47\n",
              "18941    47\n",
              "18942    47\n",
              "18943    47\n",
              "Name: overall, Length: 18944, dtype: int64"
            ]
          },
          "metadata": {},
          "execution_count": 11
        }
      ],
      "source": [
        "Y = pd.DataFrame()\n",
        "Y = training_data['overall'] # separate the overall column as the Y\n",
        "training_data.drop('overall', axis = 1, inplace = True) # drop overall from the training data\n",
        "Y"
      ]
    },
    {
      "cell_type": "code",
      "execution_count": 12,
      "metadata": {
        "colab": {
          "base_uri": "https://localhost:8080/"
        },
        "id": "FL8hZn-EaQxS",
        "outputId": "8a21e298-58de-4153-f518-a4a94ed86dcf"
      },
      "outputs": [
        {
          "output_type": "stream",
          "name": "stdout",
          "text": [
            "<class 'pandas.core.frame.DataFrame'>\n",
            "RangeIndex: 18944 entries, 0 to 18943\n",
            "Data columns (total 53 columns):\n",
            " #   Column                       Non-Null Count  Dtype  \n",
            "---  ------                       --------------  -----  \n",
            " 0   potential                    18944 non-null  int64  \n",
            " 1   value_eur                    18707 non-null  float64\n",
            " 2   wage_eur                     18719 non-null  float64\n",
            " 3   age                          18944 non-null  int64  \n",
            " 4   height_cm                    18944 non-null  int64  \n",
            " 5   weight_kg                    18944 non-null  int64  \n",
            " 6   league_level                 18719 non-null  float64\n",
            " 7   club_jersey_number           18719 non-null  float64\n",
            " 8   club_contract_valid_until    18719 non-null  float64\n",
            " 9   weak_foot                    18944 non-null  int64  \n",
            " 10  skill_moves                  18944 non-null  int64  \n",
            " 11  international_reputation     18944 non-null  int64  \n",
            " 12  release_clause_eur           17949 non-null  float64\n",
            " 13  pace                         16861 non-null  float64\n",
            " 14  shooting                     16861 non-null  float64\n",
            " 15  passing                      16861 non-null  float64\n",
            " 16  dribbling                    16861 non-null  float64\n",
            " 17  defending                    16861 non-null  float64\n",
            " 18  physic                       16861 non-null  float64\n",
            " 19  attacking_crossing           18944 non-null  int64  \n",
            " 20  attacking_finishing          18944 non-null  int64  \n",
            " 21  attacking_heading_accuracy   18944 non-null  int64  \n",
            " 22  attacking_short_passing      18944 non-null  int64  \n",
            " 23  attacking_volleys            18944 non-null  int64  \n",
            " 24  skill_dribbling              18944 non-null  int64  \n",
            " 25  skill_curve                  18944 non-null  int64  \n",
            " 26  skill_fk_accuracy            18944 non-null  int64  \n",
            " 27  skill_long_passing           18944 non-null  int64  \n",
            " 28  skill_ball_control           18944 non-null  int64  \n",
            " 29  movement_acceleration        18944 non-null  int64  \n",
            " 30  movement_sprint_speed        18944 non-null  int64  \n",
            " 31  movement_agility             18944 non-null  int64  \n",
            " 32  movement_reactions           18944 non-null  int64  \n",
            " 33  movement_balance             18944 non-null  int64  \n",
            " 34  power_shot_power             18944 non-null  int64  \n",
            " 35  power_jumping                18944 non-null  int64  \n",
            " 36  power_stamina                18944 non-null  int64  \n",
            " 37  power_strength               18944 non-null  int64  \n",
            " 38  power_long_shots             18944 non-null  int64  \n",
            " 39  mentality_aggression         18944 non-null  int64  \n",
            " 40  mentality_interceptions      18944 non-null  int64  \n",
            " 41  mentality_positioning        18944 non-null  int64  \n",
            " 42  mentality_vision             18944 non-null  int64  \n",
            " 43  mentality_penalties          18944 non-null  int64  \n",
            " 44  mentality_composure          18944 non-null  int64  \n",
            " 45  defending_marking_awareness  18944 non-null  int64  \n",
            " 46  defending_standing_tackle    18944 non-null  int64  \n",
            " 47  defending_sliding_tackle     18944 non-null  int64  \n",
            " 48  goalkeeping_diving           18944 non-null  int64  \n",
            " 49  goalkeeping_handling         18944 non-null  int64  \n",
            " 50  goalkeeping_kicking          18944 non-null  int64  \n",
            " 51  goalkeeping_positioning      18944 non-null  int64  \n",
            " 52  goalkeeping_reflexes         18944 non-null  int64  \n",
            "dtypes: float64(12), int64(41)\n",
            "memory usage: 7.7 MB\n"
          ]
        }
      ],
      "source": [
        "#grouped columns that are numeric\n",
        "numeric_training = training_data.select_dtypes(include=['int', 'float']).columns # extract numeric data\n",
        "numeric_training = training_data[numeric_training]\n",
        "numeric_training.info()"
      ]
    },
    {
      "cell_type": "code",
      "execution_count": 13,
      "metadata": {
        "colab": {
          "base_uri": "https://localhost:8080/"
        },
        "id": "C7EOAdIme6qQ",
        "outputId": "3e515790-c74e-4845-a14f-32a160517849"
      },
      "outputs": [
        {
          "output_type": "stream",
          "name": "stdout",
          "text": [
            "<class 'pandas.core.frame.DataFrame'>\n",
            "RangeIndex: 18944 entries, 0 to 18943\n",
            "Data columns (total 53 columns):\n",
            " #   Column                       Non-Null Count  Dtype  \n",
            "---  ------                       --------------  -----  \n",
            " 0   potential                    18944 non-null  float64\n",
            " 1   value_eur                    18944 non-null  float64\n",
            " 2   wage_eur                     18944 non-null  float64\n",
            " 3   age                          18944 non-null  float64\n",
            " 4   height_cm                    18944 non-null  float64\n",
            " 5   weight_kg                    18944 non-null  float64\n",
            " 6   league_level                 18944 non-null  float64\n",
            " 7   club_jersey_number           18944 non-null  float64\n",
            " 8   club_contract_valid_until    18944 non-null  float64\n",
            " 9   weak_foot                    18944 non-null  float64\n",
            " 10  skill_moves                  18944 non-null  float64\n",
            " 11  international_reputation     18944 non-null  float64\n",
            " 12  release_clause_eur           18944 non-null  float64\n",
            " 13  pace                         18944 non-null  float64\n",
            " 14  shooting                     18944 non-null  float64\n",
            " 15  passing                      18944 non-null  float64\n",
            " 16  dribbling                    18944 non-null  float64\n",
            " 17  defending                    18944 non-null  float64\n",
            " 18  physic                       18944 non-null  float64\n",
            " 19  attacking_crossing           18944 non-null  float64\n",
            " 20  attacking_finishing          18944 non-null  float64\n",
            " 21  attacking_heading_accuracy   18944 non-null  float64\n",
            " 22  attacking_short_passing      18944 non-null  float64\n",
            " 23  attacking_volleys            18944 non-null  float64\n",
            " 24  skill_dribbling              18944 non-null  float64\n",
            " 25  skill_curve                  18944 non-null  float64\n",
            " 26  skill_fk_accuracy            18944 non-null  float64\n",
            " 27  skill_long_passing           18944 non-null  float64\n",
            " 28  skill_ball_control           18944 non-null  float64\n",
            " 29  movement_acceleration        18944 non-null  float64\n",
            " 30  movement_sprint_speed        18944 non-null  float64\n",
            " 31  movement_agility             18944 non-null  float64\n",
            " 32  movement_reactions           18944 non-null  float64\n",
            " 33  movement_balance             18944 non-null  float64\n",
            " 34  power_shot_power             18944 non-null  float64\n",
            " 35  power_jumping                18944 non-null  float64\n",
            " 36  power_stamina                18944 non-null  float64\n",
            " 37  power_strength               18944 non-null  float64\n",
            " 38  power_long_shots             18944 non-null  float64\n",
            " 39  mentality_aggression         18944 non-null  float64\n",
            " 40  mentality_interceptions      18944 non-null  float64\n",
            " 41  mentality_positioning        18944 non-null  float64\n",
            " 42  mentality_vision             18944 non-null  float64\n",
            " 43  mentality_penalties          18944 non-null  float64\n",
            " 44  mentality_composure          18944 non-null  float64\n",
            " 45  defending_marking_awareness  18944 non-null  float64\n",
            " 46  defending_standing_tackle    18944 non-null  float64\n",
            " 47  defending_sliding_tackle     18944 non-null  float64\n",
            " 48  goalkeeping_diving           18944 non-null  float64\n",
            " 49  goalkeeping_handling         18944 non-null  float64\n",
            " 50  goalkeeping_kicking          18944 non-null  float64\n",
            " 51  goalkeeping_positioning      18944 non-null  float64\n",
            " 52  goalkeeping_reflexes         18944 non-null  float64\n",
            "dtypes: float64(53)\n",
            "memory usage: 7.7 MB\n"
          ]
        }
      ],
      "source": [
        "#impute the numeric data using median\n",
        "imp = SimpleImputer(strategy = 'median')\n",
        "numeric_training = pd.DataFrame(imp.fit_transform(numeric_training), columns=numeric_training.columns)\n",
        "numeric_training.info()"
      ]
    },
    {
      "cell_type": "code",
      "execution_count": 14,
      "metadata": {
        "colab": {
          "base_uri": "https://localhost:8080/"
        },
        "id": "6771KKurg4Q6",
        "outputId": "6af87c03-0a8a-4a86-856d-42ef2da5f072"
      },
      "outputs": [
        {
          "output_type": "stream",
          "name": "stdout",
          "text": [
            "<class 'pandas.core.frame.DataFrame'>\n",
            "RangeIndex: 18944 entries, 0 to 18943\n",
            "Data columns (total 39 columns):\n",
            " #   Column            Non-Null Count  Dtype \n",
            "---  ------            --------------  ----- \n",
            " 0   short_name        18944 non-null  object\n",
            " 1   long_name         18944 non-null  object\n",
            " 2   player_positions  18944 non-null  object\n",
            " 3   club_name         18719 non-null  object\n",
            " 4   league_name       18719 non-null  object\n",
            " 5   club_position     18719 non-null  object\n",
            " 6   club_joined       17961 non-null  object\n",
            " 7   nationality_name  18944 non-null  object\n",
            " 8   preferred_foot    18944 non-null  object\n",
            " 9   work_rate         18944 non-null  object\n",
            " 10  body_type         18944 non-null  object\n",
            " 11  real_face         18944 non-null  object\n",
            " 12  ls                18944 non-null  object\n",
            " 13  st                18944 non-null  object\n",
            " 14  rs                18944 non-null  object\n",
            " 15  lw                18944 non-null  object\n",
            " 16  lf                18944 non-null  object\n",
            " 17  cf                18944 non-null  object\n",
            " 18  rf                18944 non-null  object\n",
            " 19  rw                18944 non-null  object\n",
            " 20  lam               18944 non-null  object\n",
            " 21  cam               18944 non-null  object\n",
            " 22  ram               18944 non-null  object\n",
            " 23  lm                18944 non-null  object\n",
            " 24  lcm               18944 non-null  object\n",
            " 25  cm                18944 non-null  object\n",
            " 26  rcm               18944 non-null  object\n",
            " 27  rm                18944 non-null  object\n",
            " 28  lwb               18944 non-null  object\n",
            " 29  ldm               18944 non-null  object\n",
            " 30  cdm               18944 non-null  object\n",
            " 31  rdm               18944 non-null  object\n",
            " 32  rwb               18944 non-null  object\n",
            " 33  lb                18944 non-null  object\n",
            " 34  lcb               18944 non-null  object\n",
            " 35  cb                18944 non-null  object\n",
            " 36  rcb               18944 non-null  object\n",
            " 37  rb                18944 non-null  object\n",
            " 38  gk                18944 non-null  object\n",
            "dtypes: object(39)\n",
            "memory usage: 5.6+ MB\n"
          ]
        }
      ],
      "source": [
        "#grouped all columns with non-numeric values and are objects\n",
        "\n",
        "object_training = training_data.select_dtypes(exclude= ['int', 'float']).columns # extract the object data\n",
        "object_training = training_data[object_training]\n",
        "object_training.info()"
      ]
    },
    {
      "cell_type": "code",
      "execution_count": 15,
      "metadata": {
        "colab": {
          "base_uri": "https://localhost:8080/"
        },
        "id": "dGeLk3D-g-Rp",
        "outputId": "5f2efafe-ca4a-47f6-bdc0-3a2dc9ec1d19"
      },
      "outputs": [
        {
          "output_type": "stream",
          "name": "stdout",
          "text": [
            "<class 'pandas.core.frame.DataFrame'>\n",
            "RangeIndex: 18944 entries, 0 to 18943\n",
            "Data columns (total 39 columns):\n",
            " #   Column            Non-Null Count  Dtype \n",
            "---  ------            --------------  ----- \n",
            " 0   short_name        18944 non-null  object\n",
            " 1   long_name         18944 non-null  object\n",
            " 2   player_positions  18944 non-null  object\n",
            " 3   club_name         18944 non-null  object\n",
            " 4   league_name       18944 non-null  object\n",
            " 5   club_position     18944 non-null  object\n",
            " 6   club_joined       18944 non-null  object\n",
            " 7   nationality_name  18944 non-null  object\n",
            " 8   preferred_foot    18944 non-null  object\n",
            " 9   work_rate         18944 non-null  object\n",
            " 10  body_type         18944 non-null  object\n",
            " 11  real_face         18944 non-null  object\n",
            " 12  ls                18944 non-null  object\n",
            " 13  st                18944 non-null  object\n",
            " 14  rs                18944 non-null  object\n",
            " 15  lw                18944 non-null  object\n",
            " 16  lf                18944 non-null  object\n",
            " 17  cf                18944 non-null  object\n",
            " 18  rf                18944 non-null  object\n",
            " 19  rw                18944 non-null  object\n",
            " 20  lam               18944 non-null  object\n",
            " 21  cam               18944 non-null  object\n",
            " 22  ram               18944 non-null  object\n",
            " 23  lm                18944 non-null  object\n",
            " 24  lcm               18944 non-null  object\n",
            " 25  cm                18944 non-null  object\n",
            " 26  rcm               18944 non-null  object\n",
            " 27  rm                18944 non-null  object\n",
            " 28  lwb               18944 non-null  object\n",
            " 29  ldm               18944 non-null  object\n",
            " 30  cdm               18944 non-null  object\n",
            " 31  rdm               18944 non-null  object\n",
            " 32  rwb               18944 non-null  object\n",
            " 33  lb                18944 non-null  object\n",
            " 34  lcb               18944 non-null  object\n",
            " 35  cb                18944 non-null  object\n",
            " 36  rcb               18944 non-null  object\n",
            " 37  rb                18944 non-null  object\n",
            " 38  gk                18944 non-null  object\n",
            "dtypes: object(39)\n",
            "memory usage: 5.6+ MB\n"
          ]
        }
      ],
      "source": [
        "#imputed the non numeric values using most_frequent ie. to fill in with the most appearing\n",
        "imp = SimpleImputer(strategy='most_frequent') # impute the object data\n",
        "object_training = pd.DataFrame(imp.fit_transform(object_training), columns = object_training.columns)\n",
        "object_training.info()"
      ]
    },
    {
      "cell_type": "code",
      "execution_count": 16,
      "metadata": {
        "colab": {
          "base_uri": "https://localhost:8080/"
        },
        "id": "Er53XaSzfpb-",
        "outputId": "00550572-ff60-4e02-8946-89926bd11a38"
      },
      "outputs": [
        {
          "output_type": "stream",
          "name": "stdout",
          "text": [
            "<class 'pandas.core.frame.DataFrame'>\n",
            "RangeIndex: 18944 entries, 0 to 18943\n",
            "Data columns (total 39 columns):\n",
            " #   Column            Non-Null Count  Dtype\n",
            "---  ------            --------------  -----\n",
            " 0   short_name        18944 non-null  int64\n",
            " 1   long_name         18944 non-null  int64\n",
            " 2   player_positions  18944 non-null  int64\n",
            " 3   club_name         18944 non-null  int64\n",
            " 4   league_name       18944 non-null  int64\n",
            " 5   club_position     18944 non-null  int64\n",
            " 6   club_joined       18944 non-null  int64\n",
            " 7   nationality_name  18944 non-null  int64\n",
            " 8   preferred_foot    18944 non-null  int64\n",
            " 9   work_rate         18944 non-null  int64\n",
            " 10  body_type         18944 non-null  int64\n",
            " 11  real_face         18944 non-null  int64\n",
            " 12  ls                18944 non-null  int64\n",
            " 13  st                18944 non-null  int64\n",
            " 14  rs                18944 non-null  int64\n",
            " 15  lw                18944 non-null  int64\n",
            " 16  lf                18944 non-null  int64\n",
            " 17  cf                18944 non-null  int64\n",
            " 18  rf                18944 non-null  int64\n",
            " 19  rw                18944 non-null  int64\n",
            " 20  lam               18944 non-null  int64\n",
            " 21  cam               18944 non-null  int64\n",
            " 22  ram               18944 non-null  int64\n",
            " 23  lm                18944 non-null  int64\n",
            " 24  lcm               18944 non-null  int64\n",
            " 25  cm                18944 non-null  int64\n",
            " 26  rcm               18944 non-null  int64\n",
            " 27  rm                18944 non-null  int64\n",
            " 28  lwb               18944 non-null  int64\n",
            " 29  ldm               18944 non-null  int64\n",
            " 30  cdm               18944 non-null  int64\n",
            " 31  rdm               18944 non-null  int64\n",
            " 32  rwb               18944 non-null  int64\n",
            " 33  lb                18944 non-null  int64\n",
            " 34  lcb               18944 non-null  int64\n",
            " 35  cb                18944 non-null  int64\n",
            " 36  rcb               18944 non-null  int64\n",
            " 37  rb                18944 non-null  int64\n",
            " 38  gk                18944 non-null  int64\n",
            "dtypes: int64(39)\n",
            "memory usage: 5.6 MB\n"
          ]
        }
      ],
      "source": [
        "#encode the object data using the label encoder\n",
        "encoded_object = pd.DataFrame() # encode the object data\n",
        "for c in object_training.columns:\n",
        "  label_encoder = LabelEncoder()\n",
        "  encoded_object[c] = label_encoder.fit_transform(object_training[c])\n",
        "encoded_object.info()"
      ]
    },
    {
      "cell_type": "code",
      "execution_count": 17,
      "metadata": {
        "colab": {
          "base_uri": "https://localhost:8080/"
        },
        "id": "PI5MaSinhsYc",
        "outputId": "8e6e4c56-99b7-4898-de5c-15ea7dc4c451"
      },
      "outputs": [
        {
          "output_type": "stream",
          "name": "stdout",
          "text": [
            "<class 'pandas.core.frame.DataFrame'>\n",
            "RangeIndex: 18944 entries, 0 to 18943\n",
            "Data columns (total 93 columns):\n",
            " #   Column                       Non-Null Count  Dtype  \n",
            "---  ------                       --------------  -----  \n",
            " 0   short_name                   18944 non-null  int64  \n",
            " 1   long_name                    18944 non-null  int64  \n",
            " 2   player_positions             18944 non-null  int64  \n",
            " 3   club_name                    18944 non-null  int64  \n",
            " 4   league_name                  18944 non-null  int64  \n",
            " 5   club_position                18944 non-null  int64  \n",
            " 6   club_joined                  18944 non-null  int64  \n",
            " 7   nationality_name             18944 non-null  int64  \n",
            " 8   preferred_foot               18944 non-null  int64  \n",
            " 9   work_rate                    18944 non-null  int64  \n",
            " 10  body_type                    18944 non-null  int64  \n",
            " 11  real_face                    18944 non-null  int64  \n",
            " 12  ls                           18944 non-null  int64  \n",
            " 13  st                           18944 non-null  int64  \n",
            " 14  rs                           18944 non-null  int64  \n",
            " 15  lw                           18944 non-null  int64  \n",
            " 16  lf                           18944 non-null  int64  \n",
            " 17  cf                           18944 non-null  int64  \n",
            " 18  rf                           18944 non-null  int64  \n",
            " 19  rw                           18944 non-null  int64  \n",
            " 20  lam                          18944 non-null  int64  \n",
            " 21  cam                          18944 non-null  int64  \n",
            " 22  ram                          18944 non-null  int64  \n",
            " 23  lm                           18944 non-null  int64  \n",
            " 24  lcm                          18944 non-null  int64  \n",
            " 25  cm                           18944 non-null  int64  \n",
            " 26  rcm                          18944 non-null  int64  \n",
            " 27  rm                           18944 non-null  int64  \n",
            " 28  lwb                          18944 non-null  int64  \n",
            " 29  ldm                          18944 non-null  int64  \n",
            " 30  cdm                          18944 non-null  int64  \n",
            " 31  rdm                          18944 non-null  int64  \n",
            " 32  rwb                          18944 non-null  int64  \n",
            " 33  lb                           18944 non-null  int64  \n",
            " 34  lcb                          18944 non-null  int64  \n",
            " 35  cb                           18944 non-null  int64  \n",
            " 36  rcb                          18944 non-null  int64  \n",
            " 37  rb                           18944 non-null  int64  \n",
            " 38  gk                           18944 non-null  int64  \n",
            " 39  potential                    18944 non-null  float64\n",
            " 40  value_eur                    18944 non-null  float64\n",
            " 41  wage_eur                     18944 non-null  float64\n",
            " 42  age                          18944 non-null  float64\n",
            " 43  height_cm                    18944 non-null  float64\n",
            " 44  weight_kg                    18944 non-null  float64\n",
            " 45  league_level                 18944 non-null  float64\n",
            " 46  club_jersey_number           18944 non-null  float64\n",
            " 47  club_contract_valid_until    18944 non-null  float64\n",
            " 48  weak_foot                    18944 non-null  float64\n",
            " 49  skill_moves                  18944 non-null  float64\n",
            " 50  international_reputation     18944 non-null  float64\n",
            " 51  release_clause_eur           18944 non-null  float64\n",
            " 52  pace                         18944 non-null  float64\n",
            " 53  shooting                     18944 non-null  float64\n",
            " 54  passing                      18944 non-null  float64\n",
            " 55  dribbling                    18944 non-null  float64\n",
            " 56  defending                    18944 non-null  float64\n",
            " 57  physic                       18944 non-null  float64\n",
            " 58  attacking_crossing           18944 non-null  float64\n",
            " 59  attacking_finishing          18944 non-null  float64\n",
            " 60  attacking_heading_accuracy   18944 non-null  float64\n",
            " 61  attacking_short_passing      18944 non-null  float64\n",
            " 62  attacking_volleys            18944 non-null  float64\n",
            " 63  skill_dribbling              18944 non-null  float64\n",
            " 64  skill_curve                  18944 non-null  float64\n",
            " 65  skill_fk_accuracy            18944 non-null  float64\n",
            " 66  skill_long_passing           18944 non-null  float64\n",
            " 67  skill_ball_control           18944 non-null  float64\n",
            " 68  movement_acceleration        18944 non-null  float64\n",
            " 69  movement_sprint_speed        18944 non-null  float64\n",
            " 70  movement_agility             18944 non-null  float64\n",
            " 71  movement_reactions           18944 non-null  float64\n",
            " 72  movement_balance             18944 non-null  float64\n",
            " 73  power_shot_power             18944 non-null  float64\n",
            " 74  power_jumping                18944 non-null  float64\n",
            " 75  power_stamina                18944 non-null  float64\n",
            " 76  power_strength               18944 non-null  float64\n",
            " 77  power_long_shots             18944 non-null  float64\n",
            " 78  mentality_aggression         18944 non-null  float64\n",
            " 79  mentality_interceptions      18944 non-null  float64\n",
            " 80  mentality_positioning        18944 non-null  float64\n",
            " 81  mentality_vision             18944 non-null  float64\n",
            " 82  mentality_penalties          18944 non-null  float64\n",
            " 83  mentality_composure          18944 non-null  float64\n",
            " 84  defending_marking_awareness  18944 non-null  float64\n",
            " 85  defending_standing_tackle    18944 non-null  float64\n",
            " 86  defending_sliding_tackle     18944 non-null  float64\n",
            " 87  goalkeeping_diving           18944 non-null  float64\n",
            " 88  goalkeeping_handling         18944 non-null  float64\n",
            " 89  goalkeeping_kicking          18944 non-null  float64\n",
            " 90  goalkeeping_positioning      18944 non-null  float64\n",
            " 91  goalkeeping_reflexes         18944 non-null  float64\n",
            " 92  overall                      18944 non-null  int64  \n",
            "dtypes: float64(53), int64(40)\n",
            "memory usage: 13.4 MB\n"
          ]
        }
      ],
      "source": [
        "# combine numeric column and object column with overall\n",
        "training_data = pd.DataFrame()\n",
        "training_data = pd.concat([encoded_object, numeric_training], axis = 1)\n",
        "training_data['overall'] = Y\n",
        "training_data.info()"
      ]
    },
    {
      "cell_type": "markdown",
      "metadata": {
        "id": "MQ9rtM-_R2fT"
      },
      "source": [
        "# **2. Feature Subsets**"
      ]
    },
    {
      "cell_type": "code",
      "execution_count": 18,
      "metadata": {
        "colab": {
          "base_uri": "https://localhost:8080/"
        },
        "id": "LrkyZs8pjH0G",
        "outputId": "f94035bc-7e3b-41d3-f502-6551a1b034aa"
      },
      "outputs": [
        {
          "output_type": "stream",
          "name": "stdout",
          "text": [
            "<class 'pandas.core.frame.DataFrame'>\n",
            "RangeIndex: 18944 entries, 0 to 18943\n",
            "Data columns (total 92 columns):\n",
            " #   Column                       Non-Null Count  Dtype  \n",
            "---  ------                       --------------  -----  \n",
            " 0   short_name                   18944 non-null  int64  \n",
            " 1   long_name                    18944 non-null  int64  \n",
            " 2   player_positions             18944 non-null  int64  \n",
            " 3   club_name                    18944 non-null  int64  \n",
            " 4   league_name                  18944 non-null  int64  \n",
            " 5   club_position                18944 non-null  int64  \n",
            " 6   club_joined                  18944 non-null  int64  \n",
            " 7   nationality_name             18944 non-null  int64  \n",
            " 8   preferred_foot               18944 non-null  int64  \n",
            " 9   work_rate                    18944 non-null  int64  \n",
            " 10  body_type                    18944 non-null  int64  \n",
            " 11  real_face                    18944 non-null  int64  \n",
            " 12  ls                           18944 non-null  int64  \n",
            " 13  st                           18944 non-null  int64  \n",
            " 14  rs                           18944 non-null  int64  \n",
            " 15  lw                           18944 non-null  int64  \n",
            " 16  lf                           18944 non-null  int64  \n",
            " 17  cf                           18944 non-null  int64  \n",
            " 18  rf                           18944 non-null  int64  \n",
            " 19  rw                           18944 non-null  int64  \n",
            " 20  lam                          18944 non-null  int64  \n",
            " 21  cam                          18944 non-null  int64  \n",
            " 22  ram                          18944 non-null  int64  \n",
            " 23  lm                           18944 non-null  int64  \n",
            " 24  lcm                          18944 non-null  int64  \n",
            " 25  cm                           18944 non-null  int64  \n",
            " 26  rcm                          18944 non-null  int64  \n",
            " 27  rm                           18944 non-null  int64  \n",
            " 28  lwb                          18944 non-null  int64  \n",
            " 29  ldm                          18944 non-null  int64  \n",
            " 30  cdm                          18944 non-null  int64  \n",
            " 31  rdm                          18944 non-null  int64  \n",
            " 32  rwb                          18944 non-null  int64  \n",
            " 33  lb                           18944 non-null  int64  \n",
            " 34  lcb                          18944 non-null  int64  \n",
            " 35  cb                           18944 non-null  int64  \n",
            " 36  rcb                          18944 non-null  int64  \n",
            " 37  rb                           18944 non-null  int64  \n",
            " 38  gk                           18944 non-null  int64  \n",
            " 39  potential                    18944 non-null  float64\n",
            " 40  value_eur                    18944 non-null  float64\n",
            " 41  wage_eur                     18944 non-null  float64\n",
            " 42  age                          18944 non-null  float64\n",
            " 43  height_cm                    18944 non-null  float64\n",
            " 44  weight_kg                    18944 non-null  float64\n",
            " 45  league_level                 18944 non-null  float64\n",
            " 46  club_jersey_number           18944 non-null  float64\n",
            " 47  club_contract_valid_until    18944 non-null  float64\n",
            " 48  weak_foot                    18944 non-null  float64\n",
            " 49  skill_moves                  18944 non-null  float64\n",
            " 50  international_reputation     18944 non-null  float64\n",
            " 51  release_clause_eur           18944 non-null  float64\n",
            " 52  pace                         18944 non-null  float64\n",
            " 53  shooting                     18944 non-null  float64\n",
            " 54  passing                      18944 non-null  float64\n",
            " 55  dribbling                    18944 non-null  float64\n",
            " 56  defending                    18944 non-null  float64\n",
            " 57  physic                       18944 non-null  float64\n",
            " 58  attacking_crossing           18944 non-null  float64\n",
            " 59  attacking_finishing          18944 non-null  float64\n",
            " 60  attacking_heading_accuracy   18944 non-null  float64\n",
            " 61  attacking_short_passing      18944 non-null  float64\n",
            " 62  attacking_volleys            18944 non-null  float64\n",
            " 63  skill_dribbling              18944 non-null  float64\n",
            " 64  skill_curve                  18944 non-null  float64\n",
            " 65  skill_fk_accuracy            18944 non-null  float64\n",
            " 66  skill_long_passing           18944 non-null  float64\n",
            " 67  skill_ball_control           18944 non-null  float64\n",
            " 68  movement_acceleration        18944 non-null  float64\n",
            " 69  movement_sprint_speed        18944 non-null  float64\n",
            " 70  movement_agility             18944 non-null  float64\n",
            " 71  movement_reactions           18944 non-null  float64\n",
            " 72  movement_balance             18944 non-null  float64\n",
            " 73  power_shot_power             18944 non-null  float64\n",
            " 74  power_jumping                18944 non-null  float64\n",
            " 75  power_stamina                18944 non-null  float64\n",
            " 76  power_strength               18944 non-null  float64\n",
            " 77  power_long_shots             18944 non-null  float64\n",
            " 78  mentality_aggression         18944 non-null  float64\n",
            " 79  mentality_interceptions      18944 non-null  float64\n",
            " 80  mentality_positioning        18944 non-null  float64\n",
            " 81  mentality_vision             18944 non-null  float64\n",
            " 82  mentality_penalties          18944 non-null  float64\n",
            " 83  mentality_composure          18944 non-null  float64\n",
            " 84  defending_marking_awareness  18944 non-null  float64\n",
            " 85  defending_standing_tackle    18944 non-null  float64\n",
            " 86  defending_sliding_tackle     18944 non-null  float64\n",
            " 87  goalkeeping_diving           18944 non-null  float64\n",
            " 88  goalkeeping_handling         18944 non-null  float64\n",
            " 89  goalkeeping_kicking          18944 non-null  float64\n",
            " 90  goalkeeping_positioning      18944 non-null  float64\n",
            " 91  goalkeeping_reflexes         18944 non-null  float64\n",
            "dtypes: float64(53), int64(39)\n",
            "memory usage: 13.3 MB\n"
          ]
        }
      ],
      "source": [
        "#removing overall from the training data\n",
        "Y = training_data['overall'] # extract overall\n",
        "training_data.drop('overall', axis = 1, inplace = True) # drop overall\n",
        "training_data.info()"
      ]
    },
    {
      "cell_type": "code",
      "execution_count": 19,
      "metadata": {
        "colab": {
          "base_uri": "https://localhost:8080/",
          "height": 256
        },
        "id": "AtzPQJ78tuHS",
        "outputId": "734ce917-728e-466a-f638-5c090a250b7a"
      },
      "outputs": [
        {
          "output_type": "execute_result",
          "data": {
            "text/plain": [
              "   short_name  long_name  player_positions  club_name  league_name  \\\n",
              "0    0.223634   0.153247          1.568777  -0.491360     1.206900   \n",
              "1   -1.096741  -1.122359          1.831158   0.126154     0.002573   \n",
              "2    1.052997   0.955762          1.683569  -0.481319    -0.351641   \n",
              "3    0.796225   0.640429          0.431791   0.628198    -0.493327   \n",
              "4    0.015420   0.029530         -1.322884   0.357095    -0.635012   \n",
              "\n",
              "   club_position  club_joined  nationality_name  preferred_foot  work_rate  \\\n",
              "0      -2.570374    -2.830054         -1.506000        -1.79263   0.439865   \n",
              "1      -0.984269    -0.287383          0.907801         0.55784  -1.649167   \n",
              "2       0.723843    -2.196078          0.887170         0.55784  -1.300995   \n",
              "3      -0.862261    -0.844650         -1.217169         0.55784  -1.300995   \n",
              "4      -0.252221    -1.749363         -1.340954         0.55784  -1.997338   \n",
              "\n",
              "   ...  mentality_penalties  mentality_composure  defending_marking_awareness  \\\n",
              "0  ...             1.719677             3.137573                    -0.717436   \n",
              "1  ...             2.293975             3.055051                    -0.915760   \n",
              "2  ...             2.549219             2.477402                    -0.568694   \n",
              "3  ...             2.804462             2.890009                    -0.568694   \n",
              "4  ...             2.293975             2.724966                     1.067476   \n",
              "\n",
              "   defending_standing_tackle  defending_sliding_tackle  goalkeeping_diving  \\\n",
              "0                  -0.587881                 -1.028304           -0.594307   \n",
              "1                  -0.728055                 -1.028304           -0.537414   \n",
              "2                  -0.260807                 -1.266928           -0.082270   \n",
              "3                  -0.821505                 -0.789680           -0.423628   \n",
              "4                   0.813864                  0.355717           -0.082270   \n",
              "\n",
              "   goalkeeping_handling  goalkeeping_kicking  goalkeeping_positioning  \\\n",
              "0             -0.310862            -0.066793                -0.130810   \n",
              "1             -0.310862            -0.066793                -0.130810   \n",
              "2             -0.607686            -0.248403                -0.483401   \n",
              "3             -0.429592            -0.066793                -0.072045   \n",
              "4             -0.192133            -0.672158                -0.365871   \n",
              "\n",
              "   goalkeeping_reflexes  \n",
              "0             -0.478324  \n",
              "1             -0.310517  \n",
              "2             -0.366452  \n",
              "3             -0.310517  \n",
              "4             -0.198645  \n",
              "\n",
              "[5 rows x 92 columns]"
            ],
            "text/html": [
              "\n",
              "  <div id=\"df-cd8e725b-08df-4f72-8f2c-320d762d3882\" class=\"colab-df-container\">\n",
              "    <div>\n",
              "<style scoped>\n",
              "    .dataframe tbody tr th:only-of-type {\n",
              "        vertical-align: middle;\n",
              "    }\n",
              "\n",
              "    .dataframe tbody tr th {\n",
              "        vertical-align: top;\n",
              "    }\n",
              "\n",
              "    .dataframe thead th {\n",
              "        text-align: right;\n",
              "    }\n",
              "</style>\n",
              "<table border=\"1\" class=\"dataframe\">\n",
              "  <thead>\n",
              "    <tr style=\"text-align: right;\">\n",
              "      <th></th>\n",
              "      <th>short_name</th>\n",
              "      <th>long_name</th>\n",
              "      <th>player_positions</th>\n",
              "      <th>club_name</th>\n",
              "      <th>league_name</th>\n",
              "      <th>club_position</th>\n",
              "      <th>club_joined</th>\n",
              "      <th>nationality_name</th>\n",
              "      <th>preferred_foot</th>\n",
              "      <th>work_rate</th>\n",
              "      <th>...</th>\n",
              "      <th>mentality_penalties</th>\n",
              "      <th>mentality_composure</th>\n",
              "      <th>defending_marking_awareness</th>\n",
              "      <th>defending_standing_tackle</th>\n",
              "      <th>defending_sliding_tackle</th>\n",
              "      <th>goalkeeping_diving</th>\n",
              "      <th>goalkeeping_handling</th>\n",
              "      <th>goalkeeping_kicking</th>\n",
              "      <th>goalkeeping_positioning</th>\n",
              "      <th>goalkeeping_reflexes</th>\n",
              "    </tr>\n",
              "  </thead>\n",
              "  <tbody>\n",
              "    <tr>\n",
              "      <th>0</th>\n",
              "      <td>0.223634</td>\n",
              "      <td>0.153247</td>\n",
              "      <td>1.568777</td>\n",
              "      <td>-0.491360</td>\n",
              "      <td>1.206900</td>\n",
              "      <td>-2.570374</td>\n",
              "      <td>-2.830054</td>\n",
              "      <td>-1.506000</td>\n",
              "      <td>-1.79263</td>\n",
              "      <td>0.439865</td>\n",
              "      <td>...</td>\n",
              "      <td>1.719677</td>\n",
              "      <td>3.137573</td>\n",
              "      <td>-0.717436</td>\n",
              "      <td>-0.587881</td>\n",
              "      <td>-1.028304</td>\n",
              "      <td>-0.594307</td>\n",
              "      <td>-0.310862</td>\n",
              "      <td>-0.066793</td>\n",
              "      <td>-0.130810</td>\n",
              "      <td>-0.478324</td>\n",
              "    </tr>\n",
              "    <tr>\n",
              "      <th>1</th>\n",
              "      <td>-1.096741</td>\n",
              "      <td>-1.122359</td>\n",
              "      <td>1.831158</td>\n",
              "      <td>0.126154</td>\n",
              "      <td>0.002573</td>\n",
              "      <td>-0.984269</td>\n",
              "      <td>-0.287383</td>\n",
              "      <td>0.907801</td>\n",
              "      <td>0.55784</td>\n",
              "      <td>-1.649167</td>\n",
              "      <td>...</td>\n",
              "      <td>2.293975</td>\n",
              "      <td>3.055051</td>\n",
              "      <td>-0.915760</td>\n",
              "      <td>-0.728055</td>\n",
              "      <td>-1.028304</td>\n",
              "      <td>-0.537414</td>\n",
              "      <td>-0.310862</td>\n",
              "      <td>-0.066793</td>\n",
              "      <td>-0.130810</td>\n",
              "      <td>-0.310517</td>\n",
              "    </tr>\n",
              "    <tr>\n",
              "      <th>2</th>\n",
              "      <td>1.052997</td>\n",
              "      <td>0.955762</td>\n",
              "      <td>1.683569</td>\n",
              "      <td>-0.481319</td>\n",
              "      <td>-0.351641</td>\n",
              "      <td>0.723843</td>\n",
              "      <td>-2.196078</td>\n",
              "      <td>0.887170</td>\n",
              "      <td>0.55784</td>\n",
              "      <td>-1.300995</td>\n",
              "      <td>...</td>\n",
              "      <td>2.549219</td>\n",
              "      <td>2.477402</td>\n",
              "      <td>-0.568694</td>\n",
              "      <td>-0.260807</td>\n",
              "      <td>-1.266928</td>\n",
              "      <td>-0.082270</td>\n",
              "      <td>-0.607686</td>\n",
              "      <td>-0.248403</td>\n",
              "      <td>-0.483401</td>\n",
              "      <td>-0.366452</td>\n",
              "    </tr>\n",
              "    <tr>\n",
              "      <th>3</th>\n",
              "      <td>0.796225</td>\n",
              "      <td>0.640429</td>\n",
              "      <td>0.431791</td>\n",
              "      <td>0.628198</td>\n",
              "      <td>-0.493327</td>\n",
              "      <td>-0.862261</td>\n",
              "      <td>-0.844650</td>\n",
              "      <td>-1.217169</td>\n",
              "      <td>0.55784</td>\n",
              "      <td>-1.300995</td>\n",
              "      <td>...</td>\n",
              "      <td>2.804462</td>\n",
              "      <td>2.890009</td>\n",
              "      <td>-0.568694</td>\n",
              "      <td>-0.821505</td>\n",
              "      <td>-0.789680</td>\n",
              "      <td>-0.423628</td>\n",
              "      <td>-0.429592</td>\n",
              "      <td>-0.066793</td>\n",
              "      <td>-0.072045</td>\n",
              "      <td>-0.310517</td>\n",
              "    </tr>\n",
              "    <tr>\n",
              "      <th>4</th>\n",
              "      <td>0.015420</td>\n",
              "      <td>0.029530</td>\n",
              "      <td>-1.322884</td>\n",
              "      <td>0.357095</td>\n",
              "      <td>-0.635012</td>\n",
              "      <td>-0.252221</td>\n",
              "      <td>-1.749363</td>\n",
              "      <td>-1.340954</td>\n",
              "      <td>0.55784</td>\n",
              "      <td>-1.997338</td>\n",
              "      <td>...</td>\n",
              "      <td>2.293975</td>\n",
              "      <td>2.724966</td>\n",
              "      <td>1.067476</td>\n",
              "      <td>0.813864</td>\n",
              "      <td>0.355717</td>\n",
              "      <td>-0.082270</td>\n",
              "      <td>-0.192133</td>\n",
              "      <td>-0.672158</td>\n",
              "      <td>-0.365871</td>\n",
              "      <td>-0.198645</td>\n",
              "    </tr>\n",
              "  </tbody>\n",
              "</table>\n",
              "<p>5 rows × 92 columns</p>\n",
              "</div>\n",
              "    <div class=\"colab-df-buttons\">\n",
              "\n",
              "  <div class=\"colab-df-container\">\n",
              "    <button class=\"colab-df-convert\" onclick=\"convertToInteractive('df-cd8e725b-08df-4f72-8f2c-320d762d3882')\"\n",
              "            title=\"Convert this dataframe to an interactive table.\"\n",
              "            style=\"display:none;\">\n",
              "\n",
              "  <svg xmlns=\"http://www.w3.org/2000/svg\" height=\"24px\" viewBox=\"0 -960 960 960\">\n",
              "    <path d=\"M120-120v-720h720v720H120Zm60-500h600v-160H180v160Zm220 220h160v-160H400v160Zm0 220h160v-160H400v160ZM180-400h160v-160H180v160Zm440 0h160v-160H620v160ZM180-180h160v-160H180v160Zm440 0h160v-160H620v160Z\"/>\n",
              "  </svg>\n",
              "    </button>\n",
              "\n",
              "  <style>\n",
              "    .colab-df-container {\n",
              "      display:flex;\n",
              "      gap: 12px;\n",
              "    }\n",
              "\n",
              "    .colab-df-convert {\n",
              "      background-color: #E8F0FE;\n",
              "      border: none;\n",
              "      border-radius: 50%;\n",
              "      cursor: pointer;\n",
              "      display: none;\n",
              "      fill: #1967D2;\n",
              "      height: 32px;\n",
              "      padding: 0 0 0 0;\n",
              "      width: 32px;\n",
              "    }\n",
              "\n",
              "    .colab-df-convert:hover {\n",
              "      background-color: #E2EBFA;\n",
              "      box-shadow: 0px 1px 2px rgba(60, 64, 67, 0.3), 0px 1px 3px 1px rgba(60, 64, 67, 0.15);\n",
              "      fill: #174EA6;\n",
              "    }\n",
              "\n",
              "    .colab-df-buttons div {\n",
              "      margin-bottom: 4px;\n",
              "    }\n",
              "\n",
              "    [theme=dark] .colab-df-convert {\n",
              "      background-color: #3B4455;\n",
              "      fill: #D2E3FC;\n",
              "    }\n",
              "\n",
              "    [theme=dark] .colab-df-convert:hover {\n",
              "      background-color: #434B5C;\n",
              "      box-shadow: 0px 1px 3px 1px rgba(0, 0, 0, 0.15);\n",
              "      filter: drop-shadow(0px 1px 2px rgba(0, 0, 0, 0.3));\n",
              "      fill: #FFFFFF;\n",
              "    }\n",
              "  </style>\n",
              "\n",
              "    <script>\n",
              "      const buttonEl =\n",
              "        document.querySelector('#df-cd8e725b-08df-4f72-8f2c-320d762d3882 button.colab-df-convert');\n",
              "      buttonEl.style.display =\n",
              "        google.colab.kernel.accessAllowed ? 'block' : 'none';\n",
              "\n",
              "      async function convertToInteractive(key) {\n",
              "        const element = document.querySelector('#df-cd8e725b-08df-4f72-8f2c-320d762d3882');\n",
              "        const dataTable =\n",
              "          await google.colab.kernel.invokeFunction('convertToInteractive',\n",
              "                                                    [key], {});\n",
              "        if (!dataTable) return;\n",
              "\n",
              "        const docLinkHtml = 'Like what you see? Visit the ' +\n",
              "          '<a target=\"_blank\" href=https://colab.research.google.com/notebooks/data_table.ipynb>data table notebook</a>'\n",
              "          + ' to learn more about interactive tables.';\n",
              "        element.innerHTML = '';\n",
              "        dataTable['output_type'] = 'display_data';\n",
              "        await google.colab.output.renderOutput(dataTable, element);\n",
              "        const docLink = document.createElement('div');\n",
              "        docLink.innerHTML = docLinkHtml;\n",
              "        element.appendChild(docLink);\n",
              "      }\n",
              "    </script>\n",
              "  </div>\n",
              "\n",
              "\n",
              "<div id=\"df-2bbae962-25d0-40a5-8814-df2b87852779\">\n",
              "  <button class=\"colab-df-quickchart\" onclick=\"quickchart('df-2bbae962-25d0-40a5-8814-df2b87852779')\"\n",
              "            title=\"Suggest charts.\"\n",
              "            style=\"display:none;\">\n",
              "\n",
              "<svg xmlns=\"http://www.w3.org/2000/svg\" height=\"24px\"viewBox=\"0 0 24 24\"\n",
              "     width=\"24px\">\n",
              "    <g>\n",
              "        <path d=\"M19 3H5c-1.1 0-2 .9-2 2v14c0 1.1.9 2 2 2h14c1.1 0 2-.9 2-2V5c0-1.1-.9-2-2-2zM9 17H7v-7h2v7zm4 0h-2V7h2v10zm4 0h-2v-4h2v4z\"/>\n",
              "    </g>\n",
              "</svg>\n",
              "  </button>\n",
              "\n",
              "<style>\n",
              "  .colab-df-quickchart {\n",
              "      --bg-color: #E8F0FE;\n",
              "      --fill-color: #1967D2;\n",
              "      --hover-bg-color: #E2EBFA;\n",
              "      --hover-fill-color: #174EA6;\n",
              "      --disabled-fill-color: #AAA;\n",
              "      --disabled-bg-color: #DDD;\n",
              "  }\n",
              "\n",
              "  [theme=dark] .colab-df-quickchart {\n",
              "      --bg-color: #3B4455;\n",
              "      --fill-color: #D2E3FC;\n",
              "      --hover-bg-color: #434B5C;\n",
              "      --hover-fill-color: #FFFFFF;\n",
              "      --disabled-bg-color: #3B4455;\n",
              "      --disabled-fill-color: #666;\n",
              "  }\n",
              "\n",
              "  .colab-df-quickchart {\n",
              "    background-color: var(--bg-color);\n",
              "    border: none;\n",
              "    border-radius: 50%;\n",
              "    cursor: pointer;\n",
              "    display: none;\n",
              "    fill: var(--fill-color);\n",
              "    height: 32px;\n",
              "    padding: 0;\n",
              "    width: 32px;\n",
              "  }\n",
              "\n",
              "  .colab-df-quickchart:hover {\n",
              "    background-color: var(--hover-bg-color);\n",
              "    box-shadow: 0 1px 2px rgba(60, 64, 67, 0.3), 0 1px 3px 1px rgba(60, 64, 67, 0.15);\n",
              "    fill: var(--button-hover-fill-color);\n",
              "  }\n",
              "\n",
              "  .colab-df-quickchart-complete:disabled,\n",
              "  .colab-df-quickchart-complete:disabled:hover {\n",
              "    background-color: var(--disabled-bg-color);\n",
              "    fill: var(--disabled-fill-color);\n",
              "    box-shadow: none;\n",
              "  }\n",
              "\n",
              "  .colab-df-spinner {\n",
              "    border: 2px solid var(--fill-color);\n",
              "    border-color: transparent;\n",
              "    border-bottom-color: var(--fill-color);\n",
              "    animation:\n",
              "      spin 1s steps(1) infinite;\n",
              "  }\n",
              "\n",
              "  @keyframes spin {\n",
              "    0% {\n",
              "      border-color: transparent;\n",
              "      border-bottom-color: var(--fill-color);\n",
              "      border-left-color: var(--fill-color);\n",
              "    }\n",
              "    20% {\n",
              "      border-color: transparent;\n",
              "      border-left-color: var(--fill-color);\n",
              "      border-top-color: var(--fill-color);\n",
              "    }\n",
              "    30% {\n",
              "      border-color: transparent;\n",
              "      border-left-color: var(--fill-color);\n",
              "      border-top-color: var(--fill-color);\n",
              "      border-right-color: var(--fill-color);\n",
              "    }\n",
              "    40% {\n",
              "      border-color: transparent;\n",
              "      border-right-color: var(--fill-color);\n",
              "      border-top-color: var(--fill-color);\n",
              "    }\n",
              "    60% {\n",
              "      border-color: transparent;\n",
              "      border-right-color: var(--fill-color);\n",
              "    }\n",
              "    80% {\n",
              "      border-color: transparent;\n",
              "      border-right-color: var(--fill-color);\n",
              "      border-bottom-color: var(--fill-color);\n",
              "    }\n",
              "    90% {\n",
              "      border-color: transparent;\n",
              "      border-bottom-color: var(--fill-color);\n",
              "    }\n",
              "  }\n",
              "</style>\n",
              "\n",
              "  <script>\n",
              "    async function quickchart(key) {\n",
              "      const quickchartButtonEl =\n",
              "        document.querySelector('#' + key + ' button');\n",
              "      quickchartButtonEl.disabled = true;  // To prevent multiple clicks.\n",
              "      quickchartButtonEl.classList.add('colab-df-spinner');\n",
              "      try {\n",
              "        const charts = await google.colab.kernel.invokeFunction(\n",
              "            'suggestCharts', [key], {});\n",
              "      } catch (error) {\n",
              "        console.error('Error during call to suggestCharts:', error);\n",
              "      }\n",
              "      quickchartButtonEl.classList.remove('colab-df-spinner');\n",
              "      quickchartButtonEl.classList.add('colab-df-quickchart-complete');\n",
              "    }\n",
              "    (() => {\n",
              "      let quickchartButtonEl =\n",
              "        document.querySelector('#df-2bbae962-25d0-40a5-8814-df2b87852779 button');\n",
              "      quickchartButtonEl.style.display =\n",
              "        google.colab.kernel.accessAllowed ? 'block' : 'none';\n",
              "    })();\n",
              "  </script>\n",
              "</div>\n",
              "    </div>\n",
              "  </div>\n"
            ]
          },
          "metadata": {},
          "execution_count": 19
        }
      ],
      "source": [
        "#scaling the data\n",
        "sc = StandardScaler()  # scale the data set to be used in the model\n",
        "training_x = sc.fit_transform(training_data)\n",
        "training_x = pd.DataFrame(training_x, columns = training_data.columns)\n",
        "training_x.head(5)"
      ]
    },
    {
      "cell_type": "code",
      "execution_count": 20,
      "metadata": {
        "colab": {
          "base_uri": "https://localhost:8080/",
          "height": 75
        },
        "id": "JOz87KMkhxAS",
        "outputId": "ebc79a21-6eed-4736-91af-1111ad2115d9"
      },
      "outputs": [
        {
          "output_type": "execute_result",
          "data": {
            "text/plain": [
              "RandomForestRegressor()"
            ],
            "text/html": [
              "<style>#sk-container-id-1 {color: black;background-color: white;}#sk-container-id-1 pre{padding: 0;}#sk-container-id-1 div.sk-toggleable {background-color: white;}#sk-container-id-1 label.sk-toggleable__label {cursor: pointer;display: block;width: 100%;margin-bottom: 0;padding: 0.3em;box-sizing: border-box;text-align: center;}#sk-container-id-1 label.sk-toggleable__label-arrow:before {content: \"▸\";float: left;margin-right: 0.25em;color: #696969;}#sk-container-id-1 label.sk-toggleable__label-arrow:hover:before {color: black;}#sk-container-id-1 div.sk-estimator:hover label.sk-toggleable__label-arrow:before {color: black;}#sk-container-id-1 div.sk-toggleable__content {max-height: 0;max-width: 0;overflow: hidden;text-align: left;background-color: #f0f8ff;}#sk-container-id-1 div.sk-toggleable__content pre {margin: 0.2em;color: black;border-radius: 0.25em;background-color: #f0f8ff;}#sk-container-id-1 input.sk-toggleable__control:checked~div.sk-toggleable__content {max-height: 200px;max-width: 100%;overflow: auto;}#sk-container-id-1 input.sk-toggleable__control:checked~label.sk-toggleable__label-arrow:before {content: \"▾\";}#sk-container-id-1 div.sk-estimator input.sk-toggleable__control:checked~label.sk-toggleable__label {background-color: #d4ebff;}#sk-container-id-1 div.sk-label input.sk-toggleable__control:checked~label.sk-toggleable__label {background-color: #d4ebff;}#sk-container-id-1 input.sk-hidden--visually {border: 0;clip: rect(1px 1px 1px 1px);clip: rect(1px, 1px, 1px, 1px);height: 1px;margin: -1px;overflow: hidden;padding: 0;position: absolute;width: 1px;}#sk-container-id-1 div.sk-estimator {font-family: monospace;background-color: #f0f8ff;border: 1px dotted black;border-radius: 0.25em;box-sizing: border-box;margin-bottom: 0.5em;}#sk-container-id-1 div.sk-estimator:hover {background-color: #d4ebff;}#sk-container-id-1 div.sk-parallel-item::after {content: \"\";width: 100%;border-bottom: 1px solid gray;flex-grow: 1;}#sk-container-id-1 div.sk-label:hover label.sk-toggleable__label {background-color: #d4ebff;}#sk-container-id-1 div.sk-serial::before {content: \"\";position: absolute;border-left: 1px solid gray;box-sizing: border-box;top: 0;bottom: 0;left: 50%;z-index: 0;}#sk-container-id-1 div.sk-serial {display: flex;flex-direction: column;align-items: center;background-color: white;padding-right: 0.2em;padding-left: 0.2em;position: relative;}#sk-container-id-1 div.sk-item {position: relative;z-index: 1;}#sk-container-id-1 div.sk-parallel {display: flex;align-items: stretch;justify-content: center;background-color: white;position: relative;}#sk-container-id-1 div.sk-item::before, #sk-container-id-1 div.sk-parallel-item::before {content: \"\";position: absolute;border-left: 1px solid gray;box-sizing: border-box;top: 0;bottom: 0;left: 50%;z-index: -1;}#sk-container-id-1 div.sk-parallel-item {display: flex;flex-direction: column;z-index: 1;position: relative;background-color: white;}#sk-container-id-1 div.sk-parallel-item:first-child::after {align-self: flex-end;width: 50%;}#sk-container-id-1 div.sk-parallel-item:last-child::after {align-self: flex-start;width: 50%;}#sk-container-id-1 div.sk-parallel-item:only-child::after {width: 0;}#sk-container-id-1 div.sk-dashed-wrapped {border: 1px dashed gray;margin: 0 0.4em 0.5em 0.4em;box-sizing: border-box;padding-bottom: 0.4em;background-color: white;}#sk-container-id-1 div.sk-label label {font-family: monospace;font-weight: bold;display: inline-block;line-height: 1.2em;}#sk-container-id-1 div.sk-label-container {text-align: center;}#sk-container-id-1 div.sk-container {/* jupyter's `normalize.less` sets `[hidden] { display: none; }` but bootstrap.min.css set `[hidden] { display: none !important; }` so we also need the `!important` here to be able to override the default hidden behavior on the sphinx rendered scikit-learn.org. See: https://github.com/scikit-learn/scikit-learn/issues/21755 */display: inline-block !important;position: relative;}#sk-container-id-1 div.sk-text-repr-fallback {display: none;}</style><div id=\"sk-container-id-1\" class=\"sk-top-container\"><div class=\"sk-text-repr-fallback\"><pre>RandomForestRegressor()</pre><b>In a Jupyter environment, please rerun this cell to show the HTML representation or trust the notebook. <br />On GitHub, the HTML representation is unable to render, please try loading this page with nbviewer.org.</b></div><div class=\"sk-container\" hidden><div class=\"sk-item\"><div class=\"sk-estimator sk-toggleable\"><input class=\"sk-toggleable__control sk-hidden--visually\" id=\"sk-estimator-id-1\" type=\"checkbox\" checked><label for=\"sk-estimator-id-1\" class=\"sk-toggleable__label sk-toggleable__label-arrow\">RandomForestRegressor</label><div class=\"sk-toggleable__content\"><pre>RandomForestRegressor()</pre></div></div></div></div></div>"
            ]
          },
          "metadata": {},
          "execution_count": 20
        }
      ],
      "source": [
        "#Training using rf for Feature Importance\n",
        "model=RandomForestRegressor()\n",
        "model.fit(training_x,Y)"
      ]
    },
    {
      "cell_type": "code",
      "execution_count": 21,
      "metadata": {
        "colab": {
          "base_uri": "https://localhost:8080/",
          "height": 424
        },
        "id": "VYmyB0Ikhw3m",
        "outputId": "34baafc9-00f0-47df-eada-4da22658fc11"
      },
      "outputs": [
        {
          "output_type": "execute_result",
          "data": {
            "text/plain": [
              "               Feature  Importance\n",
              "40           value_eur    0.433102\n",
              "51  release_clause_eur    0.358676\n",
              "42                 age    0.112730\n",
              "39           potential    0.051456\n",
              "71  movement_reactions    0.029507\n",
              "..                 ...         ...\n",
              "48           weak_foot    0.000019\n",
              "45        league_level    0.000016\n",
              "8       preferred_foot    0.000010\n",
              "49         skill_moves    0.000009\n",
              "11           real_face    0.000004\n",
              "\n",
              "[92 rows x 2 columns]"
            ],
            "text/html": [
              "\n",
              "  <div id=\"df-6f9d7726-3cb0-4dd9-a7cc-2296a76f8d8b\" class=\"colab-df-container\">\n",
              "    <div>\n",
              "<style scoped>\n",
              "    .dataframe tbody tr th:only-of-type {\n",
              "        vertical-align: middle;\n",
              "    }\n",
              "\n",
              "    .dataframe tbody tr th {\n",
              "        vertical-align: top;\n",
              "    }\n",
              "\n",
              "    .dataframe thead th {\n",
              "        text-align: right;\n",
              "    }\n",
              "</style>\n",
              "<table border=\"1\" class=\"dataframe\">\n",
              "  <thead>\n",
              "    <tr style=\"text-align: right;\">\n",
              "      <th></th>\n",
              "      <th>Feature</th>\n",
              "      <th>Importance</th>\n",
              "    </tr>\n",
              "  </thead>\n",
              "  <tbody>\n",
              "    <tr>\n",
              "      <th>40</th>\n",
              "      <td>value_eur</td>\n",
              "      <td>0.433102</td>\n",
              "    </tr>\n",
              "    <tr>\n",
              "      <th>51</th>\n",
              "      <td>release_clause_eur</td>\n",
              "      <td>0.358676</td>\n",
              "    </tr>\n",
              "    <tr>\n",
              "      <th>42</th>\n",
              "      <td>age</td>\n",
              "      <td>0.112730</td>\n",
              "    </tr>\n",
              "    <tr>\n",
              "      <th>39</th>\n",
              "      <td>potential</td>\n",
              "      <td>0.051456</td>\n",
              "    </tr>\n",
              "    <tr>\n",
              "      <th>71</th>\n",
              "      <td>movement_reactions</td>\n",
              "      <td>0.029507</td>\n",
              "    </tr>\n",
              "    <tr>\n",
              "      <th>...</th>\n",
              "      <td>...</td>\n",
              "      <td>...</td>\n",
              "    </tr>\n",
              "    <tr>\n",
              "      <th>48</th>\n",
              "      <td>weak_foot</td>\n",
              "      <td>0.000019</td>\n",
              "    </tr>\n",
              "    <tr>\n",
              "      <th>45</th>\n",
              "      <td>league_level</td>\n",
              "      <td>0.000016</td>\n",
              "    </tr>\n",
              "    <tr>\n",
              "      <th>8</th>\n",
              "      <td>preferred_foot</td>\n",
              "      <td>0.000010</td>\n",
              "    </tr>\n",
              "    <tr>\n",
              "      <th>49</th>\n",
              "      <td>skill_moves</td>\n",
              "      <td>0.000009</td>\n",
              "    </tr>\n",
              "    <tr>\n",
              "      <th>11</th>\n",
              "      <td>real_face</td>\n",
              "      <td>0.000004</td>\n",
              "    </tr>\n",
              "  </tbody>\n",
              "</table>\n",
              "<p>92 rows × 2 columns</p>\n",
              "</div>\n",
              "    <div class=\"colab-df-buttons\">\n",
              "\n",
              "  <div class=\"colab-df-container\">\n",
              "    <button class=\"colab-df-convert\" onclick=\"convertToInteractive('df-6f9d7726-3cb0-4dd9-a7cc-2296a76f8d8b')\"\n",
              "            title=\"Convert this dataframe to an interactive table.\"\n",
              "            style=\"display:none;\">\n",
              "\n",
              "  <svg xmlns=\"http://www.w3.org/2000/svg\" height=\"24px\" viewBox=\"0 -960 960 960\">\n",
              "    <path d=\"M120-120v-720h720v720H120Zm60-500h600v-160H180v160Zm220 220h160v-160H400v160Zm0 220h160v-160H400v160ZM180-400h160v-160H180v160Zm440 0h160v-160H620v160ZM180-180h160v-160H180v160Zm440 0h160v-160H620v160Z\"/>\n",
              "  </svg>\n",
              "    </button>\n",
              "\n",
              "  <style>\n",
              "    .colab-df-container {\n",
              "      display:flex;\n",
              "      gap: 12px;\n",
              "    }\n",
              "\n",
              "    .colab-df-convert {\n",
              "      background-color: #E8F0FE;\n",
              "      border: none;\n",
              "      border-radius: 50%;\n",
              "      cursor: pointer;\n",
              "      display: none;\n",
              "      fill: #1967D2;\n",
              "      height: 32px;\n",
              "      padding: 0 0 0 0;\n",
              "      width: 32px;\n",
              "    }\n",
              "\n",
              "    .colab-df-convert:hover {\n",
              "      background-color: #E2EBFA;\n",
              "      box-shadow: 0px 1px 2px rgba(60, 64, 67, 0.3), 0px 1px 3px 1px rgba(60, 64, 67, 0.15);\n",
              "      fill: #174EA6;\n",
              "    }\n",
              "\n",
              "    .colab-df-buttons div {\n",
              "      margin-bottom: 4px;\n",
              "    }\n",
              "\n",
              "    [theme=dark] .colab-df-convert {\n",
              "      background-color: #3B4455;\n",
              "      fill: #D2E3FC;\n",
              "    }\n",
              "\n",
              "    [theme=dark] .colab-df-convert:hover {\n",
              "      background-color: #434B5C;\n",
              "      box-shadow: 0px 1px 3px 1px rgba(0, 0, 0, 0.15);\n",
              "      filter: drop-shadow(0px 1px 2px rgba(0, 0, 0, 0.3));\n",
              "      fill: #FFFFFF;\n",
              "    }\n",
              "  </style>\n",
              "\n",
              "    <script>\n",
              "      const buttonEl =\n",
              "        document.querySelector('#df-6f9d7726-3cb0-4dd9-a7cc-2296a76f8d8b button.colab-df-convert');\n",
              "      buttonEl.style.display =\n",
              "        google.colab.kernel.accessAllowed ? 'block' : 'none';\n",
              "\n",
              "      async function convertToInteractive(key) {\n",
              "        const element = document.querySelector('#df-6f9d7726-3cb0-4dd9-a7cc-2296a76f8d8b');\n",
              "        const dataTable =\n",
              "          await google.colab.kernel.invokeFunction('convertToInteractive',\n",
              "                                                    [key], {});\n",
              "        if (!dataTable) return;\n",
              "\n",
              "        const docLinkHtml = 'Like what you see? Visit the ' +\n",
              "          '<a target=\"_blank\" href=https://colab.research.google.com/notebooks/data_table.ipynb>data table notebook</a>'\n",
              "          + ' to learn more about interactive tables.';\n",
              "        element.innerHTML = '';\n",
              "        dataTable['output_type'] = 'display_data';\n",
              "        await google.colab.output.renderOutput(dataTable, element);\n",
              "        const docLink = document.createElement('div');\n",
              "        docLink.innerHTML = docLinkHtml;\n",
              "        element.appendChild(docLink);\n",
              "      }\n",
              "    </script>\n",
              "  </div>\n",
              "\n",
              "\n",
              "<div id=\"df-810e87f7-7d0b-4fca-9683-b8400859d3b7\">\n",
              "  <button class=\"colab-df-quickchart\" onclick=\"quickchart('df-810e87f7-7d0b-4fca-9683-b8400859d3b7')\"\n",
              "            title=\"Suggest charts.\"\n",
              "            style=\"display:none;\">\n",
              "\n",
              "<svg xmlns=\"http://www.w3.org/2000/svg\" height=\"24px\"viewBox=\"0 0 24 24\"\n",
              "     width=\"24px\">\n",
              "    <g>\n",
              "        <path d=\"M19 3H5c-1.1 0-2 .9-2 2v14c0 1.1.9 2 2 2h14c1.1 0 2-.9 2-2V5c0-1.1-.9-2-2-2zM9 17H7v-7h2v7zm4 0h-2V7h2v10zm4 0h-2v-4h2v4z\"/>\n",
              "    </g>\n",
              "</svg>\n",
              "  </button>\n",
              "\n",
              "<style>\n",
              "  .colab-df-quickchart {\n",
              "      --bg-color: #E8F0FE;\n",
              "      --fill-color: #1967D2;\n",
              "      --hover-bg-color: #E2EBFA;\n",
              "      --hover-fill-color: #174EA6;\n",
              "      --disabled-fill-color: #AAA;\n",
              "      --disabled-bg-color: #DDD;\n",
              "  }\n",
              "\n",
              "  [theme=dark] .colab-df-quickchart {\n",
              "      --bg-color: #3B4455;\n",
              "      --fill-color: #D2E3FC;\n",
              "      --hover-bg-color: #434B5C;\n",
              "      --hover-fill-color: #FFFFFF;\n",
              "      --disabled-bg-color: #3B4455;\n",
              "      --disabled-fill-color: #666;\n",
              "  }\n",
              "\n",
              "  .colab-df-quickchart {\n",
              "    background-color: var(--bg-color);\n",
              "    border: none;\n",
              "    border-radius: 50%;\n",
              "    cursor: pointer;\n",
              "    display: none;\n",
              "    fill: var(--fill-color);\n",
              "    height: 32px;\n",
              "    padding: 0;\n",
              "    width: 32px;\n",
              "  }\n",
              "\n",
              "  .colab-df-quickchart:hover {\n",
              "    background-color: var(--hover-bg-color);\n",
              "    box-shadow: 0 1px 2px rgba(60, 64, 67, 0.3), 0 1px 3px 1px rgba(60, 64, 67, 0.15);\n",
              "    fill: var(--button-hover-fill-color);\n",
              "  }\n",
              "\n",
              "  .colab-df-quickchart-complete:disabled,\n",
              "  .colab-df-quickchart-complete:disabled:hover {\n",
              "    background-color: var(--disabled-bg-color);\n",
              "    fill: var(--disabled-fill-color);\n",
              "    box-shadow: none;\n",
              "  }\n",
              "\n",
              "  .colab-df-spinner {\n",
              "    border: 2px solid var(--fill-color);\n",
              "    border-color: transparent;\n",
              "    border-bottom-color: var(--fill-color);\n",
              "    animation:\n",
              "      spin 1s steps(1) infinite;\n",
              "  }\n",
              "\n",
              "  @keyframes spin {\n",
              "    0% {\n",
              "      border-color: transparent;\n",
              "      border-bottom-color: var(--fill-color);\n",
              "      border-left-color: var(--fill-color);\n",
              "    }\n",
              "    20% {\n",
              "      border-color: transparent;\n",
              "      border-left-color: var(--fill-color);\n",
              "      border-top-color: var(--fill-color);\n",
              "    }\n",
              "    30% {\n",
              "      border-color: transparent;\n",
              "      border-left-color: var(--fill-color);\n",
              "      border-top-color: var(--fill-color);\n",
              "      border-right-color: var(--fill-color);\n",
              "    }\n",
              "    40% {\n",
              "      border-color: transparent;\n",
              "      border-right-color: var(--fill-color);\n",
              "      border-top-color: var(--fill-color);\n",
              "    }\n",
              "    60% {\n",
              "      border-color: transparent;\n",
              "      border-right-color: var(--fill-color);\n",
              "    }\n",
              "    80% {\n",
              "      border-color: transparent;\n",
              "      border-right-color: var(--fill-color);\n",
              "      border-bottom-color: var(--fill-color);\n",
              "    }\n",
              "    90% {\n",
              "      border-color: transparent;\n",
              "      border-bottom-color: var(--fill-color);\n",
              "    }\n",
              "  }\n",
              "</style>\n",
              "\n",
              "  <script>\n",
              "    async function quickchart(key) {\n",
              "      const quickchartButtonEl =\n",
              "        document.querySelector('#' + key + ' button');\n",
              "      quickchartButtonEl.disabled = true;  // To prevent multiple clicks.\n",
              "      quickchartButtonEl.classList.add('colab-df-spinner');\n",
              "      try {\n",
              "        const charts = await google.colab.kernel.invokeFunction(\n",
              "            'suggestCharts', [key], {});\n",
              "      } catch (error) {\n",
              "        console.error('Error during call to suggestCharts:', error);\n",
              "      }\n",
              "      quickchartButtonEl.classList.remove('colab-df-spinner');\n",
              "      quickchartButtonEl.classList.add('colab-df-quickchart-complete');\n",
              "    }\n",
              "    (() => {\n",
              "      let quickchartButtonEl =\n",
              "        document.querySelector('#df-810e87f7-7d0b-4fca-9683-b8400859d3b7 button');\n",
              "      quickchartButtonEl.style.display =\n",
              "        google.colab.kernel.accessAllowed ? 'block' : 'none';\n",
              "    })();\n",
              "  </script>\n",
              "</div>\n",
              "    </div>\n",
              "  </div>\n"
            ]
          },
          "metadata": {},
          "execution_count": 21
        }
      ],
      "source": [
        "#Getting the Important Features from our dataset\n",
        "name_of_feature=training_x.columns #contains the names of features in our dataset\n",
        "feature_importance=model.feature_importances_ #contains the scores of each feature\n",
        "\n",
        "#Sorting the Feature Importance\n",
        "feature_importance_df=pd.DataFrame({'Feature':name_of_feature,'Importance':feature_importance}) #creates a dataframe with the names of our feature and corresponding scores\n",
        "feature_importance_df=feature_importance_df.sort_values(by='Importance',ascending=False) #sorts our results from highest to lowest\n",
        "feature_importance_df\n",
        "\n"
      ]
    },
    {
      "cell_type": "code",
      "execution_count": 22,
      "metadata": {
        "colab": {
          "base_uri": "https://localhost:8080/"
        },
        "id": "4A2nCBlYhwvi",
        "outputId": "b57fb533-11dc-43eb-a42c-b55915ec8631"
      },
      "outputs": [
        {
          "output_type": "execute_result",
          "data": {
            "text/plain": [
              "array(['value_eur', 'release_clause_eur', 'age', 'potential',\n",
              "       'movement_reactions', 'wage_eur', 'gk', 'lm', 'rm', 'cb', 'rcb'],\n",
              "      dtype=object)"
            ]
          },
          "metadata": {},
          "execution_count": 22
        }
      ],
      "source": [
        "#Using the first 10 features\n",
        "first_10_features = feature_importance_df['Feature'].values[:11]\n",
        "first_10_features"
      ]
    },
    {
      "cell_type": "code",
      "execution_count": 23,
      "metadata": {
        "id": "S7yWz_g-hwh_"
      },
      "outputs": [],
      "source": [
        "#updates to our new training_x value\n",
        "training_x=training_x[first_10_features]\n"
      ]
    },
    {
      "cell_type": "markdown",
      "metadata": {
        "id": "DSiS88oISGDZ"
      },
      "source": [
        "# **3. Machine learning model with cross validation**"
      ]
    },
    {
      "cell_type": "code",
      "execution_count": 24,
      "metadata": {
        "id": "sGMG0xnLkcHe"
      },
      "outputs": [],
      "source": [
        "Xtrain,Xtest,Ytrain,Ytest=train_test_split(training_x,Y,test_size=0.2,random_state=42) #splitting our data"
      ]
    },
    {
      "cell_type": "code",
      "execution_count": 25,
      "metadata": {
        "id": "qkA420Wqlh9x"
      },
      "outputs": [],
      "source": [
        "dt = DecisionTreeRegressor(criterion ='squared_error', random_state = 42)\n",
        "gb = GradientBoostingRegressor(init = dt, n_estimators = 200, learning_rate = 0.01)\n",
        "XGB_model = xgb.XGBRegressor(objective=\"reg:squarederror\")\n",
        "rf=RandomForestRegressor(n_estimators=1000, n_jobs = -1)"
      ]
    },
    {
      "cell_type": "code",
      "execution_count": 26,
      "metadata": {
        "colab": {
          "base_uri": "https://localhost:8080/",
          "height": 118
        },
        "id": "0XOQqzFs13bz",
        "outputId": "4655a636-b68a-44c5-88f2-343624a3b870"
      },
      "outputs": [
        {
          "output_type": "execute_result",
          "data": {
            "text/plain": [
              "GradientBoostingRegressor(init=DecisionTreeRegressor(random_state=42),\n",
              "                          learning_rate=0.01, n_estimators=200)"
            ],
            "text/html": [
              "<style>#sk-container-id-2 {color: black;background-color: white;}#sk-container-id-2 pre{padding: 0;}#sk-container-id-2 div.sk-toggleable {background-color: white;}#sk-container-id-2 label.sk-toggleable__label {cursor: pointer;display: block;width: 100%;margin-bottom: 0;padding: 0.3em;box-sizing: border-box;text-align: center;}#sk-container-id-2 label.sk-toggleable__label-arrow:before {content: \"▸\";float: left;margin-right: 0.25em;color: #696969;}#sk-container-id-2 label.sk-toggleable__label-arrow:hover:before {color: black;}#sk-container-id-2 div.sk-estimator:hover label.sk-toggleable__label-arrow:before {color: black;}#sk-container-id-2 div.sk-toggleable__content {max-height: 0;max-width: 0;overflow: hidden;text-align: left;background-color: #f0f8ff;}#sk-container-id-2 div.sk-toggleable__content pre {margin: 0.2em;color: black;border-radius: 0.25em;background-color: #f0f8ff;}#sk-container-id-2 input.sk-toggleable__control:checked~div.sk-toggleable__content {max-height: 200px;max-width: 100%;overflow: auto;}#sk-container-id-2 input.sk-toggleable__control:checked~label.sk-toggleable__label-arrow:before {content: \"▾\";}#sk-container-id-2 div.sk-estimator input.sk-toggleable__control:checked~label.sk-toggleable__label {background-color: #d4ebff;}#sk-container-id-2 div.sk-label input.sk-toggleable__control:checked~label.sk-toggleable__label {background-color: #d4ebff;}#sk-container-id-2 input.sk-hidden--visually {border: 0;clip: rect(1px 1px 1px 1px);clip: rect(1px, 1px, 1px, 1px);height: 1px;margin: -1px;overflow: hidden;padding: 0;position: absolute;width: 1px;}#sk-container-id-2 div.sk-estimator {font-family: monospace;background-color: #f0f8ff;border: 1px dotted black;border-radius: 0.25em;box-sizing: border-box;margin-bottom: 0.5em;}#sk-container-id-2 div.sk-estimator:hover {background-color: #d4ebff;}#sk-container-id-2 div.sk-parallel-item::after {content: \"\";width: 100%;border-bottom: 1px solid gray;flex-grow: 1;}#sk-container-id-2 div.sk-label:hover label.sk-toggleable__label {background-color: #d4ebff;}#sk-container-id-2 div.sk-serial::before {content: \"\";position: absolute;border-left: 1px solid gray;box-sizing: border-box;top: 0;bottom: 0;left: 50%;z-index: 0;}#sk-container-id-2 div.sk-serial {display: flex;flex-direction: column;align-items: center;background-color: white;padding-right: 0.2em;padding-left: 0.2em;position: relative;}#sk-container-id-2 div.sk-item {position: relative;z-index: 1;}#sk-container-id-2 div.sk-parallel {display: flex;align-items: stretch;justify-content: center;background-color: white;position: relative;}#sk-container-id-2 div.sk-item::before, #sk-container-id-2 div.sk-parallel-item::before {content: \"\";position: absolute;border-left: 1px solid gray;box-sizing: border-box;top: 0;bottom: 0;left: 50%;z-index: -1;}#sk-container-id-2 div.sk-parallel-item {display: flex;flex-direction: column;z-index: 1;position: relative;background-color: white;}#sk-container-id-2 div.sk-parallel-item:first-child::after {align-self: flex-end;width: 50%;}#sk-container-id-2 div.sk-parallel-item:last-child::after {align-self: flex-start;width: 50%;}#sk-container-id-2 div.sk-parallel-item:only-child::after {width: 0;}#sk-container-id-2 div.sk-dashed-wrapped {border: 1px dashed gray;margin: 0 0.4em 0.5em 0.4em;box-sizing: border-box;padding-bottom: 0.4em;background-color: white;}#sk-container-id-2 div.sk-label label {font-family: monospace;font-weight: bold;display: inline-block;line-height: 1.2em;}#sk-container-id-2 div.sk-label-container {text-align: center;}#sk-container-id-2 div.sk-container {/* jupyter's `normalize.less` sets `[hidden] { display: none; }` but bootstrap.min.css set `[hidden] { display: none !important; }` so we also need the `!important` here to be able to override the default hidden behavior on the sphinx rendered scikit-learn.org. See: https://github.com/scikit-learn/scikit-learn/issues/21755 */display: inline-block !important;position: relative;}#sk-container-id-2 div.sk-text-repr-fallback {display: none;}</style><div id=\"sk-container-id-2\" class=\"sk-top-container\"><div class=\"sk-text-repr-fallback\"><pre>GradientBoostingRegressor(init=DecisionTreeRegressor(random_state=42),\n",
              "                          learning_rate=0.01, n_estimators=200)</pre><b>In a Jupyter environment, please rerun this cell to show the HTML representation or trust the notebook. <br />On GitHub, the HTML representation is unable to render, please try loading this page with nbviewer.org.</b></div><div class=\"sk-container\" hidden><div class=\"sk-item sk-dashed-wrapped\"><div class=\"sk-label-container\"><div class=\"sk-label sk-toggleable\"><input class=\"sk-toggleable__control sk-hidden--visually\" id=\"sk-estimator-id-2\" type=\"checkbox\" ><label for=\"sk-estimator-id-2\" class=\"sk-toggleable__label sk-toggleable__label-arrow\">GradientBoostingRegressor</label><div class=\"sk-toggleable__content\"><pre>GradientBoostingRegressor(init=DecisionTreeRegressor(random_state=42),\n",
              "                          learning_rate=0.01, n_estimators=200)</pre></div></div></div><div class=\"sk-parallel\"><div class=\"sk-parallel-item\"><div class=\"sk-item\"><div class=\"sk-label-container\"><div class=\"sk-label sk-toggleable\"><input class=\"sk-toggleable__control sk-hidden--visually\" id=\"sk-estimator-id-3\" type=\"checkbox\" ><label for=\"sk-estimator-id-3\" class=\"sk-toggleable__label sk-toggleable__label-arrow\">init: DecisionTreeRegressor</label><div class=\"sk-toggleable__content\"><pre>DecisionTreeRegressor(random_state=42)</pre></div></div></div><div class=\"sk-serial\"><div class=\"sk-item\"><div class=\"sk-estimator sk-toggleable\"><input class=\"sk-toggleable__control sk-hidden--visually\" id=\"sk-estimator-id-4\" type=\"checkbox\" ><label for=\"sk-estimator-id-4\" class=\"sk-toggleable__label sk-toggleable__label-arrow\">DecisionTreeRegressor</label><div class=\"sk-toggleable__content\"><pre>DecisionTreeRegressor(random_state=42)</pre></div></div></div></div></div></div></div></div></div></div>"
            ]
          },
          "metadata": {},
          "execution_count": 26
        }
      ],
      "source": [
        "# Gradient Boosting Regressor\n",
        "gb.fit(Xtrain,Ytrain)"
      ]
    },
    {
      "cell_type": "code",
      "execution_count": 27,
      "metadata": {
        "colab": {
          "base_uri": "https://localhost:8080/",
          "height": 158
        },
        "id": "KkK0u_Rx9C76",
        "outputId": "8abde58e-4c29-493d-a991-313b047f7891"
      },
      "outputs": [
        {
          "output_type": "execute_result",
          "data": {
            "text/plain": [
              "GridSearchCV(cv=KFold(n_splits=5, random_state=None, shuffle=False),\n",
              "             estimator=GradientBoostingRegressor(init=DecisionTreeRegressor(random_state=42),\n",
              "                                                 learning_rate=0.01,\n",
              "                                                 n_estimators=200),\n",
              "             param_grid={'criterion': ['squared_error', 'friedman_mse'],\n",
              "                         'max_depth': [5, 10, 12],\n",
              "                         'max_features': ['sqrt', 'log2'],\n",
              "                         'n_estimators': [50, 70, 100],\n",
              "                         'random_state': [20, 22, 24]},\n",
              "             scoring='neg_mean_absolute_error')"
            ],
            "text/html": [
              "<style>#sk-container-id-3 {color: black;background-color: white;}#sk-container-id-3 pre{padding: 0;}#sk-container-id-3 div.sk-toggleable {background-color: white;}#sk-container-id-3 label.sk-toggleable__label {cursor: pointer;display: block;width: 100%;margin-bottom: 0;padding: 0.3em;box-sizing: border-box;text-align: center;}#sk-container-id-3 label.sk-toggleable__label-arrow:before {content: \"▸\";float: left;margin-right: 0.25em;color: #696969;}#sk-container-id-3 label.sk-toggleable__label-arrow:hover:before {color: black;}#sk-container-id-3 div.sk-estimator:hover label.sk-toggleable__label-arrow:before {color: black;}#sk-container-id-3 div.sk-toggleable__content {max-height: 0;max-width: 0;overflow: hidden;text-align: left;background-color: #f0f8ff;}#sk-container-id-3 div.sk-toggleable__content pre {margin: 0.2em;color: black;border-radius: 0.25em;background-color: #f0f8ff;}#sk-container-id-3 input.sk-toggleable__control:checked~div.sk-toggleable__content {max-height: 200px;max-width: 100%;overflow: auto;}#sk-container-id-3 input.sk-toggleable__control:checked~label.sk-toggleable__label-arrow:before {content: \"▾\";}#sk-container-id-3 div.sk-estimator input.sk-toggleable__control:checked~label.sk-toggleable__label {background-color: #d4ebff;}#sk-container-id-3 div.sk-label input.sk-toggleable__control:checked~label.sk-toggleable__label {background-color: #d4ebff;}#sk-container-id-3 input.sk-hidden--visually {border: 0;clip: rect(1px 1px 1px 1px);clip: rect(1px, 1px, 1px, 1px);height: 1px;margin: -1px;overflow: hidden;padding: 0;position: absolute;width: 1px;}#sk-container-id-3 div.sk-estimator {font-family: monospace;background-color: #f0f8ff;border: 1px dotted black;border-radius: 0.25em;box-sizing: border-box;margin-bottom: 0.5em;}#sk-container-id-3 div.sk-estimator:hover {background-color: #d4ebff;}#sk-container-id-3 div.sk-parallel-item::after {content: \"\";width: 100%;border-bottom: 1px solid gray;flex-grow: 1;}#sk-container-id-3 div.sk-label:hover label.sk-toggleable__label {background-color: #d4ebff;}#sk-container-id-3 div.sk-serial::before {content: \"\";position: absolute;border-left: 1px solid gray;box-sizing: border-box;top: 0;bottom: 0;left: 50%;z-index: 0;}#sk-container-id-3 div.sk-serial {display: flex;flex-direction: column;align-items: center;background-color: white;padding-right: 0.2em;padding-left: 0.2em;position: relative;}#sk-container-id-3 div.sk-item {position: relative;z-index: 1;}#sk-container-id-3 div.sk-parallel {display: flex;align-items: stretch;justify-content: center;background-color: white;position: relative;}#sk-container-id-3 div.sk-item::before, #sk-container-id-3 div.sk-parallel-item::before {content: \"\";position: absolute;border-left: 1px solid gray;box-sizing: border-box;top: 0;bottom: 0;left: 50%;z-index: -1;}#sk-container-id-3 div.sk-parallel-item {display: flex;flex-direction: column;z-index: 1;position: relative;background-color: white;}#sk-container-id-3 div.sk-parallel-item:first-child::after {align-self: flex-end;width: 50%;}#sk-container-id-3 div.sk-parallel-item:last-child::after {align-self: flex-start;width: 50%;}#sk-container-id-3 div.sk-parallel-item:only-child::after {width: 0;}#sk-container-id-3 div.sk-dashed-wrapped {border: 1px dashed gray;margin: 0 0.4em 0.5em 0.4em;box-sizing: border-box;padding-bottom: 0.4em;background-color: white;}#sk-container-id-3 div.sk-label label {font-family: monospace;font-weight: bold;display: inline-block;line-height: 1.2em;}#sk-container-id-3 div.sk-label-container {text-align: center;}#sk-container-id-3 div.sk-container {/* jupyter's `normalize.less` sets `[hidden] { display: none; }` but bootstrap.min.css set `[hidden] { display: none !important; }` so we also need the `!important` here to be able to override the default hidden behavior on the sphinx rendered scikit-learn.org. See: https://github.com/scikit-learn/scikit-learn/issues/21755 */display: inline-block !important;position: relative;}#sk-container-id-3 div.sk-text-repr-fallback {display: none;}</style><div id=\"sk-container-id-3\" class=\"sk-top-container\"><div class=\"sk-text-repr-fallback\"><pre>GridSearchCV(cv=KFold(n_splits=5, random_state=None, shuffle=False),\n",
              "             estimator=GradientBoostingRegressor(init=DecisionTreeRegressor(random_state=42),\n",
              "                                                 learning_rate=0.01,\n",
              "                                                 n_estimators=200),\n",
              "             param_grid={&#x27;criterion&#x27;: [&#x27;squared_error&#x27;, &#x27;friedman_mse&#x27;],\n",
              "                         &#x27;max_depth&#x27;: [5, 10, 12],\n",
              "                         &#x27;max_features&#x27;: [&#x27;sqrt&#x27;, &#x27;log2&#x27;],\n",
              "                         &#x27;n_estimators&#x27;: [50, 70, 100],\n",
              "                         &#x27;random_state&#x27;: [20, 22, 24]},\n",
              "             scoring=&#x27;neg_mean_absolute_error&#x27;)</pre><b>In a Jupyter environment, please rerun this cell to show the HTML representation or trust the notebook. <br />On GitHub, the HTML representation is unable to render, please try loading this page with nbviewer.org.</b></div><div class=\"sk-container\" hidden><div class=\"sk-item sk-dashed-wrapped\"><div class=\"sk-label-container\"><div class=\"sk-label sk-toggleable\"><input class=\"sk-toggleable__control sk-hidden--visually\" id=\"sk-estimator-id-5\" type=\"checkbox\" ><label for=\"sk-estimator-id-5\" class=\"sk-toggleable__label sk-toggleable__label-arrow\">GridSearchCV</label><div class=\"sk-toggleable__content\"><pre>GridSearchCV(cv=KFold(n_splits=5, random_state=None, shuffle=False),\n",
              "             estimator=GradientBoostingRegressor(init=DecisionTreeRegressor(random_state=42),\n",
              "                                                 learning_rate=0.01,\n",
              "                                                 n_estimators=200),\n",
              "             param_grid={&#x27;criterion&#x27;: [&#x27;squared_error&#x27;, &#x27;friedman_mse&#x27;],\n",
              "                         &#x27;max_depth&#x27;: [5, 10, 12],\n",
              "                         &#x27;max_features&#x27;: [&#x27;sqrt&#x27;, &#x27;log2&#x27;],\n",
              "                         &#x27;n_estimators&#x27;: [50, 70, 100],\n",
              "                         &#x27;random_state&#x27;: [20, 22, 24]},\n",
              "             scoring=&#x27;neg_mean_absolute_error&#x27;)</pre></div></div></div><div class=\"sk-parallel\"><div class=\"sk-parallel-item\"><div class=\"sk-item\"><div class=\"sk-label-container\"><div class=\"sk-label sk-toggleable\"><input class=\"sk-toggleable__control sk-hidden--visually\" id=\"sk-estimator-id-6\" type=\"checkbox\" ><label for=\"sk-estimator-id-6\" class=\"sk-toggleable__label sk-toggleable__label-arrow\">estimator: GradientBoostingRegressor</label><div class=\"sk-toggleable__content\"><pre>GradientBoostingRegressor(init=DecisionTreeRegressor(random_state=42),\n",
              "                          learning_rate=0.01, n_estimators=200)</pre></div></div></div><div class=\"sk-serial\"><div class=\"sk-item sk-dashed-wrapped\"><div class=\"sk-parallel\"><div class=\"sk-parallel-item\"><div class=\"sk-item\"><div class=\"sk-label-container\"><div class=\"sk-label sk-toggleable\"><input class=\"sk-toggleable__control sk-hidden--visually\" id=\"sk-estimator-id-7\" type=\"checkbox\" ><label for=\"sk-estimator-id-7\" class=\"sk-toggleable__label sk-toggleable__label-arrow\">init: DecisionTreeRegressor</label><div class=\"sk-toggleable__content\"><pre>DecisionTreeRegressor(random_state=42)</pre></div></div></div><div class=\"sk-serial\"><div class=\"sk-item\"><div class=\"sk-estimator sk-toggleable\"><input class=\"sk-toggleable__control sk-hidden--visually\" id=\"sk-estimator-id-8\" type=\"checkbox\" ><label for=\"sk-estimator-id-8\" class=\"sk-toggleable__label sk-toggleable__label-arrow\">DecisionTreeRegressor</label><div class=\"sk-toggleable__content\"><pre>DecisionTreeRegressor(random_state=42)</pre></div></div></div></div></div></div></div></div></div></div></div></div></div></div></div>"
            ]
          },
          "metadata": {},
          "execution_count": 27
        }
      ],
      "source": [
        "# Cross validation with the gradient boosting regresssor\n",
        "cv=KFold(n_splits=5)\n",
        "PARAMETERS ={\n",
        "\"max_depth\":[5,10, 12],\n",
        "\"n_estimators\":[50,70,100],\n",
        "\"max_features\":['sqrt', 'log2'],\n",
        "\"criterion\":['squared_error', 'friedman_mse'],\n",
        "\"random_state\": [20, 22, 24]}\n",
        "gb_cv = GridSearchCV(estimator = gb,param_grid=PARAMETERS,cv=cv,scoring=\"neg_mean_absolute_error\")\n",
        "gb_cv.fit(Xtrain, Ytrain)"
      ]
    },
    {
      "cell_type": "code",
      "execution_count": 28,
      "metadata": {
        "colab": {
          "base_uri": "https://localhost:8080/"
        },
        "id": "frwpDs_g-dC4",
        "outputId": "7d890c69-e269-4c3d-81c5-19258a8520b5"
      },
      "outputs": [
        {
          "output_type": "stream",
          "name": "stdout",
          "text": [
            "Best parameters: {'criterion': 'squared_error', 'max_depth': 5, 'max_features': 'sqrt', 'n_estimators': 50, 'random_state': 20}\n"
          ]
        }
      ],
      "source": [
        "best_parameters = gb_cv.best_params_\n",
        "print(\"Best parameters:\", best_parameters) # display the best parameters for the gradient boosting regressor"
      ]
    },
    {
      "cell_type": "code",
      "execution_count": 29,
      "metadata": {
        "colab": {
          "base_uri": "https://localhost:8080/"
        },
        "id": "MKan61qP-flE",
        "outputId": "b728383e-c041-4018-be8c-cd6a1856e35f"
      },
      "outputs": [
        {
          "output_type": "stream",
          "name": "stdout",
          "text": [
            "The mean absolute error is  0.24359989443124835\n"
          ]
        }
      ],
      "source": [
        "y_pred=gb_cv.predict(Xtest)\n",
        "print(\"The mean absolute error is \",(mean_absolute_error(y_pred,Ytest))) # display the mean absolute error"
      ]
    },
    {
      "cell_type": "code",
      "execution_count": 30,
      "metadata": {
        "colab": {
          "base_uri": "https://localhost:8080/",
          "height": 75
        },
        "id": "6SxlxJT52L5G",
        "outputId": "5f883341-cf9f-4498-8856-4da43ec559fd"
      },
      "outputs": [
        {
          "output_type": "execute_result",
          "data": {
            "text/plain": [
              "RandomForestRegressor(n_estimators=1000, n_jobs=-1)"
            ],
            "text/html": [
              "<style>#sk-container-id-4 {color: black;background-color: white;}#sk-container-id-4 pre{padding: 0;}#sk-container-id-4 div.sk-toggleable {background-color: white;}#sk-container-id-4 label.sk-toggleable__label {cursor: pointer;display: block;width: 100%;margin-bottom: 0;padding: 0.3em;box-sizing: border-box;text-align: center;}#sk-container-id-4 label.sk-toggleable__label-arrow:before {content: \"▸\";float: left;margin-right: 0.25em;color: #696969;}#sk-container-id-4 label.sk-toggleable__label-arrow:hover:before {color: black;}#sk-container-id-4 div.sk-estimator:hover label.sk-toggleable__label-arrow:before {color: black;}#sk-container-id-4 div.sk-toggleable__content {max-height: 0;max-width: 0;overflow: hidden;text-align: left;background-color: #f0f8ff;}#sk-container-id-4 div.sk-toggleable__content pre {margin: 0.2em;color: black;border-radius: 0.25em;background-color: #f0f8ff;}#sk-container-id-4 input.sk-toggleable__control:checked~div.sk-toggleable__content {max-height: 200px;max-width: 100%;overflow: auto;}#sk-container-id-4 input.sk-toggleable__control:checked~label.sk-toggleable__label-arrow:before {content: \"▾\";}#sk-container-id-4 div.sk-estimator input.sk-toggleable__control:checked~label.sk-toggleable__label {background-color: #d4ebff;}#sk-container-id-4 div.sk-label input.sk-toggleable__control:checked~label.sk-toggleable__label {background-color: #d4ebff;}#sk-container-id-4 input.sk-hidden--visually {border: 0;clip: rect(1px 1px 1px 1px);clip: rect(1px, 1px, 1px, 1px);height: 1px;margin: -1px;overflow: hidden;padding: 0;position: absolute;width: 1px;}#sk-container-id-4 div.sk-estimator {font-family: monospace;background-color: #f0f8ff;border: 1px dotted black;border-radius: 0.25em;box-sizing: border-box;margin-bottom: 0.5em;}#sk-container-id-4 div.sk-estimator:hover {background-color: #d4ebff;}#sk-container-id-4 div.sk-parallel-item::after {content: \"\";width: 100%;border-bottom: 1px solid gray;flex-grow: 1;}#sk-container-id-4 div.sk-label:hover label.sk-toggleable__label {background-color: #d4ebff;}#sk-container-id-4 div.sk-serial::before {content: \"\";position: absolute;border-left: 1px solid gray;box-sizing: border-box;top: 0;bottom: 0;left: 50%;z-index: 0;}#sk-container-id-4 div.sk-serial {display: flex;flex-direction: column;align-items: center;background-color: white;padding-right: 0.2em;padding-left: 0.2em;position: relative;}#sk-container-id-4 div.sk-item {position: relative;z-index: 1;}#sk-container-id-4 div.sk-parallel {display: flex;align-items: stretch;justify-content: center;background-color: white;position: relative;}#sk-container-id-4 div.sk-item::before, #sk-container-id-4 div.sk-parallel-item::before {content: \"\";position: absolute;border-left: 1px solid gray;box-sizing: border-box;top: 0;bottom: 0;left: 50%;z-index: -1;}#sk-container-id-4 div.sk-parallel-item {display: flex;flex-direction: column;z-index: 1;position: relative;background-color: white;}#sk-container-id-4 div.sk-parallel-item:first-child::after {align-self: flex-end;width: 50%;}#sk-container-id-4 div.sk-parallel-item:last-child::after {align-self: flex-start;width: 50%;}#sk-container-id-4 div.sk-parallel-item:only-child::after {width: 0;}#sk-container-id-4 div.sk-dashed-wrapped {border: 1px dashed gray;margin: 0 0.4em 0.5em 0.4em;box-sizing: border-box;padding-bottom: 0.4em;background-color: white;}#sk-container-id-4 div.sk-label label {font-family: monospace;font-weight: bold;display: inline-block;line-height: 1.2em;}#sk-container-id-4 div.sk-label-container {text-align: center;}#sk-container-id-4 div.sk-container {/* jupyter's `normalize.less` sets `[hidden] { display: none; }` but bootstrap.min.css set `[hidden] { display: none !important; }` so we also need the `!important` here to be able to override the default hidden behavior on the sphinx rendered scikit-learn.org. See: https://github.com/scikit-learn/scikit-learn/issues/21755 */display: inline-block !important;position: relative;}#sk-container-id-4 div.sk-text-repr-fallback {display: none;}</style><div id=\"sk-container-id-4\" class=\"sk-top-container\"><div class=\"sk-text-repr-fallback\"><pre>RandomForestRegressor(n_estimators=1000, n_jobs=-1)</pre><b>In a Jupyter environment, please rerun this cell to show the HTML representation or trust the notebook. <br />On GitHub, the HTML representation is unable to render, please try loading this page with nbviewer.org.</b></div><div class=\"sk-container\" hidden><div class=\"sk-item\"><div class=\"sk-estimator sk-toggleable\"><input class=\"sk-toggleable__control sk-hidden--visually\" id=\"sk-estimator-id-9\" type=\"checkbox\" checked><label for=\"sk-estimator-id-9\" class=\"sk-toggleable__label sk-toggleable__label-arrow\">RandomForestRegressor</label><div class=\"sk-toggleable__content\"><pre>RandomForestRegressor(n_estimators=1000, n_jobs=-1)</pre></div></div></div></div></div>"
            ]
          },
          "metadata": {},
          "execution_count": 30
        }
      ],
      "source": [
        "# Random Forest Regressor\n",
        "rf.fit(Xtrain, Ytrain)"
      ]
    },
    {
      "cell_type": "code",
      "execution_count": 31,
      "metadata": {
        "colab": {
          "base_uri": "https://localhost:8080/",
          "height": 118
        },
        "id": "gXpH0c489P_x",
        "outputId": "f704659f-4070-4269-8ddb-a56222d55516"
      },
      "outputs": [
        {
          "output_type": "execute_result",
          "data": {
            "text/plain": [
              "GridSearchCV(cv=KFold(n_splits=5, random_state=None, shuffle=False),\n",
              "             estimator=RandomForestRegressor(n_estimators=1000, n_jobs=-1),\n",
              "             param_grid={'criterion': ['squared_error', 'friedman_mse'],\n",
              "                         'max_depth': [10, 12, 15],\n",
              "                         'max_features': ['sqrt', 'log2'],\n",
              "                         'n_estimators': [50, 70, 100],\n",
              "                         'random_state': [20, 22, 24]},\n",
              "             scoring='neg_mean_absolute_error')"
            ],
            "text/html": [
              "<style>#sk-container-id-5 {color: black;background-color: white;}#sk-container-id-5 pre{padding: 0;}#sk-container-id-5 div.sk-toggleable {background-color: white;}#sk-container-id-5 label.sk-toggleable__label {cursor: pointer;display: block;width: 100%;margin-bottom: 0;padding: 0.3em;box-sizing: border-box;text-align: center;}#sk-container-id-5 label.sk-toggleable__label-arrow:before {content: \"▸\";float: left;margin-right: 0.25em;color: #696969;}#sk-container-id-5 label.sk-toggleable__label-arrow:hover:before {color: black;}#sk-container-id-5 div.sk-estimator:hover label.sk-toggleable__label-arrow:before {color: black;}#sk-container-id-5 div.sk-toggleable__content {max-height: 0;max-width: 0;overflow: hidden;text-align: left;background-color: #f0f8ff;}#sk-container-id-5 div.sk-toggleable__content pre {margin: 0.2em;color: black;border-radius: 0.25em;background-color: #f0f8ff;}#sk-container-id-5 input.sk-toggleable__control:checked~div.sk-toggleable__content {max-height: 200px;max-width: 100%;overflow: auto;}#sk-container-id-5 input.sk-toggleable__control:checked~label.sk-toggleable__label-arrow:before {content: \"▾\";}#sk-container-id-5 div.sk-estimator input.sk-toggleable__control:checked~label.sk-toggleable__label {background-color: #d4ebff;}#sk-container-id-5 div.sk-label input.sk-toggleable__control:checked~label.sk-toggleable__label {background-color: #d4ebff;}#sk-container-id-5 input.sk-hidden--visually {border: 0;clip: rect(1px 1px 1px 1px);clip: rect(1px, 1px, 1px, 1px);height: 1px;margin: -1px;overflow: hidden;padding: 0;position: absolute;width: 1px;}#sk-container-id-5 div.sk-estimator {font-family: monospace;background-color: #f0f8ff;border: 1px dotted black;border-radius: 0.25em;box-sizing: border-box;margin-bottom: 0.5em;}#sk-container-id-5 div.sk-estimator:hover {background-color: #d4ebff;}#sk-container-id-5 div.sk-parallel-item::after {content: \"\";width: 100%;border-bottom: 1px solid gray;flex-grow: 1;}#sk-container-id-5 div.sk-label:hover label.sk-toggleable__label {background-color: #d4ebff;}#sk-container-id-5 div.sk-serial::before {content: \"\";position: absolute;border-left: 1px solid gray;box-sizing: border-box;top: 0;bottom: 0;left: 50%;z-index: 0;}#sk-container-id-5 div.sk-serial {display: flex;flex-direction: column;align-items: center;background-color: white;padding-right: 0.2em;padding-left: 0.2em;position: relative;}#sk-container-id-5 div.sk-item {position: relative;z-index: 1;}#sk-container-id-5 div.sk-parallel {display: flex;align-items: stretch;justify-content: center;background-color: white;position: relative;}#sk-container-id-5 div.sk-item::before, #sk-container-id-5 div.sk-parallel-item::before {content: \"\";position: absolute;border-left: 1px solid gray;box-sizing: border-box;top: 0;bottom: 0;left: 50%;z-index: -1;}#sk-container-id-5 div.sk-parallel-item {display: flex;flex-direction: column;z-index: 1;position: relative;background-color: white;}#sk-container-id-5 div.sk-parallel-item:first-child::after {align-self: flex-end;width: 50%;}#sk-container-id-5 div.sk-parallel-item:last-child::after {align-self: flex-start;width: 50%;}#sk-container-id-5 div.sk-parallel-item:only-child::after {width: 0;}#sk-container-id-5 div.sk-dashed-wrapped {border: 1px dashed gray;margin: 0 0.4em 0.5em 0.4em;box-sizing: border-box;padding-bottom: 0.4em;background-color: white;}#sk-container-id-5 div.sk-label label {font-family: monospace;font-weight: bold;display: inline-block;line-height: 1.2em;}#sk-container-id-5 div.sk-label-container {text-align: center;}#sk-container-id-5 div.sk-container {/* jupyter's `normalize.less` sets `[hidden] { display: none; }` but bootstrap.min.css set `[hidden] { display: none !important; }` so we also need the `!important` here to be able to override the default hidden behavior on the sphinx rendered scikit-learn.org. See: https://github.com/scikit-learn/scikit-learn/issues/21755 */display: inline-block !important;position: relative;}#sk-container-id-5 div.sk-text-repr-fallback {display: none;}</style><div id=\"sk-container-id-5\" class=\"sk-top-container\"><div class=\"sk-text-repr-fallback\"><pre>GridSearchCV(cv=KFold(n_splits=5, random_state=None, shuffle=False),\n",
              "             estimator=RandomForestRegressor(n_estimators=1000, n_jobs=-1),\n",
              "             param_grid={&#x27;criterion&#x27;: [&#x27;squared_error&#x27;, &#x27;friedman_mse&#x27;],\n",
              "                         &#x27;max_depth&#x27;: [10, 12, 15],\n",
              "                         &#x27;max_features&#x27;: [&#x27;sqrt&#x27;, &#x27;log2&#x27;],\n",
              "                         &#x27;n_estimators&#x27;: [50, 70, 100],\n",
              "                         &#x27;random_state&#x27;: [20, 22, 24]},\n",
              "             scoring=&#x27;neg_mean_absolute_error&#x27;)</pre><b>In a Jupyter environment, please rerun this cell to show the HTML representation or trust the notebook. <br />On GitHub, the HTML representation is unable to render, please try loading this page with nbviewer.org.</b></div><div class=\"sk-container\" hidden><div class=\"sk-item sk-dashed-wrapped\"><div class=\"sk-label-container\"><div class=\"sk-label sk-toggleable\"><input class=\"sk-toggleable__control sk-hidden--visually\" id=\"sk-estimator-id-10\" type=\"checkbox\" ><label for=\"sk-estimator-id-10\" class=\"sk-toggleable__label sk-toggleable__label-arrow\">GridSearchCV</label><div class=\"sk-toggleable__content\"><pre>GridSearchCV(cv=KFold(n_splits=5, random_state=None, shuffle=False),\n",
              "             estimator=RandomForestRegressor(n_estimators=1000, n_jobs=-1),\n",
              "             param_grid={&#x27;criterion&#x27;: [&#x27;squared_error&#x27;, &#x27;friedman_mse&#x27;],\n",
              "                         &#x27;max_depth&#x27;: [10, 12, 15],\n",
              "                         &#x27;max_features&#x27;: [&#x27;sqrt&#x27;, &#x27;log2&#x27;],\n",
              "                         &#x27;n_estimators&#x27;: [50, 70, 100],\n",
              "                         &#x27;random_state&#x27;: [20, 22, 24]},\n",
              "             scoring=&#x27;neg_mean_absolute_error&#x27;)</pre></div></div></div><div class=\"sk-parallel\"><div class=\"sk-parallel-item\"><div class=\"sk-item\"><div class=\"sk-label-container\"><div class=\"sk-label sk-toggleable\"><input class=\"sk-toggleable__control sk-hidden--visually\" id=\"sk-estimator-id-11\" type=\"checkbox\" ><label for=\"sk-estimator-id-11\" class=\"sk-toggleable__label sk-toggleable__label-arrow\">estimator: RandomForestRegressor</label><div class=\"sk-toggleable__content\"><pre>RandomForestRegressor(n_estimators=1000, n_jobs=-1)</pre></div></div></div><div class=\"sk-serial\"><div class=\"sk-item\"><div class=\"sk-estimator sk-toggleable\"><input class=\"sk-toggleable__control sk-hidden--visually\" id=\"sk-estimator-id-12\" type=\"checkbox\" ><label for=\"sk-estimator-id-12\" class=\"sk-toggleable__label sk-toggleable__label-arrow\">RandomForestRegressor</label><div class=\"sk-toggleable__content\"><pre>RandomForestRegressor(n_estimators=1000, n_jobs=-1)</pre></div></div></div></div></div></div></div></div></div></div>"
            ]
          },
          "metadata": {},
          "execution_count": 31
        }
      ],
      "source": [
        "# Cross validation with the random forest regresssor\n",
        "cv=KFold(n_splits=5)\n",
        "PARAMETERS ={\n",
        "\"max_depth\": [10, 12, 15],\n",
        "\"n_estimators\": [50, 70, 100],\n",
        "\"criterion\": ['squared_error', 'friedman_mse'],\n",
        "\"max_features\": ['sqrt', 'log2'],\n",
        "\"random_state\": [20, 22, 24]}\n",
        "rf_cv = GridSearchCV(estimator = rf,param_grid=PARAMETERS,cv=cv,scoring=\"neg_mean_absolute_error\")\n",
        "rf_cv.fit(Xtrain, Ytrain)"
      ]
    },
    {
      "cell_type": "code",
      "execution_count": 32,
      "metadata": {
        "colab": {
          "base_uri": "https://localhost:8080/"
        },
        "id": "p79jByap_A_Q",
        "outputId": "56f04c0d-3065-4809-dc2f-03e3d995a77f"
      },
      "outputs": [
        {
          "output_type": "stream",
          "name": "stdout",
          "text": [
            "Best parameters: {'criterion': 'squared_error', 'max_depth': 15, 'max_features': 'log2', 'n_estimators': 100, 'random_state': 24}\n"
          ]
        }
      ],
      "source": [
        "best_parameters = rf_cv.best_params_\n",
        "print(\"Best parameters:\", best_parameters) # display the best parameters for the random forest regressor"
      ]
    },
    {
      "cell_type": "code",
      "execution_count": 33,
      "metadata": {
        "colab": {
          "base_uri": "https://localhost:8080/"
        },
        "id": "Ubb3Afiy_DNG",
        "outputId": "d34dd16e-2551-4de3-c851-06a5233987cb"
      },
      "outputs": [
        {
          "output_type": "stream",
          "name": "stdout",
          "text": [
            "The mean absolute error is  0.35059677535790873\n"
          ]
        }
      ],
      "source": [
        "y_pred=rf_cv.predict(Xtest)\n",
        "print(\"The mean absolute error is \",(mean_absolute_error(y_pred,Ytest))) # display the mean absolute error"
      ]
    },
    {
      "cell_type": "code",
      "execution_count": 34,
      "metadata": {
        "colab": {
          "base_uri": "https://localhost:8080/",
          "height": 118
        },
        "id": "tThhQb999Z2F",
        "outputId": "5186e496-9569-473d-aefe-63821d143178"
      },
      "outputs": [
        {
          "output_type": "execute_result",
          "data": {
            "text/plain": [
              "GridSearchCV(cv=KFold(n_splits=5, random_state=None, shuffle=False),\n",
              "             estimator=XGBRegressor(base_score=None, booster=None,\n",
              "                                    callbacks=None, colsample_bylevel=None,\n",
              "                                    colsample_bynode=None,\n",
              "                                    colsample_bytree=None, device=None,\n",
              "                                    early_stopping_rounds=None,\n",
              "                                    enable_categorical=False, eval_metric=None,\n",
              "                                    feature_types=None, gamma=None,\n",
              "                                    grow_policy=None, importance_type=None,\n",
              "                                    i...\n",
              "                                    learning_rate=None, max_bin=None,\n",
              "                                    max_cat_threshold=None,\n",
              "                                    max_cat_to_onehot=None, max_delta_step=None,\n",
              "                                    max_depth=None, max_leaves=None,\n",
              "                                    min_child_weight=None, missing=nan,\n",
              "                                    monotone_constraints=None,\n",
              "                                    multi_strategy=None, n_estimators=None,\n",
              "                                    n_jobs=None, num_parallel_tree=None,\n",
              "                                    random_state=None, ...),\n",
              "             param_grid={'max_depth': [10, 12, 15],\n",
              "                         'random_state': [20, 22, 24]},\n",
              "             scoring='neg_mean_absolute_error')"
            ],
            "text/html": [
              "<style>#sk-container-id-6 {color: black;background-color: white;}#sk-container-id-6 pre{padding: 0;}#sk-container-id-6 div.sk-toggleable {background-color: white;}#sk-container-id-6 label.sk-toggleable__label {cursor: pointer;display: block;width: 100%;margin-bottom: 0;padding: 0.3em;box-sizing: border-box;text-align: center;}#sk-container-id-6 label.sk-toggleable__label-arrow:before {content: \"▸\";float: left;margin-right: 0.25em;color: #696969;}#sk-container-id-6 label.sk-toggleable__label-arrow:hover:before {color: black;}#sk-container-id-6 div.sk-estimator:hover label.sk-toggleable__label-arrow:before {color: black;}#sk-container-id-6 div.sk-toggleable__content {max-height: 0;max-width: 0;overflow: hidden;text-align: left;background-color: #f0f8ff;}#sk-container-id-6 div.sk-toggleable__content pre {margin: 0.2em;color: black;border-radius: 0.25em;background-color: #f0f8ff;}#sk-container-id-6 input.sk-toggleable__control:checked~div.sk-toggleable__content {max-height: 200px;max-width: 100%;overflow: auto;}#sk-container-id-6 input.sk-toggleable__control:checked~label.sk-toggleable__label-arrow:before {content: \"▾\";}#sk-container-id-6 div.sk-estimator input.sk-toggleable__control:checked~label.sk-toggleable__label {background-color: #d4ebff;}#sk-container-id-6 div.sk-label input.sk-toggleable__control:checked~label.sk-toggleable__label {background-color: #d4ebff;}#sk-container-id-6 input.sk-hidden--visually {border: 0;clip: rect(1px 1px 1px 1px);clip: rect(1px, 1px, 1px, 1px);height: 1px;margin: -1px;overflow: hidden;padding: 0;position: absolute;width: 1px;}#sk-container-id-6 div.sk-estimator {font-family: monospace;background-color: #f0f8ff;border: 1px dotted black;border-radius: 0.25em;box-sizing: border-box;margin-bottom: 0.5em;}#sk-container-id-6 div.sk-estimator:hover {background-color: #d4ebff;}#sk-container-id-6 div.sk-parallel-item::after {content: \"\";width: 100%;border-bottom: 1px solid gray;flex-grow: 1;}#sk-container-id-6 div.sk-label:hover label.sk-toggleable__label {background-color: #d4ebff;}#sk-container-id-6 div.sk-serial::before {content: \"\";position: absolute;border-left: 1px solid gray;box-sizing: border-box;top: 0;bottom: 0;left: 50%;z-index: 0;}#sk-container-id-6 div.sk-serial {display: flex;flex-direction: column;align-items: center;background-color: white;padding-right: 0.2em;padding-left: 0.2em;position: relative;}#sk-container-id-6 div.sk-item {position: relative;z-index: 1;}#sk-container-id-6 div.sk-parallel {display: flex;align-items: stretch;justify-content: center;background-color: white;position: relative;}#sk-container-id-6 div.sk-item::before, #sk-container-id-6 div.sk-parallel-item::before {content: \"\";position: absolute;border-left: 1px solid gray;box-sizing: border-box;top: 0;bottom: 0;left: 50%;z-index: -1;}#sk-container-id-6 div.sk-parallel-item {display: flex;flex-direction: column;z-index: 1;position: relative;background-color: white;}#sk-container-id-6 div.sk-parallel-item:first-child::after {align-self: flex-end;width: 50%;}#sk-container-id-6 div.sk-parallel-item:last-child::after {align-self: flex-start;width: 50%;}#sk-container-id-6 div.sk-parallel-item:only-child::after {width: 0;}#sk-container-id-6 div.sk-dashed-wrapped {border: 1px dashed gray;margin: 0 0.4em 0.5em 0.4em;box-sizing: border-box;padding-bottom: 0.4em;background-color: white;}#sk-container-id-6 div.sk-label label {font-family: monospace;font-weight: bold;display: inline-block;line-height: 1.2em;}#sk-container-id-6 div.sk-label-container {text-align: center;}#sk-container-id-6 div.sk-container {/* jupyter's `normalize.less` sets `[hidden] { display: none; }` but bootstrap.min.css set `[hidden] { display: none !important; }` so we also need the `!important` here to be able to override the default hidden behavior on the sphinx rendered scikit-learn.org. See: https://github.com/scikit-learn/scikit-learn/issues/21755 */display: inline-block !important;position: relative;}#sk-container-id-6 div.sk-text-repr-fallback {display: none;}</style><div id=\"sk-container-id-6\" class=\"sk-top-container\"><div class=\"sk-text-repr-fallback\"><pre>GridSearchCV(cv=KFold(n_splits=5, random_state=None, shuffle=False),\n",
              "             estimator=XGBRegressor(base_score=None, booster=None,\n",
              "                                    callbacks=None, colsample_bylevel=None,\n",
              "                                    colsample_bynode=None,\n",
              "                                    colsample_bytree=None, device=None,\n",
              "                                    early_stopping_rounds=None,\n",
              "                                    enable_categorical=False, eval_metric=None,\n",
              "                                    feature_types=None, gamma=None,\n",
              "                                    grow_policy=None, importance_type=None,\n",
              "                                    i...\n",
              "                                    learning_rate=None, max_bin=None,\n",
              "                                    max_cat_threshold=None,\n",
              "                                    max_cat_to_onehot=None, max_delta_step=None,\n",
              "                                    max_depth=None, max_leaves=None,\n",
              "                                    min_child_weight=None, missing=nan,\n",
              "                                    monotone_constraints=None,\n",
              "                                    multi_strategy=None, n_estimators=None,\n",
              "                                    n_jobs=None, num_parallel_tree=None,\n",
              "                                    random_state=None, ...),\n",
              "             param_grid={&#x27;max_depth&#x27;: [10, 12, 15],\n",
              "                         &#x27;random_state&#x27;: [20, 22, 24]},\n",
              "             scoring=&#x27;neg_mean_absolute_error&#x27;)</pre><b>In a Jupyter environment, please rerun this cell to show the HTML representation or trust the notebook. <br />On GitHub, the HTML representation is unable to render, please try loading this page with nbviewer.org.</b></div><div class=\"sk-container\" hidden><div class=\"sk-item sk-dashed-wrapped\"><div class=\"sk-label-container\"><div class=\"sk-label sk-toggleable\"><input class=\"sk-toggleable__control sk-hidden--visually\" id=\"sk-estimator-id-13\" type=\"checkbox\" ><label for=\"sk-estimator-id-13\" class=\"sk-toggleable__label sk-toggleable__label-arrow\">GridSearchCV</label><div class=\"sk-toggleable__content\"><pre>GridSearchCV(cv=KFold(n_splits=5, random_state=None, shuffle=False),\n",
              "             estimator=XGBRegressor(base_score=None, booster=None,\n",
              "                                    callbacks=None, colsample_bylevel=None,\n",
              "                                    colsample_bynode=None,\n",
              "                                    colsample_bytree=None, device=None,\n",
              "                                    early_stopping_rounds=None,\n",
              "                                    enable_categorical=False, eval_metric=None,\n",
              "                                    feature_types=None, gamma=None,\n",
              "                                    grow_policy=None, importance_type=None,\n",
              "                                    i...\n",
              "                                    learning_rate=None, max_bin=None,\n",
              "                                    max_cat_threshold=None,\n",
              "                                    max_cat_to_onehot=None, max_delta_step=None,\n",
              "                                    max_depth=None, max_leaves=None,\n",
              "                                    min_child_weight=None, missing=nan,\n",
              "                                    monotone_constraints=None,\n",
              "                                    multi_strategy=None, n_estimators=None,\n",
              "                                    n_jobs=None, num_parallel_tree=None,\n",
              "                                    random_state=None, ...),\n",
              "             param_grid={&#x27;max_depth&#x27;: [10, 12, 15],\n",
              "                         &#x27;random_state&#x27;: [20, 22, 24]},\n",
              "             scoring=&#x27;neg_mean_absolute_error&#x27;)</pre></div></div></div><div class=\"sk-parallel\"><div class=\"sk-parallel-item\"><div class=\"sk-item\"><div class=\"sk-label-container\"><div class=\"sk-label sk-toggleable\"><input class=\"sk-toggleable__control sk-hidden--visually\" id=\"sk-estimator-id-14\" type=\"checkbox\" ><label for=\"sk-estimator-id-14\" class=\"sk-toggleable__label sk-toggleable__label-arrow\">estimator: XGBRegressor</label><div class=\"sk-toggleable__content\"><pre>XGBRegressor(base_score=None, booster=None, callbacks=None,\n",
              "             colsample_bylevel=None, colsample_bynode=None,\n",
              "             colsample_bytree=None, device=None, early_stopping_rounds=None,\n",
              "             enable_categorical=False, eval_metric=None, feature_types=None,\n",
              "             gamma=None, grow_policy=None, importance_type=None,\n",
              "             interaction_constraints=None, learning_rate=None, max_bin=None,\n",
              "             max_cat_threshold=None, max_cat_to_onehot=None,\n",
              "             max_delta_step=None, max_depth=None, max_leaves=None,\n",
              "             min_child_weight=None, missing=nan, monotone_constraints=None,\n",
              "             multi_strategy=None, n_estimators=None, n_jobs=None,\n",
              "             num_parallel_tree=None, random_state=None, ...)</pre></div></div></div><div class=\"sk-serial\"><div class=\"sk-item\"><div class=\"sk-estimator sk-toggleable\"><input class=\"sk-toggleable__control sk-hidden--visually\" id=\"sk-estimator-id-15\" type=\"checkbox\" ><label for=\"sk-estimator-id-15\" class=\"sk-toggleable__label sk-toggleable__label-arrow\">XGBRegressor</label><div class=\"sk-toggleable__content\"><pre>XGBRegressor(base_score=None, booster=None, callbacks=None,\n",
              "             colsample_bylevel=None, colsample_bynode=None,\n",
              "             colsample_bytree=None, device=None, early_stopping_rounds=None,\n",
              "             enable_categorical=False, eval_metric=None, feature_types=None,\n",
              "             gamma=None, grow_policy=None, importance_type=None,\n",
              "             interaction_constraints=None, learning_rate=None, max_bin=None,\n",
              "             max_cat_threshold=None, max_cat_to_onehot=None,\n",
              "             max_delta_step=None, max_depth=None, max_leaves=None,\n",
              "             min_child_weight=None, missing=nan, monotone_constraints=None,\n",
              "             multi_strategy=None, n_estimators=None, n_jobs=None,\n",
              "             num_parallel_tree=None, random_state=None, ...)</pre></div></div></div></div></div></div></div></div></div></div>"
            ]
          },
          "metadata": {},
          "execution_count": 34
        }
      ],
      "source": [
        "# Cross validation with the XGB regresssor\n",
        "cv=KFold(n_splits=5)\n",
        "PARAMETERS ={\n",
        "\"max_depth\": [10, 12, 15],\n",
        "\"random_state\": [20, 22, 24]}\n",
        "xgb_cv = GridSearchCV(estimator = XGB_model,param_grid=PARAMETERS,cv=cv,scoring=\"neg_mean_absolute_error\")\n",
        "xgb_cv.fit(Xtrain, Ytrain)"
      ]
    },
    {
      "cell_type": "code",
      "execution_count": 35,
      "metadata": {
        "colab": {
          "base_uri": "https://localhost:8080/"
        },
        "id": "vff9ATEm-NY4",
        "outputId": "09a40039-f9d9-4687-8be7-6788314be39a"
      },
      "outputs": [
        {
          "output_type": "stream",
          "name": "stdout",
          "text": [
            "Best parameters: {'max_depth': 15, 'random_state': 20}\n"
          ]
        }
      ],
      "source": [
        "best_parameters = xgb_cv.best_params_\n",
        "print(\"Best parameters:\", best_parameters) # display the best parameters for the XGB regressor"
      ]
    },
    {
      "cell_type": "code",
      "execution_count": 36,
      "metadata": {
        "colab": {
          "base_uri": "https://localhost:8080/"
        },
        "id": "tK9EuABZ-WSV",
        "outputId": "cd32f3ba-9c42-414f-de25-4329daf472e4"
      },
      "outputs": [
        {
          "output_type": "stream",
          "name": "stdout",
          "text": [
            "The mean absolute error is  0.23583957191884092\n"
          ]
        }
      ],
      "source": [
        "y_pred=xgb_cv.predict(Xtest)\n",
        "print(\"The mean absolute error is \",(mean_absolute_error(y_pred,Ytest))) # display the mean absolute error"
      ]
    },
    {
      "cell_type": "markdown",
      "metadata": {
        "id": "ffQIhRhQSWY0"
      },
      "source": [
        "# **4. Model Optimization**\n",
        "Fine tuning , training and re-testing\n",
        "\n"
      ]
    },
    {
      "cell_type": "code",
      "execution_count": 37,
      "metadata": {
        "colab": {
          "base_uri": "https://localhost:8080/"
        },
        "id": "bQkdNRLT6DH0",
        "outputId": "91c93f82-6b6d-4bed-c7f3-48703a9d0e18"
      },
      "outputs": [
        {
          "output_type": "stream",
          "name": "stdout",
          "text": [
            "<class 'pandas.core.frame.DataFrame'>\n",
            "RangeIndex: 18944 entries, 0 to 18943\n",
            "Data columns (total 11 columns):\n",
            " #   Column              Non-Null Count  Dtype  \n",
            "---  ------              --------------  -----  \n",
            " 0   value_eur           18944 non-null  float64\n",
            " 1   release_clause_eur  18944 non-null  float64\n",
            " 2   age                 18944 non-null  float64\n",
            " 3   potential           18944 non-null  float64\n",
            " 4   movement_reactions  18944 non-null  float64\n",
            " 5   wage_eur            18944 non-null  float64\n",
            " 6   gk                  18944 non-null  float64\n",
            " 7   lm                  18944 non-null  float64\n",
            " 8   rm                  18944 non-null  float64\n",
            " 9   cb                  18944 non-null  float64\n",
            " 10  rcb                 18944 non-null  float64\n",
            "dtypes: float64(11)\n",
            "memory usage: 1.6 MB\n"
          ]
        }
      ],
      "source": [
        "training_x.info()"
      ]
    },
    {
      "cell_type": "code",
      "execution_count": 38,
      "metadata": {
        "id": "7HvGLUzTpy5W"
      },
      "outputs": [],
      "source": [
        "Xtrain,Xtest,Ytrain,Ytest=train_test_split(training_x,Y,test_size=0.2,random_state=42) #splitting our data"
      ]
    },
    {
      "cell_type": "code",
      "execution_count": 39,
      "metadata": {
        "colab": {
          "base_uri": "https://localhost:8080/",
          "height": 158
        },
        "id": "fbHe2fMQRBfC",
        "outputId": "3b628f37-251e-47d3-c6fe-efbaac47a092"
      },
      "outputs": [
        {
          "output_type": "execute_result",
          "data": {
            "text/plain": [
              "GridSearchCV(cv=KFold(n_splits=5, random_state=None, shuffle=False),\n",
              "             estimator=GradientBoostingRegressor(init=DecisionTreeRegressor(random_state=42),\n",
              "                                                 learning_rate=0.01,\n",
              "                                                 n_estimators=200),\n",
              "             param_grid={'criterion': ['squared_error', 'friedman_mse'],\n",
              "                         'max_depth': [7, 10, 15],\n",
              "                         'max_features': ['sqrt', 'log2'],\n",
              "                         'n_estimators': [50, 70, 120],\n",
              "                         'random_state': [20, 22, 24]},\n",
              "             scoring='neg_mean_absolute_error')"
            ],
            "text/html": [
              "<style>#sk-container-id-7 {color: black;background-color: white;}#sk-container-id-7 pre{padding: 0;}#sk-container-id-7 div.sk-toggleable {background-color: white;}#sk-container-id-7 label.sk-toggleable__label {cursor: pointer;display: block;width: 100%;margin-bottom: 0;padding: 0.3em;box-sizing: border-box;text-align: center;}#sk-container-id-7 label.sk-toggleable__label-arrow:before {content: \"▸\";float: left;margin-right: 0.25em;color: #696969;}#sk-container-id-7 label.sk-toggleable__label-arrow:hover:before {color: black;}#sk-container-id-7 div.sk-estimator:hover label.sk-toggleable__label-arrow:before {color: black;}#sk-container-id-7 div.sk-toggleable__content {max-height: 0;max-width: 0;overflow: hidden;text-align: left;background-color: #f0f8ff;}#sk-container-id-7 div.sk-toggleable__content pre {margin: 0.2em;color: black;border-radius: 0.25em;background-color: #f0f8ff;}#sk-container-id-7 input.sk-toggleable__control:checked~div.sk-toggleable__content {max-height: 200px;max-width: 100%;overflow: auto;}#sk-container-id-7 input.sk-toggleable__control:checked~label.sk-toggleable__label-arrow:before {content: \"▾\";}#sk-container-id-7 div.sk-estimator input.sk-toggleable__control:checked~label.sk-toggleable__label {background-color: #d4ebff;}#sk-container-id-7 div.sk-label input.sk-toggleable__control:checked~label.sk-toggleable__label {background-color: #d4ebff;}#sk-container-id-7 input.sk-hidden--visually {border: 0;clip: rect(1px 1px 1px 1px);clip: rect(1px, 1px, 1px, 1px);height: 1px;margin: -1px;overflow: hidden;padding: 0;position: absolute;width: 1px;}#sk-container-id-7 div.sk-estimator {font-family: monospace;background-color: #f0f8ff;border: 1px dotted black;border-radius: 0.25em;box-sizing: border-box;margin-bottom: 0.5em;}#sk-container-id-7 div.sk-estimator:hover {background-color: #d4ebff;}#sk-container-id-7 div.sk-parallel-item::after {content: \"\";width: 100%;border-bottom: 1px solid gray;flex-grow: 1;}#sk-container-id-7 div.sk-label:hover label.sk-toggleable__label {background-color: #d4ebff;}#sk-container-id-7 div.sk-serial::before {content: \"\";position: absolute;border-left: 1px solid gray;box-sizing: border-box;top: 0;bottom: 0;left: 50%;z-index: 0;}#sk-container-id-7 div.sk-serial {display: flex;flex-direction: column;align-items: center;background-color: white;padding-right: 0.2em;padding-left: 0.2em;position: relative;}#sk-container-id-7 div.sk-item {position: relative;z-index: 1;}#sk-container-id-7 div.sk-parallel {display: flex;align-items: stretch;justify-content: center;background-color: white;position: relative;}#sk-container-id-7 div.sk-item::before, #sk-container-id-7 div.sk-parallel-item::before {content: \"\";position: absolute;border-left: 1px solid gray;box-sizing: border-box;top: 0;bottom: 0;left: 50%;z-index: -1;}#sk-container-id-7 div.sk-parallel-item {display: flex;flex-direction: column;z-index: 1;position: relative;background-color: white;}#sk-container-id-7 div.sk-parallel-item:first-child::after {align-self: flex-end;width: 50%;}#sk-container-id-7 div.sk-parallel-item:last-child::after {align-self: flex-start;width: 50%;}#sk-container-id-7 div.sk-parallel-item:only-child::after {width: 0;}#sk-container-id-7 div.sk-dashed-wrapped {border: 1px dashed gray;margin: 0 0.4em 0.5em 0.4em;box-sizing: border-box;padding-bottom: 0.4em;background-color: white;}#sk-container-id-7 div.sk-label label {font-family: monospace;font-weight: bold;display: inline-block;line-height: 1.2em;}#sk-container-id-7 div.sk-label-container {text-align: center;}#sk-container-id-7 div.sk-container {/* jupyter's `normalize.less` sets `[hidden] { display: none; }` but bootstrap.min.css set `[hidden] { display: none !important; }` so we also need the `!important` here to be able to override the default hidden behavior on the sphinx rendered scikit-learn.org. See: https://github.com/scikit-learn/scikit-learn/issues/21755 */display: inline-block !important;position: relative;}#sk-container-id-7 div.sk-text-repr-fallback {display: none;}</style><div id=\"sk-container-id-7\" class=\"sk-top-container\"><div class=\"sk-text-repr-fallback\"><pre>GridSearchCV(cv=KFold(n_splits=5, random_state=None, shuffle=False),\n",
              "             estimator=GradientBoostingRegressor(init=DecisionTreeRegressor(random_state=42),\n",
              "                                                 learning_rate=0.01,\n",
              "                                                 n_estimators=200),\n",
              "             param_grid={&#x27;criterion&#x27;: [&#x27;squared_error&#x27;, &#x27;friedman_mse&#x27;],\n",
              "                         &#x27;max_depth&#x27;: [7, 10, 15],\n",
              "                         &#x27;max_features&#x27;: [&#x27;sqrt&#x27;, &#x27;log2&#x27;],\n",
              "                         &#x27;n_estimators&#x27;: [50, 70, 120],\n",
              "                         &#x27;random_state&#x27;: [20, 22, 24]},\n",
              "             scoring=&#x27;neg_mean_absolute_error&#x27;)</pre><b>In a Jupyter environment, please rerun this cell to show the HTML representation or trust the notebook. <br />On GitHub, the HTML representation is unable to render, please try loading this page with nbviewer.org.</b></div><div class=\"sk-container\" hidden><div class=\"sk-item sk-dashed-wrapped\"><div class=\"sk-label-container\"><div class=\"sk-label sk-toggleable\"><input class=\"sk-toggleable__control sk-hidden--visually\" id=\"sk-estimator-id-16\" type=\"checkbox\" ><label for=\"sk-estimator-id-16\" class=\"sk-toggleable__label sk-toggleable__label-arrow\">GridSearchCV</label><div class=\"sk-toggleable__content\"><pre>GridSearchCV(cv=KFold(n_splits=5, random_state=None, shuffle=False),\n",
              "             estimator=GradientBoostingRegressor(init=DecisionTreeRegressor(random_state=42),\n",
              "                                                 learning_rate=0.01,\n",
              "                                                 n_estimators=200),\n",
              "             param_grid={&#x27;criterion&#x27;: [&#x27;squared_error&#x27;, &#x27;friedman_mse&#x27;],\n",
              "                         &#x27;max_depth&#x27;: [7, 10, 15],\n",
              "                         &#x27;max_features&#x27;: [&#x27;sqrt&#x27;, &#x27;log2&#x27;],\n",
              "                         &#x27;n_estimators&#x27;: [50, 70, 120],\n",
              "                         &#x27;random_state&#x27;: [20, 22, 24]},\n",
              "             scoring=&#x27;neg_mean_absolute_error&#x27;)</pre></div></div></div><div class=\"sk-parallel\"><div class=\"sk-parallel-item\"><div class=\"sk-item\"><div class=\"sk-label-container\"><div class=\"sk-label sk-toggleable\"><input class=\"sk-toggleable__control sk-hidden--visually\" id=\"sk-estimator-id-17\" type=\"checkbox\" ><label for=\"sk-estimator-id-17\" class=\"sk-toggleable__label sk-toggleable__label-arrow\">estimator: GradientBoostingRegressor</label><div class=\"sk-toggleable__content\"><pre>GradientBoostingRegressor(init=DecisionTreeRegressor(random_state=42),\n",
              "                          learning_rate=0.01, n_estimators=200)</pre></div></div></div><div class=\"sk-serial\"><div class=\"sk-item sk-dashed-wrapped\"><div class=\"sk-parallel\"><div class=\"sk-parallel-item\"><div class=\"sk-item\"><div class=\"sk-label-container\"><div class=\"sk-label sk-toggleable\"><input class=\"sk-toggleable__control sk-hidden--visually\" id=\"sk-estimator-id-18\" type=\"checkbox\" ><label for=\"sk-estimator-id-18\" class=\"sk-toggleable__label sk-toggleable__label-arrow\">init: DecisionTreeRegressor</label><div class=\"sk-toggleable__content\"><pre>DecisionTreeRegressor(random_state=42)</pre></div></div></div><div class=\"sk-serial\"><div class=\"sk-item\"><div class=\"sk-estimator sk-toggleable\"><input class=\"sk-toggleable__control sk-hidden--visually\" id=\"sk-estimator-id-19\" type=\"checkbox\" ><label for=\"sk-estimator-id-19\" class=\"sk-toggleable__label sk-toggleable__label-arrow\">DecisionTreeRegressor</label><div class=\"sk-toggleable__content\"><pre>DecisionTreeRegressor(random_state=42)</pre></div></div></div></div></div></div></div></div></div></div></div></div></div></div></div>"
            ]
          },
          "metadata": {},
          "execution_count": 39
        }
      ],
      "source": [
        "#cross validation with gb boost which was our best performing model\n",
        "cv=KFold(n_splits=5)\n",
        "PARAMETERS ={\n",
        "\"max_depth\":[7,10,15],\n",
        "\"n_estimators\":[50,70,120],\n",
        "\"max_features\":['sqrt', 'log2'],\n",
        "\"criterion\":['squared_error', 'friedman_mse'],\n",
        "\"random_state\": [20, 22, 24]}\n",
        "gb_cv = GridSearchCV(estimator = gb,param_grid=PARAMETERS,cv=cv,scoring=\"neg_mean_absolute_error\")\n",
        "gb_cv.fit(Xtrain, Ytrain)"
      ]
    },
    {
      "cell_type": "code",
      "execution_count": 40,
      "metadata": {
        "colab": {
          "base_uri": "https://localhost:8080/"
        },
        "id": "aBh8qDGWRFyS",
        "outputId": "af7b4cc3-197c-4353-9e09-03b1a366a37c"
      },
      "outputs": [
        {
          "output_type": "stream",
          "name": "stdout",
          "text": [
            "Best parameters: {'criterion': 'squared_error', 'max_depth': 7, 'max_features': 'sqrt', 'n_estimators': 50, 'random_state': 20}\n"
          ]
        }
      ],
      "source": [
        "#display the best parameters for the GB regressor\n",
        "best_parameters = gb_cv.best_params_\n",
        "print(\"Best parameters:\", best_parameters)"
      ]
    },
    {
      "cell_type": "code",
      "execution_count": 41,
      "metadata": {
        "colab": {
          "base_uri": "https://localhost:8080/"
        },
        "id": "qYbGSP30RKEB",
        "outputId": "f4a089a5-193a-4f1d-a2ff-f8941e716d36"
      },
      "outputs": [
        {
          "output_type": "stream",
          "name": "stdout",
          "text": [
            "The mean absolute error is  0.24359989443124835\n"
          ]
        }
      ],
      "source": [
        "y_pred=gb_cv.predict(Xtest)\n",
        "print(\"The mean absolute error is \",(mean_absolute_error(y_pred,Ytest))) # display the mean absolute error"
      ]
    },
    {
      "cell_type": "markdown",
      "metadata": {
        "id": "88JMmPmZYY5a"
      },
      "source": [
        "# **5. Model testing with player 22 data**"
      ]
    },
    {
      "cell_type": "code",
      "execution_count": 42,
      "metadata": {
        "colab": {
          "base_uri": "https://localhost:8080/"
        },
        "id": "PZM_TiTMYSVi",
        "outputId": "c8bffb73-2b50-4a4a-b987-bc8e455165c4"
      },
      "outputs": [
        {
          "output_type": "stream",
          "name": "stdout",
          "text": [
            "<class 'pandas.core.frame.DataFrame'>\n",
            "RangeIndex: 19239 entries, 0 to 19238\n",
            "Data columns (total 11 columns):\n",
            " #   Column              Non-Null Count  Dtype  \n",
            "---  ------              --------------  -----  \n",
            " 0   value_eur           19165 non-null  float64\n",
            " 1   release_clause_eur  18063 non-null  float64\n",
            " 2   age                 19239 non-null  int64  \n",
            " 3   potential           19239 non-null  int64  \n",
            " 4   movement_reactions  19239 non-null  int64  \n",
            " 5   wage_eur            19178 non-null  float64\n",
            " 6   gk                  19239 non-null  object \n",
            " 7   lm                  19239 non-null  object \n",
            " 8   rm                  19239 non-null  object \n",
            " 9   cb                  19239 non-null  object \n",
            " 10  rcb                 19239 non-null  object \n",
            "dtypes: float64(3), int64(3), object(5)\n",
            "memory usage: 1.6+ MB\n"
          ]
        }
      ],
      "source": [
        "#using specific columns used in our training data in our testing data\n",
        "new_testing_data = testing_data[training_x.columns]\n",
        "new_testing_data.info()"
      ]
    },
    {
      "cell_type": "code",
      "execution_count": 43,
      "metadata": {
        "colab": {
          "base_uri": "https://localhost:8080/"
        },
        "id": "4YwsOTn-Y_IP",
        "outputId": "65a0bbb9-458c-45a5-c008-671da3ff2fe7"
      },
      "outputs": [
        {
          "output_type": "execute_result",
          "data": {
            "text/plain": [
              "0        93\n",
              "1        92\n",
              "2        91\n",
              "3        91\n",
              "4        91\n",
              "         ..\n",
              "19234    47\n",
              "19235    47\n",
              "19236    47\n",
              "19237    47\n",
              "19238    47\n",
              "Name: overall, Length: 19239, dtype: int64"
            ]
          },
          "metadata": {},
          "execution_count": 43
        }
      ],
      "source": [
        "Y = testing_data['overall']\n",
        "Y"
      ]
    },
    {
      "cell_type": "code",
      "execution_count": 44,
      "metadata": {
        "colab": {
          "base_uri": "https://localhost:8080/"
        },
        "id": "VS2BLbgBZ6Dx",
        "outputId": "eafd2640-0b2d-4389-ff6f-6bbeba9d2264"
      },
      "outputs": [
        {
          "output_type": "stream",
          "name": "stdout",
          "text": [
            "<class 'pandas.core.frame.DataFrame'>\n",
            "RangeIndex: 19239 entries, 0 to 19238\n",
            "Data columns (total 6 columns):\n",
            " #   Column              Non-Null Count  Dtype  \n",
            "---  ------              --------------  -----  \n",
            " 0   value_eur           19165 non-null  float64\n",
            " 1   release_clause_eur  18063 non-null  float64\n",
            " 2   age                 19239 non-null  int64  \n",
            " 3   potential           19239 non-null  int64  \n",
            " 4   movement_reactions  19239 non-null  int64  \n",
            " 5   wage_eur            19178 non-null  float64\n",
            "dtypes: float64(3), int64(3)\n",
            "memory usage: 902.0 KB\n"
          ]
        }
      ],
      "source": [
        "#grouped columns that are numeric\n",
        "numeric_testing = new_testing_data.select_dtypes(include=['int', 'float']).columns\n",
        "numeric_testing = new_testing_data[numeric_testing]\n",
        "numeric_testing.info()"
      ]
    },
    {
      "cell_type": "code",
      "execution_count": 45,
      "metadata": {
        "colab": {
          "base_uri": "https://localhost:8080/"
        },
        "id": "47pxAQW9_GH1",
        "outputId": "407e69cf-4ec1-4a52-8b44-9251e6964d03"
      },
      "outputs": [
        {
          "output_type": "stream",
          "name": "stdout",
          "text": [
            "<class 'pandas.core.frame.DataFrame'>\n",
            "RangeIndex: 19239 entries, 0 to 19238\n",
            "Data columns (total 5 columns):\n",
            " #   Column  Non-Null Count  Dtype \n",
            "---  ------  --------------  ----- \n",
            " 0   gk      19239 non-null  object\n",
            " 1   lm      19239 non-null  object\n",
            " 2   rm      19239 non-null  object\n",
            " 3   cb      19239 non-null  object\n",
            " 4   rcb     19239 non-null  object\n",
            "dtypes: object(5)\n",
            "memory usage: 751.6+ KB\n"
          ]
        }
      ],
      "source": [
        "#grouped all columns with non-numeric values and object\n",
        "object_testing = new_testing_data.select_dtypes(exclude=['int', 'float']).columns\n",
        "object_testing = new_testing_data[object_testing]\n",
        "object_testing.info()"
      ]
    },
    {
      "cell_type": "code",
      "execution_count": 46,
      "metadata": {
        "colab": {
          "base_uri": "https://localhost:8080/"
        },
        "id": "NmxIxX8Eakor",
        "outputId": "abcb1651-5ce2-4cdc-b433-ae17e6718181"
      },
      "outputs": [
        {
          "output_type": "stream",
          "name": "stdout",
          "text": [
            "<class 'pandas.core.frame.DataFrame'>\n",
            "RangeIndex: 19239 entries, 0 to 19238\n",
            "Data columns (total 6 columns):\n",
            " #   Column              Non-Null Count  Dtype  \n",
            "---  ------              --------------  -----  \n",
            " 0   value_eur           19239 non-null  float64\n",
            " 1   release_clause_eur  19239 non-null  float64\n",
            " 2   age                 19239 non-null  float64\n",
            " 3   potential           19239 non-null  float64\n",
            " 4   movement_reactions  19239 non-null  float64\n",
            " 5   wage_eur            19239 non-null  float64\n",
            "dtypes: float64(6)\n",
            "memory usage: 902.0 KB\n"
          ]
        }
      ],
      "source": [
        "#imputed the numeric values using most_frequent ie. to fill in with the mean\n",
        "imp = SimpleImputer(strategy='mean')\n",
        "numeric_testing = pd.DataFrame(imp.fit_transform(numeric_testing), columns = numeric_testing.columns)\n",
        "numeric_testing.info()"
      ]
    },
    {
      "cell_type": "code",
      "execution_count": 47,
      "metadata": {
        "colab": {
          "base_uri": "https://localhost:8080/"
        },
        "id": "HCp6fHvQaflO",
        "outputId": "fa30a4cc-53e2-45e4-b43a-177bcdf1398c"
      },
      "outputs": [
        {
          "output_type": "stream",
          "name": "stdout",
          "text": [
            "<class 'pandas.core.frame.DataFrame'>\n",
            "RangeIndex: 19239 entries, 0 to 19238\n",
            "Data columns (total 5 columns):\n",
            " #   Column  Non-Null Count  Dtype\n",
            "---  ------  --------------  -----\n",
            " 0   gk      19239 non-null  int64\n",
            " 1   lm      19239 non-null  int64\n",
            " 2   rm      19239 non-null  int64\n",
            " 3   cb      19239 non-null  int64\n",
            " 4   rcb     19239 non-null  int64\n",
            "dtypes: int64(5)\n",
            "memory usage: 751.6 KB\n"
          ]
        }
      ],
      "source": [
        "#encode the object data using the label encoder\n",
        "encoded_object = pd.DataFrame()\n",
        "for c in object_testing.columns:\n",
        "  label_encoder = LabelEncoder()\n",
        "  encoded_object[c] = label_encoder.fit_transform(object_testing[c])\n",
        "encoded_object.info()"
      ]
    },
    {
      "cell_type": "code",
      "execution_count": 48,
      "metadata": {
        "colab": {
          "base_uri": "https://localhost:8080/"
        },
        "id": "LQsEpay0bL_J",
        "outputId": "e9d3bd55-98d1-46ae-b8ef-a4ef0abcf6c4"
      },
      "outputs": [
        {
          "output_type": "stream",
          "name": "stdout",
          "text": [
            "<class 'pandas.core.frame.DataFrame'>\n",
            "RangeIndex: 19239 entries, 0 to 19238\n",
            "Data columns (total 11 columns):\n",
            " #   Column              Non-Null Count  Dtype  \n",
            "---  ------              --------------  -----  \n",
            " 0   gk                  19239 non-null  int64  \n",
            " 1   lm                  19239 non-null  int64  \n",
            " 2   rm                  19239 non-null  int64  \n",
            " 3   cb                  19239 non-null  int64  \n",
            " 4   rcb                 19239 non-null  int64  \n",
            " 5   value_eur           19239 non-null  float64\n",
            " 6   release_clause_eur  19239 non-null  float64\n",
            " 7   age                 19239 non-null  float64\n",
            " 8   potential           19239 non-null  float64\n",
            " 9   movement_reactions  19239 non-null  float64\n",
            " 10  wage_eur            19239 non-null  float64\n",
            "dtypes: float64(6), int64(5)\n",
            "memory usage: 1.6 MB\n"
          ]
        }
      ],
      "source": [
        "#rejoined the numeric and non-numeric columns\n",
        "testing_x = pd.DataFrame()\n",
        "testing_x = pd.concat([encoded_object, numeric_testing], axis = 1)\n",
        "testing_x.info()"
      ]
    },
    {
      "cell_type": "code",
      "execution_count": 49,
      "metadata": {
        "colab": {
          "base_uri": "https://localhost:8080/",
          "height": 206
        },
        "id": "0TWXIRz0a_zu",
        "outputId": "4d9c072b-d34d-4d0e-efb6-48e20a9ff2dd"
      },
      "outputs": [
        {
          "output_type": "execute_result",
          "data": {
            "text/plain": [
              "         gk        lm        rm        cb       rcb  value_eur  \\\n",
              "0  0.068706  3.052455  3.052455 -0.533389 -0.533389   9.889601   \n",
              "1  0.068706  2.843314  2.843314  0.334698  0.334698  15.350958   \n",
              "2  0.184414  2.968799  2.968799 -0.320796 -0.320796   5.546836   \n",
              "3  0.184414  3.010627  3.010627 -0.533389 -0.533389  16.601147   \n",
              "4  0.300122  3.010627  3.010627  1.379946  1.379946  16.140551   \n",
              "\n",
              "   release_clause_eur       age  potential  movement_reactions   wage_eur  \n",
              "0            9.591752  1.851089    3.60178            3.599846  15.998022  \n",
              "1           13.244084  1.429869    3.43747            3.489252  13.425844  \n",
              "2            5.380179  2.272309    3.27316            3.599846  13.425844  \n",
              "3           16.109335  0.798039    3.27316            3.046874  13.425844  \n",
              "4           15.660560  1.008649    3.27316            3.268063  17.541329  "
            ],
            "text/html": [
              "\n",
              "  <div id=\"df-a7980400-9178-479b-bdd7-b559dfc1cf96\" class=\"colab-df-container\">\n",
              "    <div>\n",
              "<style scoped>\n",
              "    .dataframe tbody tr th:only-of-type {\n",
              "        vertical-align: middle;\n",
              "    }\n",
              "\n",
              "    .dataframe tbody tr th {\n",
              "        vertical-align: top;\n",
              "    }\n",
              "\n",
              "    .dataframe thead th {\n",
              "        text-align: right;\n",
              "    }\n",
              "</style>\n",
              "<table border=\"1\" class=\"dataframe\">\n",
              "  <thead>\n",
              "    <tr style=\"text-align: right;\">\n",
              "      <th></th>\n",
              "      <th>gk</th>\n",
              "      <th>lm</th>\n",
              "      <th>rm</th>\n",
              "      <th>cb</th>\n",
              "      <th>rcb</th>\n",
              "      <th>value_eur</th>\n",
              "      <th>release_clause_eur</th>\n",
              "      <th>age</th>\n",
              "      <th>potential</th>\n",
              "      <th>movement_reactions</th>\n",
              "      <th>wage_eur</th>\n",
              "    </tr>\n",
              "  </thead>\n",
              "  <tbody>\n",
              "    <tr>\n",
              "      <th>0</th>\n",
              "      <td>0.068706</td>\n",
              "      <td>3.052455</td>\n",
              "      <td>3.052455</td>\n",
              "      <td>-0.533389</td>\n",
              "      <td>-0.533389</td>\n",
              "      <td>9.889601</td>\n",
              "      <td>9.591752</td>\n",
              "      <td>1.851089</td>\n",
              "      <td>3.60178</td>\n",
              "      <td>3.599846</td>\n",
              "      <td>15.998022</td>\n",
              "    </tr>\n",
              "    <tr>\n",
              "      <th>1</th>\n",
              "      <td>0.068706</td>\n",
              "      <td>2.843314</td>\n",
              "      <td>2.843314</td>\n",
              "      <td>0.334698</td>\n",
              "      <td>0.334698</td>\n",
              "      <td>15.350958</td>\n",
              "      <td>13.244084</td>\n",
              "      <td>1.429869</td>\n",
              "      <td>3.43747</td>\n",
              "      <td>3.489252</td>\n",
              "      <td>13.425844</td>\n",
              "    </tr>\n",
              "    <tr>\n",
              "      <th>2</th>\n",
              "      <td>0.184414</td>\n",
              "      <td>2.968799</td>\n",
              "      <td>2.968799</td>\n",
              "      <td>-0.320796</td>\n",
              "      <td>-0.320796</td>\n",
              "      <td>5.546836</td>\n",
              "      <td>5.380179</td>\n",
              "      <td>2.272309</td>\n",
              "      <td>3.27316</td>\n",
              "      <td>3.599846</td>\n",
              "      <td>13.425844</td>\n",
              "    </tr>\n",
              "    <tr>\n",
              "      <th>3</th>\n",
              "      <td>0.184414</td>\n",
              "      <td>3.010627</td>\n",
              "      <td>3.010627</td>\n",
              "      <td>-0.533389</td>\n",
              "      <td>-0.533389</td>\n",
              "      <td>16.601147</td>\n",
              "      <td>16.109335</td>\n",
              "      <td>0.798039</td>\n",
              "      <td>3.27316</td>\n",
              "      <td>3.046874</td>\n",
              "      <td>13.425844</td>\n",
              "    </tr>\n",
              "    <tr>\n",
              "      <th>4</th>\n",
              "      <td>0.300122</td>\n",
              "      <td>3.010627</td>\n",
              "      <td>3.010627</td>\n",
              "      <td>1.379946</td>\n",
              "      <td>1.379946</td>\n",
              "      <td>16.140551</td>\n",
              "      <td>15.660560</td>\n",
              "      <td>1.008649</td>\n",
              "      <td>3.27316</td>\n",
              "      <td>3.268063</td>\n",
              "      <td>17.541329</td>\n",
              "    </tr>\n",
              "  </tbody>\n",
              "</table>\n",
              "</div>\n",
              "    <div class=\"colab-df-buttons\">\n",
              "\n",
              "  <div class=\"colab-df-container\">\n",
              "    <button class=\"colab-df-convert\" onclick=\"convertToInteractive('df-a7980400-9178-479b-bdd7-b559dfc1cf96')\"\n",
              "            title=\"Convert this dataframe to an interactive table.\"\n",
              "            style=\"display:none;\">\n",
              "\n",
              "  <svg xmlns=\"http://www.w3.org/2000/svg\" height=\"24px\" viewBox=\"0 -960 960 960\">\n",
              "    <path d=\"M120-120v-720h720v720H120Zm60-500h600v-160H180v160Zm220 220h160v-160H400v160Zm0 220h160v-160H400v160ZM180-400h160v-160H180v160Zm440 0h160v-160H620v160ZM180-180h160v-160H180v160Zm440 0h160v-160H620v160Z\"/>\n",
              "  </svg>\n",
              "    </button>\n",
              "\n",
              "  <style>\n",
              "    .colab-df-container {\n",
              "      display:flex;\n",
              "      gap: 12px;\n",
              "    }\n",
              "\n",
              "    .colab-df-convert {\n",
              "      background-color: #E8F0FE;\n",
              "      border: none;\n",
              "      border-radius: 50%;\n",
              "      cursor: pointer;\n",
              "      display: none;\n",
              "      fill: #1967D2;\n",
              "      height: 32px;\n",
              "      padding: 0 0 0 0;\n",
              "      width: 32px;\n",
              "    }\n",
              "\n",
              "    .colab-df-convert:hover {\n",
              "      background-color: #E2EBFA;\n",
              "      box-shadow: 0px 1px 2px rgba(60, 64, 67, 0.3), 0px 1px 3px 1px rgba(60, 64, 67, 0.15);\n",
              "      fill: #174EA6;\n",
              "    }\n",
              "\n",
              "    .colab-df-buttons div {\n",
              "      margin-bottom: 4px;\n",
              "    }\n",
              "\n",
              "    [theme=dark] .colab-df-convert {\n",
              "      background-color: #3B4455;\n",
              "      fill: #D2E3FC;\n",
              "    }\n",
              "\n",
              "    [theme=dark] .colab-df-convert:hover {\n",
              "      background-color: #434B5C;\n",
              "      box-shadow: 0px 1px 3px 1px rgba(0, 0, 0, 0.15);\n",
              "      filter: drop-shadow(0px 1px 2px rgba(0, 0, 0, 0.3));\n",
              "      fill: #FFFFFF;\n",
              "    }\n",
              "  </style>\n",
              "\n",
              "    <script>\n",
              "      const buttonEl =\n",
              "        document.querySelector('#df-a7980400-9178-479b-bdd7-b559dfc1cf96 button.colab-df-convert');\n",
              "      buttonEl.style.display =\n",
              "        google.colab.kernel.accessAllowed ? 'block' : 'none';\n",
              "\n",
              "      async function convertToInteractive(key) {\n",
              "        const element = document.querySelector('#df-a7980400-9178-479b-bdd7-b559dfc1cf96');\n",
              "        const dataTable =\n",
              "          await google.colab.kernel.invokeFunction('convertToInteractive',\n",
              "                                                    [key], {});\n",
              "        if (!dataTable) return;\n",
              "\n",
              "        const docLinkHtml = 'Like what you see? Visit the ' +\n",
              "          '<a target=\"_blank\" href=https://colab.research.google.com/notebooks/data_table.ipynb>data table notebook</a>'\n",
              "          + ' to learn more about interactive tables.';\n",
              "        element.innerHTML = '';\n",
              "        dataTable['output_type'] = 'display_data';\n",
              "        await google.colab.output.renderOutput(dataTable, element);\n",
              "        const docLink = document.createElement('div');\n",
              "        docLink.innerHTML = docLinkHtml;\n",
              "        element.appendChild(docLink);\n",
              "      }\n",
              "    </script>\n",
              "  </div>\n",
              "\n",
              "\n",
              "<div id=\"df-1b8e76be-d60b-4b7e-9b9a-a28f78bbb8b9\">\n",
              "  <button class=\"colab-df-quickchart\" onclick=\"quickchart('df-1b8e76be-d60b-4b7e-9b9a-a28f78bbb8b9')\"\n",
              "            title=\"Suggest charts.\"\n",
              "            style=\"display:none;\">\n",
              "\n",
              "<svg xmlns=\"http://www.w3.org/2000/svg\" height=\"24px\"viewBox=\"0 0 24 24\"\n",
              "     width=\"24px\">\n",
              "    <g>\n",
              "        <path d=\"M19 3H5c-1.1 0-2 .9-2 2v14c0 1.1.9 2 2 2h14c1.1 0 2-.9 2-2V5c0-1.1-.9-2-2-2zM9 17H7v-7h2v7zm4 0h-2V7h2v10zm4 0h-2v-4h2v4z\"/>\n",
              "    </g>\n",
              "</svg>\n",
              "  </button>\n",
              "\n",
              "<style>\n",
              "  .colab-df-quickchart {\n",
              "      --bg-color: #E8F0FE;\n",
              "      --fill-color: #1967D2;\n",
              "      --hover-bg-color: #E2EBFA;\n",
              "      --hover-fill-color: #174EA6;\n",
              "      --disabled-fill-color: #AAA;\n",
              "      --disabled-bg-color: #DDD;\n",
              "  }\n",
              "\n",
              "  [theme=dark] .colab-df-quickchart {\n",
              "      --bg-color: #3B4455;\n",
              "      --fill-color: #D2E3FC;\n",
              "      --hover-bg-color: #434B5C;\n",
              "      --hover-fill-color: #FFFFFF;\n",
              "      --disabled-bg-color: #3B4455;\n",
              "      --disabled-fill-color: #666;\n",
              "  }\n",
              "\n",
              "  .colab-df-quickchart {\n",
              "    background-color: var(--bg-color);\n",
              "    border: none;\n",
              "    border-radius: 50%;\n",
              "    cursor: pointer;\n",
              "    display: none;\n",
              "    fill: var(--fill-color);\n",
              "    height: 32px;\n",
              "    padding: 0;\n",
              "    width: 32px;\n",
              "  }\n",
              "\n",
              "  .colab-df-quickchart:hover {\n",
              "    background-color: var(--hover-bg-color);\n",
              "    box-shadow: 0 1px 2px rgba(60, 64, 67, 0.3), 0 1px 3px 1px rgba(60, 64, 67, 0.15);\n",
              "    fill: var(--button-hover-fill-color);\n",
              "  }\n",
              "\n",
              "  .colab-df-quickchart-complete:disabled,\n",
              "  .colab-df-quickchart-complete:disabled:hover {\n",
              "    background-color: var(--disabled-bg-color);\n",
              "    fill: var(--disabled-fill-color);\n",
              "    box-shadow: none;\n",
              "  }\n",
              "\n",
              "  .colab-df-spinner {\n",
              "    border: 2px solid var(--fill-color);\n",
              "    border-color: transparent;\n",
              "    border-bottom-color: var(--fill-color);\n",
              "    animation:\n",
              "      spin 1s steps(1) infinite;\n",
              "  }\n",
              "\n",
              "  @keyframes spin {\n",
              "    0% {\n",
              "      border-color: transparent;\n",
              "      border-bottom-color: var(--fill-color);\n",
              "      border-left-color: var(--fill-color);\n",
              "    }\n",
              "    20% {\n",
              "      border-color: transparent;\n",
              "      border-left-color: var(--fill-color);\n",
              "      border-top-color: var(--fill-color);\n",
              "    }\n",
              "    30% {\n",
              "      border-color: transparent;\n",
              "      border-left-color: var(--fill-color);\n",
              "      border-top-color: var(--fill-color);\n",
              "      border-right-color: var(--fill-color);\n",
              "    }\n",
              "    40% {\n",
              "      border-color: transparent;\n",
              "      border-right-color: var(--fill-color);\n",
              "      border-top-color: var(--fill-color);\n",
              "    }\n",
              "    60% {\n",
              "      border-color: transparent;\n",
              "      border-right-color: var(--fill-color);\n",
              "    }\n",
              "    80% {\n",
              "      border-color: transparent;\n",
              "      border-right-color: var(--fill-color);\n",
              "      border-bottom-color: var(--fill-color);\n",
              "    }\n",
              "    90% {\n",
              "      border-color: transparent;\n",
              "      border-bottom-color: var(--fill-color);\n",
              "    }\n",
              "  }\n",
              "</style>\n",
              "\n",
              "  <script>\n",
              "    async function quickchart(key) {\n",
              "      const quickchartButtonEl =\n",
              "        document.querySelector('#' + key + ' button');\n",
              "      quickchartButtonEl.disabled = true;  // To prevent multiple clicks.\n",
              "      quickchartButtonEl.classList.add('colab-df-spinner');\n",
              "      try {\n",
              "        const charts = await google.colab.kernel.invokeFunction(\n",
              "            'suggestCharts', [key], {});\n",
              "      } catch (error) {\n",
              "        console.error('Error during call to suggestCharts:', error);\n",
              "      }\n",
              "      quickchartButtonEl.classList.remove('colab-df-spinner');\n",
              "      quickchartButtonEl.classList.add('colab-df-quickchart-complete');\n",
              "    }\n",
              "    (() => {\n",
              "      let quickchartButtonEl =\n",
              "        document.querySelector('#df-1b8e76be-d60b-4b7e-9b9a-a28f78bbb8b9 button');\n",
              "      quickchartButtonEl.style.display =\n",
              "        google.colab.kernel.accessAllowed ? 'block' : 'none';\n",
              "    })();\n",
              "  </script>\n",
              "</div>\n",
              "    </div>\n",
              "  </div>\n"
            ]
          },
          "metadata": {},
          "execution_count": 49
        }
      ],
      "source": [
        "sc = StandardScaler()\n",
        "new_testing_x = sc.fit_transform(testing_x)\n",
        "new_testing_x = pd.DataFrame(new_testing_x, columns = testing_x.columns)\n",
        "new_testing_x.head(5)"
      ]
    },
    {
      "cell_type": "code",
      "execution_count": 50,
      "metadata": {
        "id": "Z04SAltMdAW6"
      },
      "outputs": [],
      "source": [
        "Xtrain,Xtest,Ytrain,Ytest=train_test_split(testing_x,Y,test_size=0.2,random_state=42)#split data"
      ]
    },
    {
      "cell_type": "code",
      "execution_count": 51,
      "metadata": {
        "id": "RrCq2yGtdlWg"
      },
      "outputs": [],
      "source": [
        "gb = GradientBoostingRegressor(n_estimators = 50, random_state = 20) #using the best perfomind model to train our 2022 data"
      ]
    },
    {
      "cell_type": "code",
      "execution_count": 52,
      "metadata": {
        "colab": {
          "base_uri": "https://localhost:8080/",
          "height": 75
        },
        "id": "EpSgKaIz21Go",
        "outputId": "8b69fad1-f3a4-46f2-c2c7-9d609dcfffc6"
      },
      "outputs": [
        {
          "output_type": "execute_result",
          "data": {
            "text/plain": [
              "GradientBoostingRegressor(n_estimators=50, random_state=20)"
            ],
            "text/html": [
              "<style>#sk-container-id-8 {color: black;background-color: white;}#sk-container-id-8 pre{padding: 0;}#sk-container-id-8 div.sk-toggleable {background-color: white;}#sk-container-id-8 label.sk-toggleable__label {cursor: pointer;display: block;width: 100%;margin-bottom: 0;padding: 0.3em;box-sizing: border-box;text-align: center;}#sk-container-id-8 label.sk-toggleable__label-arrow:before {content: \"▸\";float: left;margin-right: 0.25em;color: #696969;}#sk-container-id-8 label.sk-toggleable__label-arrow:hover:before {color: black;}#sk-container-id-8 div.sk-estimator:hover label.sk-toggleable__label-arrow:before {color: black;}#sk-container-id-8 div.sk-toggleable__content {max-height: 0;max-width: 0;overflow: hidden;text-align: left;background-color: #f0f8ff;}#sk-container-id-8 div.sk-toggleable__content pre {margin: 0.2em;color: black;border-radius: 0.25em;background-color: #f0f8ff;}#sk-container-id-8 input.sk-toggleable__control:checked~div.sk-toggleable__content {max-height: 200px;max-width: 100%;overflow: auto;}#sk-container-id-8 input.sk-toggleable__control:checked~label.sk-toggleable__label-arrow:before {content: \"▾\";}#sk-container-id-8 div.sk-estimator input.sk-toggleable__control:checked~label.sk-toggleable__label {background-color: #d4ebff;}#sk-container-id-8 div.sk-label input.sk-toggleable__control:checked~label.sk-toggleable__label {background-color: #d4ebff;}#sk-container-id-8 input.sk-hidden--visually {border: 0;clip: rect(1px 1px 1px 1px);clip: rect(1px, 1px, 1px, 1px);height: 1px;margin: -1px;overflow: hidden;padding: 0;position: absolute;width: 1px;}#sk-container-id-8 div.sk-estimator {font-family: monospace;background-color: #f0f8ff;border: 1px dotted black;border-radius: 0.25em;box-sizing: border-box;margin-bottom: 0.5em;}#sk-container-id-8 div.sk-estimator:hover {background-color: #d4ebff;}#sk-container-id-8 div.sk-parallel-item::after {content: \"\";width: 100%;border-bottom: 1px solid gray;flex-grow: 1;}#sk-container-id-8 div.sk-label:hover label.sk-toggleable__label {background-color: #d4ebff;}#sk-container-id-8 div.sk-serial::before {content: \"\";position: absolute;border-left: 1px solid gray;box-sizing: border-box;top: 0;bottom: 0;left: 50%;z-index: 0;}#sk-container-id-8 div.sk-serial {display: flex;flex-direction: column;align-items: center;background-color: white;padding-right: 0.2em;padding-left: 0.2em;position: relative;}#sk-container-id-8 div.sk-item {position: relative;z-index: 1;}#sk-container-id-8 div.sk-parallel {display: flex;align-items: stretch;justify-content: center;background-color: white;position: relative;}#sk-container-id-8 div.sk-item::before, #sk-container-id-8 div.sk-parallel-item::before {content: \"\";position: absolute;border-left: 1px solid gray;box-sizing: border-box;top: 0;bottom: 0;left: 50%;z-index: -1;}#sk-container-id-8 div.sk-parallel-item {display: flex;flex-direction: column;z-index: 1;position: relative;background-color: white;}#sk-container-id-8 div.sk-parallel-item:first-child::after {align-self: flex-end;width: 50%;}#sk-container-id-8 div.sk-parallel-item:last-child::after {align-self: flex-start;width: 50%;}#sk-container-id-8 div.sk-parallel-item:only-child::after {width: 0;}#sk-container-id-8 div.sk-dashed-wrapped {border: 1px dashed gray;margin: 0 0.4em 0.5em 0.4em;box-sizing: border-box;padding-bottom: 0.4em;background-color: white;}#sk-container-id-8 div.sk-label label {font-family: monospace;font-weight: bold;display: inline-block;line-height: 1.2em;}#sk-container-id-8 div.sk-label-container {text-align: center;}#sk-container-id-8 div.sk-container {/* jupyter's `normalize.less` sets `[hidden] { display: none; }` but bootstrap.min.css set `[hidden] { display: none !important; }` so we also need the `!important` here to be able to override the default hidden behavior on the sphinx rendered scikit-learn.org. See: https://github.com/scikit-learn/scikit-learn/issues/21755 */display: inline-block !important;position: relative;}#sk-container-id-8 div.sk-text-repr-fallback {display: none;}</style><div id=\"sk-container-id-8\" class=\"sk-top-container\"><div class=\"sk-text-repr-fallback\"><pre>GradientBoostingRegressor(n_estimators=50, random_state=20)</pre><b>In a Jupyter environment, please rerun this cell to show the HTML representation or trust the notebook. <br />On GitHub, the HTML representation is unable to render, please try loading this page with nbviewer.org.</b></div><div class=\"sk-container\" hidden><div class=\"sk-item\"><div class=\"sk-estimator sk-toggleable\"><input class=\"sk-toggleable__control sk-hidden--visually\" id=\"sk-estimator-id-20\" type=\"checkbox\" checked><label for=\"sk-estimator-id-20\" class=\"sk-toggleable__label sk-toggleable__label-arrow\">GradientBoostingRegressor</label><div class=\"sk-toggleable__content\"><pre>GradientBoostingRegressor(n_estimators=50, random_state=20)</pre></div></div></div></div></div>"
            ]
          },
          "metadata": {},
          "execution_count": 52
        }
      ],
      "source": [
        "gb.fit(Xtrain, Ytrain)"
      ]
    },
    {
      "cell_type": "code",
      "execution_count": 53,
      "metadata": {
        "colab": {
          "base_uri": "https://localhost:8080/"
        },
        "id": "hnbK6sbzmjgw",
        "outputId": "0377fb24-8c3f-436e-e554-1a4d8ba25f4c"
      },
      "outputs": [
        {
          "output_type": "stream",
          "name": "stdout",
          "text": [
            "The mean absolute error is  0.6692440669791501\n"
          ]
        }
      ],
      "source": [
        "y_pred = gb.predict(Xtest)\n",
        "print(\"The mean absolute error is \",(mean_absolute_error(y_pred,Ytest))) # display the mean absolute error"
      ]
    },
    {
      "cell_type": "markdown",
      "metadata": {
        "id": "T3O1lk7Cw8R1"
      },
      "source": [
        "# 6. Saving the model using pickle"
      ]
    },
    {
      "cell_type": "code",
      "execution_count": 54,
      "metadata": {
        "id": "yv5QzyTSQesX"
      },
      "outputs": [],
      "source": [
        "import pickle"
      ]
    },
    {
      "cell_type": "code",
      "execution_count": 55,
      "metadata": {
        "id": "P9GP46xoAIGf"
      },
      "outputs": [],
      "source": [
        "deployment_model = '/content/drive/MyDrive/Colab Notebooks/deployment_model.pkl'\n",
        "pickle.dump(gb, open(deployment_model, 'wb'))\n",
        "loaded_model = pickle.load(open(deployment_model, 'rb'))"
      ]
    },
    {
      "cell_type": "code",
      "execution_count": 56,
      "metadata": {
        "id": "IpmDj-bErONd"
      },
      "outputs": [],
      "source": [
        "scaler_model = '/content/drive/MyDrive/Colab Notebooks/scalar_model.pkl'\n",
        "pickle.dump(sc,open(scaler_model, 'wb'))\n",
        "loaded_model = pickle.load(open(scaler_model, 'rb'))"
      ]
    }
  ],
  "metadata": {
    "colab": {
      "provenance": []
    },
    "kernelspec": {
      "display_name": "Python 3",
      "name": "python3"
    },
    "language_info": {
      "name": "python"
    }
  },
  "nbformat": 4,
  "nbformat_minor": 0
}