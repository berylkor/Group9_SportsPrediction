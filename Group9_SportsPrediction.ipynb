{
  "cells": [
    {
      "cell_type": "code",
      "execution_count": 1,
      "metadata": {
        "colab": {
          "base_uri": "https://localhost:8080/"
        },
        "id": "6UsWj_G6WJ__",
        "outputId": "89c33fe3-4537-4d1e-f657-be0b2b442dad"
      },
      "outputs": [
        {
          "output_type": "stream",
          "name": "stdout",
          "text": [
            "Mounted at /content/drive\n"
          ]
        }
      ],
      "source": [
        "#importing all important libraries\n",
        "import pandas as pd\n",
        "import os\n",
        "import sklearn\n",
        "import numpy as np\n",
        "import pandas as pd\n",
        "import xgboost as xgb\n",
        "import numpy as np, pandas as pd\n",
        "from sklearn import tree, metrics\n",
        "from sklearn.model_selection import train_test_split\n",
        "from sklearn.preprocessing import LabelEncoder\n",
        "from sklearn.preprocessing import StandardScaler\n",
        "from sklearn.impute import SimpleImputer\n",
        "from sklearn.tree import DecisionTreeRegressor\n",
        "from sklearn.ensemble import AdaBoostRegressor\n",
        "from sklearn.metrics import mean_absolute_error\n",
        "from sklearn.ensemble import AdaBoostRegressor\n",
        "from sklearn.ensemble import GradientBoostingRegressor\n",
        "from sklearn.ensemble import RandomForestRegressor\n",
        "from sklearn.model_selection import KFold,GridSearchCV\n",
        "from google.colab import drive\n",
        "drive.mount('/content/drive')"
      ]
    },
    {
      "cell_type": "code",
      "execution_count": 2,
      "metadata": {
        "colab": {
          "base_uri": "https://localhost:8080/"
        },
        "id": "XdDgeoknWUvF",
        "outputId": "e3aef707-2f79-4180-a3d7-a9ac92f310ac"
      },
      "outputs": [
        {
          "output_type": "stream",
          "name": "stderr",
          "text": [
            "<ipython-input-2-8b8b16b05353>:3: DtypeWarning: Columns (25,108) have mixed types. Specify dtype option on import or set low_memory=False.\n",
            "  testing_data = pd.read_csv('/content/drive/MyDrive/Colab Notebooks/players_22.csv')\n"
          ]
        }
      ],
      "source": [
        "#fifa data set to be used\n",
        "training_data = pd.read_csv('/content/drive/MyDrive/Colab Notebooks/players_21.csv')\n",
        "testing_data = pd.read_csv('/content/drive/MyDrive/Colab Notebooks/players_22.csv')"
      ]
    },
    {
      "cell_type": "markdown",
      "metadata": {
        "id": "OAviqq4gXMMC"
      },
      "source": [
        "## **1. Data Preparation and Feature Extraction**"
      ]
    },
    {
      "cell_type": "markdown",
      "metadata": {
        "id": "EC-407PnXHGV"
      },
      "source": [
        "Training Data preprocessing"
      ]
    },
    {
      "cell_type": "code",
      "execution_count": 3,
      "metadata": {
        "id": "mN0O14h-W7D-"
      },
      "outputs": [],
      "source": [
        "# These are columns that contain ids and url links.\n",
        "training_data.drop('sofifa_id', axis = 1, inplace = True)\n",
        "training_data.drop('player_url', axis = 1, inplace = True)\n",
        "training_data.drop('player_face_url', axis = 1, inplace = True)\n",
        "training_data.drop('club_logo_url', axis = 1, inplace = True)\n",
        "training_data.drop('club_flag_url', axis = 1, inplace = True)\n",
        "training_data.drop('nation_logo_url', axis = 1, inplace = True)\n",
        "training_data.drop('nation_flag_url', axis = 1, inplace = True)\n",
        "training_data.drop('nationality_id', axis = 1, inplace = True)\n",
        "training_data.drop('nation_team_id', axis = 1, inplace = True)\n",
        "training_data.drop('club_team_id', axis = 1, inplace = True)\n",
        "training_data.drop('dob', axis = 1, inplace = True) #dropped dob because it basically does the same work as age"
      ]
    },
    {
      "cell_type": "code",
      "execution_count": 4,
      "metadata": {
        "id": "Ble9yck4qgYq"
      },
      "outputs": [],
      "source": [
        "# drop columns with 30% or more missing data\n",
        "missing = (training_data.isnull().sum() / len(training_data)) * 100\n",
        "columns_missing = missing[missing >= 30].index\n",
        "training_data.drop(columns=columns_missing, inplace =True)"
      ]
    },
    {
      "cell_type": "code",
      "execution_count": 5,
      "metadata": {
        "colab": {
          "base_uri": "https://localhost:8080/"
        },
        "id": "9cbxQilergPt",
        "outputId": "40999c2b-61d2-4740-f54a-4e56aed9ec6f"
      },
      "outputs": [
        {
          "output_type": "stream",
          "name": "stdout",
          "text": [
            "<class 'pandas.core.frame.DataFrame'>\n",
            "RangeIndex: 18944 entries, 0 to 18943\n",
            "Data columns (total 93 columns):\n",
            " #   Column                       Non-Null Count  Dtype  \n",
            "---  ------                       --------------  -----  \n",
            " 0   short_name                   18944 non-null  object \n",
            " 1   long_name                    18944 non-null  object \n",
            " 2   player_positions             18944 non-null  object \n",
            " 3   overall                      18944 non-null  int64  \n",
            " 4   potential                    18944 non-null  int64  \n",
            " 5   value_eur                    18707 non-null  float64\n",
            " 6   wage_eur                     18719 non-null  float64\n",
            " 7   age                          18944 non-null  int64  \n",
            " 8   height_cm                    18944 non-null  int64  \n",
            " 9   weight_kg                    18944 non-null  int64  \n",
            " 10  club_name                    18719 non-null  object \n",
            " 11  league_name                  18719 non-null  object \n",
            " 12  league_level                 18719 non-null  float64\n",
            " 13  club_position                18719 non-null  object \n",
            " 14  club_jersey_number           18719 non-null  float64\n",
            " 15  club_joined                  17961 non-null  object \n",
            " 16  club_contract_valid_until    18719 non-null  float64\n",
            " 17  nationality_name             18944 non-null  object \n",
            " 18  preferred_foot               18944 non-null  object \n",
            " 19  weak_foot                    18944 non-null  int64  \n",
            " 20  skill_moves                  18944 non-null  int64  \n",
            " 21  international_reputation     18944 non-null  int64  \n",
            " 22  work_rate                    18944 non-null  object \n",
            " 23  body_type                    18944 non-null  object \n",
            " 24  real_face                    18944 non-null  object \n",
            " 25  release_clause_eur           17949 non-null  float64\n",
            " 26  pace                         16861 non-null  float64\n",
            " 27  shooting                     16861 non-null  float64\n",
            " 28  passing                      16861 non-null  float64\n",
            " 29  dribbling                    16861 non-null  float64\n",
            " 30  defending                    16861 non-null  float64\n",
            " 31  physic                       16861 non-null  float64\n",
            " 32  attacking_crossing           18944 non-null  int64  \n",
            " 33  attacking_finishing          18944 non-null  int64  \n",
            " 34  attacking_heading_accuracy   18944 non-null  int64  \n",
            " 35  attacking_short_passing      18944 non-null  int64  \n",
            " 36  attacking_volleys            18944 non-null  int64  \n",
            " 37  skill_dribbling              18944 non-null  int64  \n",
            " 38  skill_curve                  18944 non-null  int64  \n",
            " 39  skill_fk_accuracy            18944 non-null  int64  \n",
            " 40  skill_long_passing           18944 non-null  int64  \n",
            " 41  skill_ball_control           18944 non-null  int64  \n",
            " 42  movement_acceleration        18944 non-null  int64  \n",
            " 43  movement_sprint_speed        18944 non-null  int64  \n",
            " 44  movement_agility             18944 non-null  int64  \n",
            " 45  movement_reactions           18944 non-null  int64  \n",
            " 46  movement_balance             18944 non-null  int64  \n",
            " 47  power_shot_power             18944 non-null  int64  \n",
            " 48  power_jumping                18944 non-null  int64  \n",
            " 49  power_stamina                18944 non-null  int64  \n",
            " 50  power_strength               18944 non-null  int64  \n",
            " 51  power_long_shots             18944 non-null  int64  \n",
            " 52  mentality_aggression         18944 non-null  int64  \n",
            " 53  mentality_interceptions      18944 non-null  int64  \n",
            " 54  mentality_positioning        18944 non-null  int64  \n",
            " 55  mentality_vision             18944 non-null  int64  \n",
            " 56  mentality_penalties          18944 non-null  int64  \n",
            " 57  mentality_composure          18944 non-null  int64  \n",
            " 58  defending_marking_awareness  18944 non-null  int64  \n",
            " 59  defending_standing_tackle    18944 non-null  int64  \n",
            " 60  defending_sliding_tackle     18944 non-null  int64  \n",
            " 61  goalkeeping_diving           18944 non-null  int64  \n",
            " 62  goalkeeping_handling         18944 non-null  int64  \n",
            " 63  goalkeeping_kicking          18944 non-null  int64  \n",
            " 64  goalkeeping_positioning      18944 non-null  int64  \n",
            " 65  goalkeeping_reflexes         18944 non-null  int64  \n",
            " 66  ls                           18944 non-null  object \n",
            " 67  st                           18944 non-null  object \n",
            " 68  rs                           18944 non-null  object \n",
            " 69  lw                           18944 non-null  object \n",
            " 70  lf                           18944 non-null  object \n",
            " 71  cf                           18944 non-null  object \n",
            " 72  rf                           18944 non-null  object \n",
            " 73  rw                           18944 non-null  object \n",
            " 74  lam                          18944 non-null  object \n",
            " 75  cam                          18944 non-null  object \n",
            " 76  ram                          18944 non-null  object \n",
            " 77  lm                           18944 non-null  object \n",
            " 78  lcm                          18944 non-null  object \n",
            " 79  cm                           18944 non-null  object \n",
            " 80  rcm                          18944 non-null  object \n",
            " 81  rm                           18944 non-null  object \n",
            " 82  lwb                          18944 non-null  object \n",
            " 83  ldm                          18944 non-null  object \n",
            " 84  cdm                          18944 non-null  object \n",
            " 85  rdm                          18944 non-null  object \n",
            " 86  rwb                          18944 non-null  object \n",
            " 87  lb                           18944 non-null  object \n",
            " 88  lcb                          18944 non-null  object \n",
            " 89  cb                           18944 non-null  object \n",
            " 90  rcb                          18944 non-null  object \n",
            " 91  rb                           18944 non-null  object \n",
            " 92  gk                           18944 non-null  object \n",
            "dtypes: float64(12), int64(42), object(39)\n",
            "memory usage: 13.4+ MB\n"
          ]
        }
      ],
      "source": [
        "training_data.info()"
      ]
    },
    {
      "cell_type": "code",
      "execution_count": 6,
      "metadata": {
        "colab": {
          "base_uri": "https://localhost:8080/"
        },
        "id": "A2RHV2yMXxoi",
        "outputId": "060c61fe-110a-44ae-ce90-cc4b1e450988"
      },
      "outputs": [
        {
          "output_type": "execute_result",
          "data": {
            "text/plain": [
              "0        93\n",
              "1        92\n",
              "2        91\n",
              "3        91\n",
              "4        91\n",
              "         ..\n",
              "18939    47\n",
              "18940    47\n",
              "18941    47\n",
              "18942    47\n",
              "18943    47\n",
              "Name: overall, Length: 18944, dtype: int64"
            ]
          },
          "metadata": {},
          "execution_count": 6
        }
      ],
      "source": [
        "Y = pd.DataFrame()\n",
        "Y = training_data['overall'] # separate the overall column as the Y\n",
        "training_data.drop('overall', axis = 1, inplace = True) # drop overall from the training data\n",
        "Y"
      ]
    },
    {
      "cell_type": "code",
      "execution_count": 7,
      "metadata": {
        "colab": {
          "base_uri": "https://localhost:8080/"
        },
        "id": "FL8hZn-EaQxS",
        "outputId": "6cf680ab-acd4-4ad8-ff51-f5e65e7755b0"
      },
      "outputs": [
        {
          "output_type": "stream",
          "name": "stdout",
          "text": [
            "<class 'pandas.core.frame.DataFrame'>\n",
            "RangeIndex: 18944 entries, 0 to 18943\n",
            "Data columns (total 53 columns):\n",
            " #   Column                       Non-Null Count  Dtype  \n",
            "---  ------                       --------------  -----  \n",
            " 0   potential                    18944 non-null  int64  \n",
            " 1   value_eur                    18707 non-null  float64\n",
            " 2   wage_eur                     18719 non-null  float64\n",
            " 3   age                          18944 non-null  int64  \n",
            " 4   height_cm                    18944 non-null  int64  \n",
            " 5   weight_kg                    18944 non-null  int64  \n",
            " 6   league_level                 18719 non-null  float64\n",
            " 7   club_jersey_number           18719 non-null  float64\n",
            " 8   club_contract_valid_until    18719 non-null  float64\n",
            " 9   weak_foot                    18944 non-null  int64  \n",
            " 10  skill_moves                  18944 non-null  int64  \n",
            " 11  international_reputation     18944 non-null  int64  \n",
            " 12  release_clause_eur           17949 non-null  float64\n",
            " 13  pace                         16861 non-null  float64\n",
            " 14  shooting                     16861 non-null  float64\n",
            " 15  passing                      16861 non-null  float64\n",
            " 16  dribbling                    16861 non-null  float64\n",
            " 17  defending                    16861 non-null  float64\n",
            " 18  physic                       16861 non-null  float64\n",
            " 19  attacking_crossing           18944 non-null  int64  \n",
            " 20  attacking_finishing          18944 non-null  int64  \n",
            " 21  attacking_heading_accuracy   18944 non-null  int64  \n",
            " 22  attacking_short_passing      18944 non-null  int64  \n",
            " 23  attacking_volleys            18944 non-null  int64  \n",
            " 24  skill_dribbling              18944 non-null  int64  \n",
            " 25  skill_curve                  18944 non-null  int64  \n",
            " 26  skill_fk_accuracy            18944 non-null  int64  \n",
            " 27  skill_long_passing           18944 non-null  int64  \n",
            " 28  skill_ball_control           18944 non-null  int64  \n",
            " 29  movement_acceleration        18944 non-null  int64  \n",
            " 30  movement_sprint_speed        18944 non-null  int64  \n",
            " 31  movement_agility             18944 non-null  int64  \n",
            " 32  movement_reactions           18944 non-null  int64  \n",
            " 33  movement_balance             18944 non-null  int64  \n",
            " 34  power_shot_power             18944 non-null  int64  \n",
            " 35  power_jumping                18944 non-null  int64  \n",
            " 36  power_stamina                18944 non-null  int64  \n",
            " 37  power_strength               18944 non-null  int64  \n",
            " 38  power_long_shots             18944 non-null  int64  \n",
            " 39  mentality_aggression         18944 non-null  int64  \n",
            " 40  mentality_interceptions      18944 non-null  int64  \n",
            " 41  mentality_positioning        18944 non-null  int64  \n",
            " 42  mentality_vision             18944 non-null  int64  \n",
            " 43  mentality_penalties          18944 non-null  int64  \n",
            " 44  mentality_composure          18944 non-null  int64  \n",
            " 45  defending_marking_awareness  18944 non-null  int64  \n",
            " 46  defending_standing_tackle    18944 non-null  int64  \n",
            " 47  defending_sliding_tackle     18944 non-null  int64  \n",
            " 48  goalkeeping_diving           18944 non-null  int64  \n",
            " 49  goalkeeping_handling         18944 non-null  int64  \n",
            " 50  goalkeeping_kicking          18944 non-null  int64  \n",
            " 51  goalkeeping_positioning      18944 non-null  int64  \n",
            " 52  goalkeeping_reflexes         18944 non-null  int64  \n",
            "dtypes: float64(12), int64(41)\n",
            "memory usage: 7.7 MB\n"
          ]
        }
      ],
      "source": [
        "#grouped columns that are numeric\n",
        "numeric_training = training_data.select_dtypes(include=['int', 'float']).columns # extract numeric data\n",
        "numeric_training = training_data[numeric_training]\n",
        "numeric_training.info()"
      ]
    },
    {
      "cell_type": "code",
      "execution_count": 8,
      "metadata": {
        "colab": {
          "base_uri": "https://localhost:8080/"
        },
        "id": "C7EOAdIme6qQ",
        "outputId": "3cebd579-4982-4098-fd2d-4872487bf426"
      },
      "outputs": [
        {
          "output_type": "stream",
          "name": "stdout",
          "text": [
            "<class 'pandas.core.frame.DataFrame'>\n",
            "RangeIndex: 18944 entries, 0 to 18943\n",
            "Data columns (total 53 columns):\n",
            " #   Column                       Non-Null Count  Dtype  \n",
            "---  ------                       --------------  -----  \n",
            " 0   potential                    18944 non-null  float64\n",
            " 1   value_eur                    18944 non-null  float64\n",
            " 2   wage_eur                     18944 non-null  float64\n",
            " 3   age                          18944 non-null  float64\n",
            " 4   height_cm                    18944 non-null  float64\n",
            " 5   weight_kg                    18944 non-null  float64\n",
            " 6   league_level                 18944 non-null  float64\n",
            " 7   club_jersey_number           18944 non-null  float64\n",
            " 8   club_contract_valid_until    18944 non-null  float64\n",
            " 9   weak_foot                    18944 non-null  float64\n",
            " 10  skill_moves                  18944 non-null  float64\n",
            " 11  international_reputation     18944 non-null  float64\n",
            " 12  release_clause_eur           18944 non-null  float64\n",
            " 13  pace                         18944 non-null  float64\n",
            " 14  shooting                     18944 non-null  float64\n",
            " 15  passing                      18944 non-null  float64\n",
            " 16  dribbling                    18944 non-null  float64\n",
            " 17  defending                    18944 non-null  float64\n",
            " 18  physic                       18944 non-null  float64\n",
            " 19  attacking_crossing           18944 non-null  float64\n",
            " 20  attacking_finishing          18944 non-null  float64\n",
            " 21  attacking_heading_accuracy   18944 non-null  float64\n",
            " 22  attacking_short_passing      18944 non-null  float64\n",
            " 23  attacking_volleys            18944 non-null  float64\n",
            " 24  skill_dribbling              18944 non-null  float64\n",
            " 25  skill_curve                  18944 non-null  float64\n",
            " 26  skill_fk_accuracy            18944 non-null  float64\n",
            " 27  skill_long_passing           18944 non-null  float64\n",
            " 28  skill_ball_control           18944 non-null  float64\n",
            " 29  movement_acceleration        18944 non-null  float64\n",
            " 30  movement_sprint_speed        18944 non-null  float64\n",
            " 31  movement_agility             18944 non-null  float64\n",
            " 32  movement_reactions           18944 non-null  float64\n",
            " 33  movement_balance             18944 non-null  float64\n",
            " 34  power_shot_power             18944 non-null  float64\n",
            " 35  power_jumping                18944 non-null  float64\n",
            " 36  power_stamina                18944 non-null  float64\n",
            " 37  power_strength               18944 non-null  float64\n",
            " 38  power_long_shots             18944 non-null  float64\n",
            " 39  mentality_aggression         18944 non-null  float64\n",
            " 40  mentality_interceptions      18944 non-null  float64\n",
            " 41  mentality_positioning        18944 non-null  float64\n",
            " 42  mentality_vision             18944 non-null  float64\n",
            " 43  mentality_penalties          18944 non-null  float64\n",
            " 44  mentality_composure          18944 non-null  float64\n",
            " 45  defending_marking_awareness  18944 non-null  float64\n",
            " 46  defending_standing_tackle    18944 non-null  float64\n",
            " 47  defending_sliding_tackle     18944 non-null  float64\n",
            " 48  goalkeeping_diving           18944 non-null  float64\n",
            " 49  goalkeeping_handling         18944 non-null  float64\n",
            " 50  goalkeeping_kicking          18944 non-null  float64\n",
            " 51  goalkeeping_positioning      18944 non-null  float64\n",
            " 52  goalkeeping_reflexes         18944 non-null  float64\n",
            "dtypes: float64(53)\n",
            "memory usage: 7.7 MB\n"
          ]
        }
      ],
      "source": [
        "#impute the numeric data using median\n",
        "imp = SimpleImputer(strategy = 'median')\n",
        "numeric_training = pd.DataFrame(imp.fit_transform(numeric_training), columns=numeric_training.columns)\n",
        "numeric_training.info()"
      ]
    },
    {
      "cell_type": "code",
      "execution_count": 9,
      "metadata": {
        "colab": {
          "base_uri": "https://localhost:8080/"
        },
        "id": "6771KKurg4Q6",
        "outputId": "68752dfa-8e61-4b62-da36-09461e476a08"
      },
      "outputs": [
        {
          "output_type": "stream",
          "name": "stdout",
          "text": [
            "<class 'pandas.core.frame.DataFrame'>\n",
            "RangeIndex: 18944 entries, 0 to 18943\n",
            "Data columns (total 39 columns):\n",
            " #   Column            Non-Null Count  Dtype \n",
            "---  ------            --------------  ----- \n",
            " 0   short_name        18944 non-null  object\n",
            " 1   long_name         18944 non-null  object\n",
            " 2   player_positions  18944 non-null  object\n",
            " 3   club_name         18719 non-null  object\n",
            " 4   league_name       18719 non-null  object\n",
            " 5   club_position     18719 non-null  object\n",
            " 6   club_joined       17961 non-null  object\n",
            " 7   nationality_name  18944 non-null  object\n",
            " 8   preferred_foot    18944 non-null  object\n",
            " 9   work_rate         18944 non-null  object\n",
            " 10  body_type         18944 non-null  object\n",
            " 11  real_face         18944 non-null  object\n",
            " 12  ls                18944 non-null  object\n",
            " 13  st                18944 non-null  object\n",
            " 14  rs                18944 non-null  object\n",
            " 15  lw                18944 non-null  object\n",
            " 16  lf                18944 non-null  object\n",
            " 17  cf                18944 non-null  object\n",
            " 18  rf                18944 non-null  object\n",
            " 19  rw                18944 non-null  object\n",
            " 20  lam               18944 non-null  object\n",
            " 21  cam               18944 non-null  object\n",
            " 22  ram               18944 non-null  object\n",
            " 23  lm                18944 non-null  object\n",
            " 24  lcm               18944 non-null  object\n",
            " 25  cm                18944 non-null  object\n",
            " 26  rcm               18944 non-null  object\n",
            " 27  rm                18944 non-null  object\n",
            " 28  lwb               18944 non-null  object\n",
            " 29  ldm               18944 non-null  object\n",
            " 30  cdm               18944 non-null  object\n",
            " 31  rdm               18944 non-null  object\n",
            " 32  rwb               18944 non-null  object\n",
            " 33  lb                18944 non-null  object\n",
            " 34  lcb               18944 non-null  object\n",
            " 35  cb                18944 non-null  object\n",
            " 36  rcb               18944 non-null  object\n",
            " 37  rb                18944 non-null  object\n",
            " 38  gk                18944 non-null  object\n",
            "dtypes: object(39)\n",
            "memory usage: 5.6+ MB\n"
          ]
        }
      ],
      "source": [
        "#grouped all columns with non-numeric values and are objects\n",
        "object_training = training_data.select_dtypes(exclude= ['int', 'float']).columns # extract the object data\n",
        "object_training = training_data[object_training]\n",
        "object_training.info()"
      ]
    },
    {
      "cell_type": "code",
      "execution_count": 10,
      "metadata": {
        "colab": {
          "base_uri": "https://localhost:8080/"
        },
        "id": "dGeLk3D-g-Rp",
        "outputId": "bb513aa8-4a28-45ef-bd65-b10968082ae3"
      },
      "outputs": [
        {
          "output_type": "stream",
          "name": "stdout",
          "text": [
            "<class 'pandas.core.frame.DataFrame'>\n",
            "RangeIndex: 18944 entries, 0 to 18943\n",
            "Data columns (total 39 columns):\n",
            " #   Column            Non-Null Count  Dtype \n",
            "---  ------            --------------  ----- \n",
            " 0   short_name        18944 non-null  object\n",
            " 1   long_name         18944 non-null  object\n",
            " 2   player_positions  18944 non-null  object\n",
            " 3   club_name         18944 non-null  object\n",
            " 4   league_name       18944 non-null  object\n",
            " 5   club_position     18944 non-null  object\n",
            " 6   club_joined       18944 non-null  object\n",
            " 7   nationality_name  18944 non-null  object\n",
            " 8   preferred_foot    18944 non-null  object\n",
            " 9   work_rate         18944 non-null  object\n",
            " 10  body_type         18944 non-null  object\n",
            " 11  real_face         18944 non-null  object\n",
            " 12  ls                18944 non-null  object\n",
            " 13  st                18944 non-null  object\n",
            " 14  rs                18944 non-null  object\n",
            " 15  lw                18944 non-null  object\n",
            " 16  lf                18944 non-null  object\n",
            " 17  cf                18944 non-null  object\n",
            " 18  rf                18944 non-null  object\n",
            " 19  rw                18944 non-null  object\n",
            " 20  lam               18944 non-null  object\n",
            " 21  cam               18944 non-null  object\n",
            " 22  ram               18944 non-null  object\n",
            " 23  lm                18944 non-null  object\n",
            " 24  lcm               18944 non-null  object\n",
            " 25  cm                18944 non-null  object\n",
            " 26  rcm               18944 non-null  object\n",
            " 27  rm                18944 non-null  object\n",
            " 28  lwb               18944 non-null  object\n",
            " 29  ldm               18944 non-null  object\n",
            " 30  cdm               18944 non-null  object\n",
            " 31  rdm               18944 non-null  object\n",
            " 32  rwb               18944 non-null  object\n",
            " 33  lb                18944 non-null  object\n",
            " 34  lcb               18944 non-null  object\n",
            " 35  cb                18944 non-null  object\n",
            " 36  rcb               18944 non-null  object\n",
            " 37  rb                18944 non-null  object\n",
            " 38  gk                18944 non-null  object\n",
            "dtypes: object(39)\n",
            "memory usage: 5.6+ MB\n"
          ]
        }
      ],
      "source": [
        "#imputed the non numeric values using most_frequent ie. to fill in with the most appearing\n",
        "imp = SimpleImputer(strategy='most_frequent') # impute the object data\n",
        "object_training = pd.DataFrame(imp.fit_transform(object_training), columns = object_training.columns)\n",
        "object_training.info()"
      ]
    },
    {
      "cell_type": "code",
      "execution_count": 11,
      "metadata": {
        "colab": {
          "base_uri": "https://localhost:8080/"
        },
        "id": "Er53XaSzfpb-",
        "outputId": "3bcc896b-5da4-427c-f756-ebb5b528693a"
      },
      "outputs": [
        {
          "output_type": "stream",
          "name": "stdout",
          "text": [
            "<class 'pandas.core.frame.DataFrame'>\n",
            "RangeIndex: 18944 entries, 0 to 18943\n",
            "Data columns (total 39 columns):\n",
            " #   Column            Non-Null Count  Dtype\n",
            "---  ------            --------------  -----\n",
            " 0   short_name        18944 non-null  int64\n",
            " 1   long_name         18944 non-null  int64\n",
            " 2   player_positions  18944 non-null  int64\n",
            " 3   club_name         18944 non-null  int64\n",
            " 4   league_name       18944 non-null  int64\n",
            " 5   club_position     18944 non-null  int64\n",
            " 6   club_joined       18944 non-null  int64\n",
            " 7   nationality_name  18944 non-null  int64\n",
            " 8   preferred_foot    18944 non-null  int64\n",
            " 9   work_rate         18944 non-null  int64\n",
            " 10  body_type         18944 non-null  int64\n",
            " 11  real_face         18944 non-null  int64\n",
            " 12  ls                18944 non-null  int64\n",
            " 13  st                18944 non-null  int64\n",
            " 14  rs                18944 non-null  int64\n",
            " 15  lw                18944 non-null  int64\n",
            " 16  lf                18944 non-null  int64\n",
            " 17  cf                18944 non-null  int64\n",
            " 18  rf                18944 non-null  int64\n",
            " 19  rw                18944 non-null  int64\n",
            " 20  lam               18944 non-null  int64\n",
            " 21  cam               18944 non-null  int64\n",
            " 22  ram               18944 non-null  int64\n",
            " 23  lm                18944 non-null  int64\n",
            " 24  lcm               18944 non-null  int64\n",
            " 25  cm                18944 non-null  int64\n",
            " 26  rcm               18944 non-null  int64\n",
            " 27  rm                18944 non-null  int64\n",
            " 28  lwb               18944 non-null  int64\n",
            " 29  ldm               18944 non-null  int64\n",
            " 30  cdm               18944 non-null  int64\n",
            " 31  rdm               18944 non-null  int64\n",
            " 32  rwb               18944 non-null  int64\n",
            " 33  lb                18944 non-null  int64\n",
            " 34  lcb               18944 non-null  int64\n",
            " 35  cb                18944 non-null  int64\n",
            " 36  rcb               18944 non-null  int64\n",
            " 37  rb                18944 non-null  int64\n",
            " 38  gk                18944 non-null  int64\n",
            "dtypes: int64(39)\n",
            "memory usage: 5.6 MB\n"
          ]
        }
      ],
      "source": [
        "#encode the object data using the label encoder\n",
        "encoded_object = pd.DataFrame() # encode the object data\n",
        "for c in object_training.columns:\n",
        "  label_encoder = LabelEncoder()\n",
        "  encoded_object[c] = label_encoder.fit_transform(object_training[c])\n",
        "encoded_object.info()"
      ]
    },
    {
      "cell_type": "code",
      "execution_count": 12,
      "metadata": {
        "colab": {
          "base_uri": "https://localhost:8080/"
        },
        "id": "PI5MaSinhsYc",
        "outputId": "ae823acd-42b9-4ecf-d875-2fa9275fc64d"
      },
      "outputs": [
        {
          "output_type": "stream",
          "name": "stdout",
          "text": [
            "<class 'pandas.core.frame.DataFrame'>\n",
            "RangeIndex: 18944 entries, 0 to 18943\n",
            "Data columns (total 93 columns):\n",
            " #   Column                       Non-Null Count  Dtype  \n",
            "---  ------                       --------------  -----  \n",
            " 0   short_name                   18944 non-null  int64  \n",
            " 1   long_name                    18944 non-null  int64  \n",
            " 2   player_positions             18944 non-null  int64  \n",
            " 3   club_name                    18944 non-null  int64  \n",
            " 4   league_name                  18944 non-null  int64  \n",
            " 5   club_position                18944 non-null  int64  \n",
            " 6   club_joined                  18944 non-null  int64  \n",
            " 7   nationality_name             18944 non-null  int64  \n",
            " 8   preferred_foot               18944 non-null  int64  \n",
            " 9   work_rate                    18944 non-null  int64  \n",
            " 10  body_type                    18944 non-null  int64  \n",
            " 11  real_face                    18944 non-null  int64  \n",
            " 12  ls                           18944 non-null  int64  \n",
            " 13  st                           18944 non-null  int64  \n",
            " 14  rs                           18944 non-null  int64  \n",
            " 15  lw                           18944 non-null  int64  \n",
            " 16  lf                           18944 non-null  int64  \n",
            " 17  cf                           18944 non-null  int64  \n",
            " 18  rf                           18944 non-null  int64  \n",
            " 19  rw                           18944 non-null  int64  \n",
            " 20  lam                          18944 non-null  int64  \n",
            " 21  cam                          18944 non-null  int64  \n",
            " 22  ram                          18944 non-null  int64  \n",
            " 23  lm                           18944 non-null  int64  \n",
            " 24  lcm                          18944 non-null  int64  \n",
            " 25  cm                           18944 non-null  int64  \n",
            " 26  rcm                          18944 non-null  int64  \n",
            " 27  rm                           18944 non-null  int64  \n",
            " 28  lwb                          18944 non-null  int64  \n",
            " 29  ldm                          18944 non-null  int64  \n",
            " 30  cdm                          18944 non-null  int64  \n",
            " 31  rdm                          18944 non-null  int64  \n",
            " 32  rwb                          18944 non-null  int64  \n",
            " 33  lb                           18944 non-null  int64  \n",
            " 34  lcb                          18944 non-null  int64  \n",
            " 35  cb                           18944 non-null  int64  \n",
            " 36  rcb                          18944 non-null  int64  \n",
            " 37  rb                           18944 non-null  int64  \n",
            " 38  gk                           18944 non-null  int64  \n",
            " 39  potential                    18944 non-null  float64\n",
            " 40  value_eur                    18944 non-null  float64\n",
            " 41  wage_eur                     18944 non-null  float64\n",
            " 42  age                          18944 non-null  float64\n",
            " 43  height_cm                    18944 non-null  float64\n",
            " 44  weight_kg                    18944 non-null  float64\n",
            " 45  league_level                 18944 non-null  float64\n",
            " 46  club_jersey_number           18944 non-null  float64\n",
            " 47  club_contract_valid_until    18944 non-null  float64\n",
            " 48  weak_foot                    18944 non-null  float64\n",
            " 49  skill_moves                  18944 non-null  float64\n",
            " 50  international_reputation     18944 non-null  float64\n",
            " 51  release_clause_eur           18944 non-null  float64\n",
            " 52  pace                         18944 non-null  float64\n",
            " 53  shooting                     18944 non-null  float64\n",
            " 54  passing                      18944 non-null  float64\n",
            " 55  dribbling                    18944 non-null  float64\n",
            " 56  defending                    18944 non-null  float64\n",
            " 57  physic                       18944 non-null  float64\n",
            " 58  attacking_crossing           18944 non-null  float64\n",
            " 59  attacking_finishing          18944 non-null  float64\n",
            " 60  attacking_heading_accuracy   18944 non-null  float64\n",
            " 61  attacking_short_passing      18944 non-null  float64\n",
            " 62  attacking_volleys            18944 non-null  float64\n",
            " 63  skill_dribbling              18944 non-null  float64\n",
            " 64  skill_curve                  18944 non-null  float64\n",
            " 65  skill_fk_accuracy            18944 non-null  float64\n",
            " 66  skill_long_passing           18944 non-null  float64\n",
            " 67  skill_ball_control           18944 non-null  float64\n",
            " 68  movement_acceleration        18944 non-null  float64\n",
            " 69  movement_sprint_speed        18944 non-null  float64\n",
            " 70  movement_agility             18944 non-null  float64\n",
            " 71  movement_reactions           18944 non-null  float64\n",
            " 72  movement_balance             18944 non-null  float64\n",
            " 73  power_shot_power             18944 non-null  float64\n",
            " 74  power_jumping                18944 non-null  float64\n",
            " 75  power_stamina                18944 non-null  float64\n",
            " 76  power_strength               18944 non-null  float64\n",
            " 77  power_long_shots             18944 non-null  float64\n",
            " 78  mentality_aggression         18944 non-null  float64\n",
            " 79  mentality_interceptions      18944 non-null  float64\n",
            " 80  mentality_positioning        18944 non-null  float64\n",
            " 81  mentality_vision             18944 non-null  float64\n",
            " 82  mentality_penalties          18944 non-null  float64\n",
            " 83  mentality_composure          18944 non-null  float64\n",
            " 84  defending_marking_awareness  18944 non-null  float64\n",
            " 85  defending_standing_tackle    18944 non-null  float64\n",
            " 86  defending_sliding_tackle     18944 non-null  float64\n",
            " 87  goalkeeping_diving           18944 non-null  float64\n",
            " 88  goalkeeping_handling         18944 non-null  float64\n",
            " 89  goalkeeping_kicking          18944 non-null  float64\n",
            " 90  goalkeeping_positioning      18944 non-null  float64\n",
            " 91  goalkeeping_reflexes         18944 non-null  float64\n",
            " 92  overall                      18944 non-null  int64  \n",
            "dtypes: float64(53), int64(40)\n",
            "memory usage: 13.4 MB\n"
          ]
        }
      ],
      "source": [
        "# combine numeric column and object column with overall\n",
        "training_data = pd.DataFrame()\n",
        "training_data = pd.concat([encoded_object, numeric_training], axis = 1)\n",
        "training_data['overall'] = Y\n",
        "training_data.info()"
      ]
    },
    {
      "cell_type": "markdown",
      "metadata": {
        "id": "MQ9rtM-_R2fT"
      },
      "source": [
        "# **2. Feature Subsets**"
      ]
    },
    {
      "cell_type": "code",
      "execution_count": 13,
      "metadata": {
        "colab": {
          "base_uri": "https://localhost:8080/"
        },
        "id": "LrkyZs8pjH0G",
        "outputId": "9b9e2c44-f4fd-4e04-87e0-332a47a83399"
      },
      "outputs": [
        {
          "output_type": "stream",
          "name": "stdout",
          "text": [
            "<class 'pandas.core.frame.DataFrame'>\n",
            "RangeIndex: 18944 entries, 0 to 18943\n",
            "Data columns (total 92 columns):\n",
            " #   Column                       Non-Null Count  Dtype  \n",
            "---  ------                       --------------  -----  \n",
            " 0   short_name                   18944 non-null  int64  \n",
            " 1   long_name                    18944 non-null  int64  \n",
            " 2   player_positions             18944 non-null  int64  \n",
            " 3   club_name                    18944 non-null  int64  \n",
            " 4   league_name                  18944 non-null  int64  \n",
            " 5   club_position                18944 non-null  int64  \n",
            " 6   club_joined                  18944 non-null  int64  \n",
            " 7   nationality_name             18944 non-null  int64  \n",
            " 8   preferred_foot               18944 non-null  int64  \n",
            " 9   work_rate                    18944 non-null  int64  \n",
            " 10  body_type                    18944 non-null  int64  \n",
            " 11  real_face                    18944 non-null  int64  \n",
            " 12  ls                           18944 non-null  int64  \n",
            " 13  st                           18944 non-null  int64  \n",
            " 14  rs                           18944 non-null  int64  \n",
            " 15  lw                           18944 non-null  int64  \n",
            " 16  lf                           18944 non-null  int64  \n",
            " 17  cf                           18944 non-null  int64  \n",
            " 18  rf                           18944 non-null  int64  \n",
            " 19  rw                           18944 non-null  int64  \n",
            " 20  lam                          18944 non-null  int64  \n",
            " 21  cam                          18944 non-null  int64  \n",
            " 22  ram                          18944 non-null  int64  \n",
            " 23  lm                           18944 non-null  int64  \n",
            " 24  lcm                          18944 non-null  int64  \n",
            " 25  cm                           18944 non-null  int64  \n",
            " 26  rcm                          18944 non-null  int64  \n",
            " 27  rm                           18944 non-null  int64  \n",
            " 28  lwb                          18944 non-null  int64  \n",
            " 29  ldm                          18944 non-null  int64  \n",
            " 30  cdm                          18944 non-null  int64  \n",
            " 31  rdm                          18944 non-null  int64  \n",
            " 32  rwb                          18944 non-null  int64  \n",
            " 33  lb                           18944 non-null  int64  \n",
            " 34  lcb                          18944 non-null  int64  \n",
            " 35  cb                           18944 non-null  int64  \n",
            " 36  rcb                          18944 non-null  int64  \n",
            " 37  rb                           18944 non-null  int64  \n",
            " 38  gk                           18944 non-null  int64  \n",
            " 39  potential                    18944 non-null  float64\n",
            " 40  value_eur                    18944 non-null  float64\n",
            " 41  wage_eur                     18944 non-null  float64\n",
            " 42  age                          18944 non-null  float64\n",
            " 43  height_cm                    18944 non-null  float64\n",
            " 44  weight_kg                    18944 non-null  float64\n",
            " 45  league_level                 18944 non-null  float64\n",
            " 46  club_jersey_number           18944 non-null  float64\n",
            " 47  club_contract_valid_until    18944 non-null  float64\n",
            " 48  weak_foot                    18944 non-null  float64\n",
            " 49  skill_moves                  18944 non-null  float64\n",
            " 50  international_reputation     18944 non-null  float64\n",
            " 51  release_clause_eur           18944 non-null  float64\n",
            " 52  pace                         18944 non-null  float64\n",
            " 53  shooting                     18944 non-null  float64\n",
            " 54  passing                      18944 non-null  float64\n",
            " 55  dribbling                    18944 non-null  float64\n",
            " 56  defending                    18944 non-null  float64\n",
            " 57  physic                       18944 non-null  float64\n",
            " 58  attacking_crossing           18944 non-null  float64\n",
            " 59  attacking_finishing          18944 non-null  float64\n",
            " 60  attacking_heading_accuracy   18944 non-null  float64\n",
            " 61  attacking_short_passing      18944 non-null  float64\n",
            " 62  attacking_volleys            18944 non-null  float64\n",
            " 63  skill_dribbling              18944 non-null  float64\n",
            " 64  skill_curve                  18944 non-null  float64\n",
            " 65  skill_fk_accuracy            18944 non-null  float64\n",
            " 66  skill_long_passing           18944 non-null  float64\n",
            " 67  skill_ball_control           18944 non-null  float64\n",
            " 68  movement_acceleration        18944 non-null  float64\n",
            " 69  movement_sprint_speed        18944 non-null  float64\n",
            " 70  movement_agility             18944 non-null  float64\n",
            " 71  movement_reactions           18944 non-null  float64\n",
            " 72  movement_balance             18944 non-null  float64\n",
            " 73  power_shot_power             18944 non-null  float64\n",
            " 74  power_jumping                18944 non-null  float64\n",
            " 75  power_stamina                18944 non-null  float64\n",
            " 76  power_strength               18944 non-null  float64\n",
            " 77  power_long_shots             18944 non-null  float64\n",
            " 78  mentality_aggression         18944 non-null  float64\n",
            " 79  mentality_interceptions      18944 non-null  float64\n",
            " 80  mentality_positioning        18944 non-null  float64\n",
            " 81  mentality_vision             18944 non-null  float64\n",
            " 82  mentality_penalties          18944 non-null  float64\n",
            " 83  mentality_composure          18944 non-null  float64\n",
            " 84  defending_marking_awareness  18944 non-null  float64\n",
            " 85  defending_standing_tackle    18944 non-null  float64\n",
            " 86  defending_sliding_tackle     18944 non-null  float64\n",
            " 87  goalkeeping_diving           18944 non-null  float64\n",
            " 88  goalkeeping_handling         18944 non-null  float64\n",
            " 89  goalkeeping_kicking          18944 non-null  float64\n",
            " 90  goalkeeping_positioning      18944 non-null  float64\n",
            " 91  goalkeeping_reflexes         18944 non-null  float64\n",
            "dtypes: float64(53), int64(39)\n",
            "memory usage: 13.3 MB\n"
          ]
        }
      ],
      "source": [
        "#removing overall from the training data\n",
        "Y = training_data['overall'] # extract overall\n",
        "training_data.drop('overall', axis = 1, inplace = True) # drop overall\n",
        "training_data.info()"
      ]
    },
    {
      "cell_type": "code",
      "execution_count": 14,
      "metadata": {
        "colab": {
          "base_uri": "https://localhost:8080/",
          "height": 74
        },
        "id": "JOz87KMkhxAS",
        "outputId": "3298d08f-fb78-49c5-cb41-510bade39bbe"
      },
      "outputs": [
        {
          "output_type": "execute_result",
          "data": {
            "text/plain": [
              "RandomForestRegressor()"
            ],
            "text/html": [
              "<style>#sk-container-id-1 {color: black;background-color: white;}#sk-container-id-1 pre{padding: 0;}#sk-container-id-1 div.sk-toggleable {background-color: white;}#sk-container-id-1 label.sk-toggleable__label {cursor: pointer;display: block;width: 100%;margin-bottom: 0;padding: 0.3em;box-sizing: border-box;text-align: center;}#sk-container-id-1 label.sk-toggleable__label-arrow:before {content: \"▸\";float: left;margin-right: 0.25em;color: #696969;}#sk-container-id-1 label.sk-toggleable__label-arrow:hover:before {color: black;}#sk-container-id-1 div.sk-estimator:hover label.sk-toggleable__label-arrow:before {color: black;}#sk-container-id-1 div.sk-toggleable__content {max-height: 0;max-width: 0;overflow: hidden;text-align: left;background-color: #f0f8ff;}#sk-container-id-1 div.sk-toggleable__content pre {margin: 0.2em;color: black;border-radius: 0.25em;background-color: #f0f8ff;}#sk-container-id-1 input.sk-toggleable__control:checked~div.sk-toggleable__content {max-height: 200px;max-width: 100%;overflow: auto;}#sk-container-id-1 input.sk-toggleable__control:checked~label.sk-toggleable__label-arrow:before {content: \"▾\";}#sk-container-id-1 div.sk-estimator input.sk-toggleable__control:checked~label.sk-toggleable__label {background-color: #d4ebff;}#sk-container-id-1 div.sk-label input.sk-toggleable__control:checked~label.sk-toggleable__label {background-color: #d4ebff;}#sk-container-id-1 input.sk-hidden--visually {border: 0;clip: rect(1px 1px 1px 1px);clip: rect(1px, 1px, 1px, 1px);height: 1px;margin: -1px;overflow: hidden;padding: 0;position: absolute;width: 1px;}#sk-container-id-1 div.sk-estimator {font-family: monospace;background-color: #f0f8ff;border: 1px dotted black;border-radius: 0.25em;box-sizing: border-box;margin-bottom: 0.5em;}#sk-container-id-1 div.sk-estimator:hover {background-color: #d4ebff;}#sk-container-id-1 div.sk-parallel-item::after {content: \"\";width: 100%;border-bottom: 1px solid gray;flex-grow: 1;}#sk-container-id-1 div.sk-label:hover label.sk-toggleable__label {background-color: #d4ebff;}#sk-container-id-1 div.sk-serial::before {content: \"\";position: absolute;border-left: 1px solid gray;box-sizing: border-box;top: 0;bottom: 0;left: 50%;z-index: 0;}#sk-container-id-1 div.sk-serial {display: flex;flex-direction: column;align-items: center;background-color: white;padding-right: 0.2em;padding-left: 0.2em;position: relative;}#sk-container-id-1 div.sk-item {position: relative;z-index: 1;}#sk-container-id-1 div.sk-parallel {display: flex;align-items: stretch;justify-content: center;background-color: white;position: relative;}#sk-container-id-1 div.sk-item::before, #sk-container-id-1 div.sk-parallel-item::before {content: \"\";position: absolute;border-left: 1px solid gray;box-sizing: border-box;top: 0;bottom: 0;left: 50%;z-index: -1;}#sk-container-id-1 div.sk-parallel-item {display: flex;flex-direction: column;z-index: 1;position: relative;background-color: white;}#sk-container-id-1 div.sk-parallel-item:first-child::after {align-self: flex-end;width: 50%;}#sk-container-id-1 div.sk-parallel-item:last-child::after {align-self: flex-start;width: 50%;}#sk-container-id-1 div.sk-parallel-item:only-child::after {width: 0;}#sk-container-id-1 div.sk-dashed-wrapped {border: 1px dashed gray;margin: 0 0.4em 0.5em 0.4em;box-sizing: border-box;padding-bottom: 0.4em;background-color: white;}#sk-container-id-1 div.sk-label label {font-family: monospace;font-weight: bold;display: inline-block;line-height: 1.2em;}#sk-container-id-1 div.sk-label-container {text-align: center;}#sk-container-id-1 div.sk-container {/* jupyter's `normalize.less` sets `[hidden] { display: none; }` but bootstrap.min.css set `[hidden] { display: none !important; }` so we also need the `!important` here to be able to override the default hidden behavior on the sphinx rendered scikit-learn.org. See: https://github.com/scikit-learn/scikit-learn/issues/21755 */display: inline-block !important;position: relative;}#sk-container-id-1 div.sk-text-repr-fallback {display: none;}</style><div id=\"sk-container-id-1\" class=\"sk-top-container\"><div class=\"sk-text-repr-fallback\"><pre>RandomForestRegressor()</pre><b>In a Jupyter environment, please rerun this cell to show the HTML representation or trust the notebook. <br />On GitHub, the HTML representation is unable to render, please try loading this page with nbviewer.org.</b></div><div class=\"sk-container\" hidden><div class=\"sk-item\"><div class=\"sk-estimator sk-toggleable\"><input class=\"sk-toggleable__control sk-hidden--visually\" id=\"sk-estimator-id-1\" type=\"checkbox\" checked><label for=\"sk-estimator-id-1\" class=\"sk-toggleable__label sk-toggleable__label-arrow\">RandomForestRegressor</label><div class=\"sk-toggleable__content\"><pre>RandomForestRegressor()</pre></div></div></div></div></div>"
            ]
          },
          "metadata": {},
          "execution_count": 14
        }
      ],
      "source": [
        "#Training using rf for Feature Importance\n",
        "model=RandomForestRegressor()\n",
        "model.fit(training_data,Y)"
      ]
    },
    {
      "cell_type": "code",
      "execution_count": 15,
      "metadata": {
        "colab": {
          "base_uri": "https://localhost:8080/",
          "height": 423
        },
        "id": "VYmyB0Ikhw3m",
        "outputId": "2adf4b5c-a7b3-4fef-bec1-dd881f46be74"
      },
      "outputs": [
        {
          "output_type": "execute_result",
          "data": {
            "text/plain": [
              "               Feature  Importance\n",
              "40           value_eur    0.463980\n",
              "51  release_clause_eur    0.324312\n",
              "42                 age    0.115298\n",
              "39           potential    0.053502\n",
              "71  movement_reactions    0.028905\n",
              "..                 ...         ...\n",
              "48           weak_foot    0.000019\n",
              "45        league_level    0.000017\n",
              "49         skill_moves    0.000010\n",
              "8       preferred_foot    0.000006\n",
              "11           real_face    0.000004\n",
              "\n",
              "[92 rows x 2 columns]"
            ],
            "text/html": [
              "\n",
              "  <div id=\"df-008dde0e-1d76-420d-8e59-73b40ffa0a21\" class=\"colab-df-container\">\n",
              "    <div>\n",
              "<style scoped>\n",
              "    .dataframe tbody tr th:only-of-type {\n",
              "        vertical-align: middle;\n",
              "    }\n",
              "\n",
              "    .dataframe tbody tr th {\n",
              "        vertical-align: top;\n",
              "    }\n",
              "\n",
              "    .dataframe thead th {\n",
              "        text-align: right;\n",
              "    }\n",
              "</style>\n",
              "<table border=\"1\" class=\"dataframe\">\n",
              "  <thead>\n",
              "    <tr style=\"text-align: right;\">\n",
              "      <th></th>\n",
              "      <th>Feature</th>\n",
              "      <th>Importance</th>\n",
              "    </tr>\n",
              "  </thead>\n",
              "  <tbody>\n",
              "    <tr>\n",
              "      <th>40</th>\n",
              "      <td>value_eur</td>\n",
              "      <td>0.463980</td>\n",
              "    </tr>\n",
              "    <tr>\n",
              "      <th>51</th>\n",
              "      <td>release_clause_eur</td>\n",
              "      <td>0.324312</td>\n",
              "    </tr>\n",
              "    <tr>\n",
              "      <th>42</th>\n",
              "      <td>age</td>\n",
              "      <td>0.115298</td>\n",
              "    </tr>\n",
              "    <tr>\n",
              "      <th>39</th>\n",
              "      <td>potential</td>\n",
              "      <td>0.053502</td>\n",
              "    </tr>\n",
              "    <tr>\n",
              "      <th>71</th>\n",
              "      <td>movement_reactions</td>\n",
              "      <td>0.028905</td>\n",
              "    </tr>\n",
              "    <tr>\n",
              "      <th>...</th>\n",
              "      <td>...</td>\n",
              "      <td>...</td>\n",
              "    </tr>\n",
              "    <tr>\n",
              "      <th>48</th>\n",
              "      <td>weak_foot</td>\n",
              "      <td>0.000019</td>\n",
              "    </tr>\n",
              "    <tr>\n",
              "      <th>45</th>\n",
              "      <td>league_level</td>\n",
              "      <td>0.000017</td>\n",
              "    </tr>\n",
              "    <tr>\n",
              "      <th>49</th>\n",
              "      <td>skill_moves</td>\n",
              "      <td>0.000010</td>\n",
              "    </tr>\n",
              "    <tr>\n",
              "      <th>8</th>\n",
              "      <td>preferred_foot</td>\n",
              "      <td>0.000006</td>\n",
              "    </tr>\n",
              "    <tr>\n",
              "      <th>11</th>\n",
              "      <td>real_face</td>\n",
              "      <td>0.000004</td>\n",
              "    </tr>\n",
              "  </tbody>\n",
              "</table>\n",
              "<p>92 rows × 2 columns</p>\n",
              "</div>\n",
              "    <div class=\"colab-df-buttons\">\n",
              "\n",
              "  <div class=\"colab-df-container\">\n",
              "    <button class=\"colab-df-convert\" onclick=\"convertToInteractive('df-008dde0e-1d76-420d-8e59-73b40ffa0a21')\"\n",
              "            title=\"Convert this dataframe to an interactive table.\"\n",
              "            style=\"display:none;\">\n",
              "\n",
              "  <svg xmlns=\"http://www.w3.org/2000/svg\" height=\"24px\" viewBox=\"0 -960 960 960\">\n",
              "    <path d=\"M120-120v-720h720v720H120Zm60-500h600v-160H180v160Zm220 220h160v-160H400v160Zm0 220h160v-160H400v160ZM180-400h160v-160H180v160Zm440 0h160v-160H620v160ZM180-180h160v-160H180v160Zm440 0h160v-160H620v160Z\"/>\n",
              "  </svg>\n",
              "    </button>\n",
              "\n",
              "  <style>\n",
              "    .colab-df-container {\n",
              "      display:flex;\n",
              "      gap: 12px;\n",
              "    }\n",
              "\n",
              "    .colab-df-convert {\n",
              "      background-color: #E8F0FE;\n",
              "      border: none;\n",
              "      border-radius: 50%;\n",
              "      cursor: pointer;\n",
              "      display: none;\n",
              "      fill: #1967D2;\n",
              "      height: 32px;\n",
              "      padding: 0 0 0 0;\n",
              "      width: 32px;\n",
              "    }\n",
              "\n",
              "    .colab-df-convert:hover {\n",
              "      background-color: #E2EBFA;\n",
              "      box-shadow: 0px 1px 2px rgba(60, 64, 67, 0.3), 0px 1px 3px 1px rgba(60, 64, 67, 0.15);\n",
              "      fill: #174EA6;\n",
              "    }\n",
              "\n",
              "    .colab-df-buttons div {\n",
              "      margin-bottom: 4px;\n",
              "    }\n",
              "\n",
              "    [theme=dark] .colab-df-convert {\n",
              "      background-color: #3B4455;\n",
              "      fill: #D2E3FC;\n",
              "    }\n",
              "\n",
              "    [theme=dark] .colab-df-convert:hover {\n",
              "      background-color: #434B5C;\n",
              "      box-shadow: 0px 1px 3px 1px rgba(0, 0, 0, 0.15);\n",
              "      filter: drop-shadow(0px 1px 2px rgba(0, 0, 0, 0.3));\n",
              "      fill: #FFFFFF;\n",
              "    }\n",
              "  </style>\n",
              "\n",
              "    <script>\n",
              "      const buttonEl =\n",
              "        document.querySelector('#df-008dde0e-1d76-420d-8e59-73b40ffa0a21 button.colab-df-convert');\n",
              "      buttonEl.style.display =\n",
              "        google.colab.kernel.accessAllowed ? 'block' : 'none';\n",
              "\n",
              "      async function convertToInteractive(key) {\n",
              "        const element = document.querySelector('#df-008dde0e-1d76-420d-8e59-73b40ffa0a21');\n",
              "        const dataTable =\n",
              "          await google.colab.kernel.invokeFunction('convertToInteractive',\n",
              "                                                    [key], {});\n",
              "        if (!dataTable) return;\n",
              "\n",
              "        const docLinkHtml = 'Like what you see? Visit the ' +\n",
              "          '<a target=\"_blank\" href=https://colab.research.google.com/notebooks/data_table.ipynb>data table notebook</a>'\n",
              "          + ' to learn more about interactive tables.';\n",
              "        element.innerHTML = '';\n",
              "        dataTable['output_type'] = 'display_data';\n",
              "        await google.colab.output.renderOutput(dataTable, element);\n",
              "        const docLink = document.createElement('div');\n",
              "        docLink.innerHTML = docLinkHtml;\n",
              "        element.appendChild(docLink);\n",
              "      }\n",
              "    </script>\n",
              "  </div>\n",
              "\n",
              "\n",
              "<div id=\"df-fd5e8164-9d5e-4731-bfec-5eb0b584a6b6\">\n",
              "  <button class=\"colab-df-quickchart\" onclick=\"quickchart('df-fd5e8164-9d5e-4731-bfec-5eb0b584a6b6')\"\n",
              "            title=\"Suggest charts.\"\n",
              "            style=\"display:none;\">\n",
              "\n",
              "<svg xmlns=\"http://www.w3.org/2000/svg\" height=\"24px\"viewBox=\"0 0 24 24\"\n",
              "     width=\"24px\">\n",
              "    <g>\n",
              "        <path d=\"M19 3H5c-1.1 0-2 .9-2 2v14c0 1.1.9 2 2 2h14c1.1 0 2-.9 2-2V5c0-1.1-.9-2-2-2zM9 17H7v-7h2v7zm4 0h-2V7h2v10zm4 0h-2v-4h2v4z\"/>\n",
              "    </g>\n",
              "</svg>\n",
              "  </button>\n",
              "\n",
              "<style>\n",
              "  .colab-df-quickchart {\n",
              "      --bg-color: #E8F0FE;\n",
              "      --fill-color: #1967D2;\n",
              "      --hover-bg-color: #E2EBFA;\n",
              "      --hover-fill-color: #174EA6;\n",
              "      --disabled-fill-color: #AAA;\n",
              "      --disabled-bg-color: #DDD;\n",
              "  }\n",
              "\n",
              "  [theme=dark] .colab-df-quickchart {\n",
              "      --bg-color: #3B4455;\n",
              "      --fill-color: #D2E3FC;\n",
              "      --hover-bg-color: #434B5C;\n",
              "      --hover-fill-color: #FFFFFF;\n",
              "      --disabled-bg-color: #3B4455;\n",
              "      --disabled-fill-color: #666;\n",
              "  }\n",
              "\n",
              "  .colab-df-quickchart {\n",
              "    background-color: var(--bg-color);\n",
              "    border: none;\n",
              "    border-radius: 50%;\n",
              "    cursor: pointer;\n",
              "    display: none;\n",
              "    fill: var(--fill-color);\n",
              "    height: 32px;\n",
              "    padding: 0;\n",
              "    width: 32px;\n",
              "  }\n",
              "\n",
              "  .colab-df-quickchart:hover {\n",
              "    background-color: var(--hover-bg-color);\n",
              "    box-shadow: 0 1px 2px rgba(60, 64, 67, 0.3), 0 1px 3px 1px rgba(60, 64, 67, 0.15);\n",
              "    fill: var(--button-hover-fill-color);\n",
              "  }\n",
              "\n",
              "  .colab-df-quickchart-complete:disabled,\n",
              "  .colab-df-quickchart-complete:disabled:hover {\n",
              "    background-color: var(--disabled-bg-color);\n",
              "    fill: var(--disabled-fill-color);\n",
              "    box-shadow: none;\n",
              "  }\n",
              "\n",
              "  .colab-df-spinner {\n",
              "    border: 2px solid var(--fill-color);\n",
              "    border-color: transparent;\n",
              "    border-bottom-color: var(--fill-color);\n",
              "    animation:\n",
              "      spin 1s steps(1) infinite;\n",
              "  }\n",
              "\n",
              "  @keyframes spin {\n",
              "    0% {\n",
              "      border-color: transparent;\n",
              "      border-bottom-color: var(--fill-color);\n",
              "      border-left-color: var(--fill-color);\n",
              "    }\n",
              "    20% {\n",
              "      border-color: transparent;\n",
              "      border-left-color: var(--fill-color);\n",
              "      border-top-color: var(--fill-color);\n",
              "    }\n",
              "    30% {\n",
              "      border-color: transparent;\n",
              "      border-left-color: var(--fill-color);\n",
              "      border-top-color: var(--fill-color);\n",
              "      border-right-color: var(--fill-color);\n",
              "    }\n",
              "    40% {\n",
              "      border-color: transparent;\n",
              "      border-right-color: var(--fill-color);\n",
              "      border-top-color: var(--fill-color);\n",
              "    }\n",
              "    60% {\n",
              "      border-color: transparent;\n",
              "      border-right-color: var(--fill-color);\n",
              "    }\n",
              "    80% {\n",
              "      border-color: transparent;\n",
              "      border-right-color: var(--fill-color);\n",
              "      border-bottom-color: var(--fill-color);\n",
              "    }\n",
              "    90% {\n",
              "      border-color: transparent;\n",
              "      border-bottom-color: var(--fill-color);\n",
              "    }\n",
              "  }\n",
              "</style>\n",
              "\n",
              "  <script>\n",
              "    async function quickchart(key) {\n",
              "      const quickchartButtonEl =\n",
              "        document.querySelector('#' + key + ' button');\n",
              "      quickchartButtonEl.disabled = true;  // To prevent multiple clicks.\n",
              "      quickchartButtonEl.classList.add('colab-df-spinner');\n",
              "      try {\n",
              "        const charts = await google.colab.kernel.invokeFunction(\n",
              "            'suggestCharts', [key], {});\n",
              "      } catch (error) {\n",
              "        console.error('Error during call to suggestCharts:', error);\n",
              "      }\n",
              "      quickchartButtonEl.classList.remove('colab-df-spinner');\n",
              "      quickchartButtonEl.classList.add('colab-df-quickchart-complete');\n",
              "    }\n",
              "    (() => {\n",
              "      let quickchartButtonEl =\n",
              "        document.querySelector('#df-fd5e8164-9d5e-4731-bfec-5eb0b584a6b6 button');\n",
              "      quickchartButtonEl.style.display =\n",
              "        google.colab.kernel.accessAllowed ? 'block' : 'none';\n",
              "    })();\n",
              "  </script>\n",
              "</div>\n",
              "    </div>\n",
              "  </div>\n"
            ]
          },
          "metadata": {},
          "execution_count": 15
        }
      ],
      "source": [
        "#Getting the Important Features from our dataset\n",
        "name_of_feature=training_data.columns #contains the names of features in our dataset\n",
        "feature_importance=model.feature_importances_ #contains the scores of each feature\n",
        "\n",
        "#Sorting the Feature Importance\n",
        "feature_importance_df=pd.DataFrame({'Feature':name_of_feature,'Importance':feature_importance}) #creates a dataframe with the names of our feature and corresponding scores\n",
        "feature_importance_df=feature_importance_df.sort_values(by='Importance',ascending=False) #sorts our results from highest to lowest\n",
        "feature_importance_df\n",
        "\n"
      ]
    },
    {
      "cell_type": "code",
      "execution_count": 16,
      "metadata": {
        "colab": {
          "base_uri": "https://localhost:8080/"
        },
        "id": "4A2nCBlYhwvi",
        "outputId": "f105264e-97f3-44f4-cbde-1c30518bae1c"
      },
      "outputs": [
        {
          "output_type": "execute_result",
          "data": {
            "text/plain": [
              "array(['value_eur', 'release_clause_eur', 'age', 'potential',\n",
              "       'movement_reactions', 'wage_eur', 'gk', 'rm', 'lm', 'lcb', 'cb'],\n",
              "      dtype=object)"
            ]
          },
          "metadata": {},
          "execution_count": 16
        }
      ],
      "source": [
        "#Using the first 10 features\n",
        "first_10_features = feature_importance_df['Feature'].values[:11]\n",
        "first_10_features"
      ]
    },
    {
      "cell_type": "code",
      "execution_count": 17,
      "metadata": {
        "id": "S7yWz_g-hwh_"
      },
      "outputs": [],
      "source": [
        "#updates to our new training_x value\n",
        "training_data=training_data[first_10_features]\n"
      ]
    },
    {
      "cell_type": "code",
      "execution_count": 18,
      "metadata": {
        "id": "Qka0d7MzTW3F"
      },
      "outputs": [],
      "source": [
        "#scaling the data\n",
        "sc = StandardScaler()  # scale the data set to be used in the model\n",
        "training_x = sc.fit_transform(training_data)\n",
        "training_x = pd.DataFrame(training_x, columns = training_data.columns)\n",
        "training_x.head(5)\n",
        "\n",
        "import pickle\n",
        "with open('scaler_model.pkl', 'wb') as file:\n",
        "    pickle.dump(sc, file)"
      ]
    },
    {
      "cell_type": "markdown",
      "metadata": {
        "id": "DSiS88oISGDZ"
      },
      "source": [
        "# **3. Machine learning model with cross validation**"
      ]
    },
    {
      "cell_type": "code",
      "execution_count": 19,
      "metadata": {
        "id": "sGMG0xnLkcHe"
      },
      "outputs": [],
      "source": [
        "Xtrain,Xtest,Ytrain,Ytest=train_test_split(training_x,Y,test_size=0.2,random_state=42) #splitting our data"
      ]
    },
    {
      "cell_type": "code",
      "execution_count": 20,
      "metadata": {
        "id": "qkA420Wqlh9x"
      },
      "outputs": [],
      "source": [
        "dt = DecisionTreeRegressor(criterion ='squared_error', random_state = 42)\n",
        "gb = GradientBoostingRegressor(init = dt, n_estimators = 200, learning_rate = 0.01)\n",
        "XGB_model = xgb.XGBRegressor(objective=\"reg:squarederror\")\n",
        "rf=RandomForestRegressor(n_estimators=1000, n_jobs = -1)"
      ]
    },
    {
      "cell_type": "code",
      "execution_count": 21,
      "metadata": {
        "colab": {
          "base_uri": "https://localhost:8080/",
          "height": 116
        },
        "id": "0XOQqzFs13bz",
        "outputId": "03919324-254f-4b8f-f1e7-3deaccb43d47"
      },
      "outputs": [
        {
          "output_type": "execute_result",
          "data": {
            "text/plain": [
              "GradientBoostingRegressor(init=DecisionTreeRegressor(random_state=42),\n",
              "                          learning_rate=0.01, n_estimators=200)"
            ],
            "text/html": [
              "<style>#sk-container-id-2 {color: black;background-color: white;}#sk-container-id-2 pre{padding: 0;}#sk-container-id-2 div.sk-toggleable {background-color: white;}#sk-container-id-2 label.sk-toggleable__label {cursor: pointer;display: block;width: 100%;margin-bottom: 0;padding: 0.3em;box-sizing: border-box;text-align: center;}#sk-container-id-2 label.sk-toggleable__label-arrow:before {content: \"▸\";float: left;margin-right: 0.25em;color: #696969;}#sk-container-id-2 label.sk-toggleable__label-arrow:hover:before {color: black;}#sk-container-id-2 div.sk-estimator:hover label.sk-toggleable__label-arrow:before {color: black;}#sk-container-id-2 div.sk-toggleable__content {max-height: 0;max-width: 0;overflow: hidden;text-align: left;background-color: #f0f8ff;}#sk-container-id-2 div.sk-toggleable__content pre {margin: 0.2em;color: black;border-radius: 0.25em;background-color: #f0f8ff;}#sk-container-id-2 input.sk-toggleable__control:checked~div.sk-toggleable__content {max-height: 200px;max-width: 100%;overflow: auto;}#sk-container-id-2 input.sk-toggleable__control:checked~label.sk-toggleable__label-arrow:before {content: \"▾\";}#sk-container-id-2 div.sk-estimator input.sk-toggleable__control:checked~label.sk-toggleable__label {background-color: #d4ebff;}#sk-container-id-2 div.sk-label input.sk-toggleable__control:checked~label.sk-toggleable__label {background-color: #d4ebff;}#sk-container-id-2 input.sk-hidden--visually {border: 0;clip: rect(1px 1px 1px 1px);clip: rect(1px, 1px, 1px, 1px);height: 1px;margin: -1px;overflow: hidden;padding: 0;position: absolute;width: 1px;}#sk-container-id-2 div.sk-estimator {font-family: monospace;background-color: #f0f8ff;border: 1px dotted black;border-radius: 0.25em;box-sizing: border-box;margin-bottom: 0.5em;}#sk-container-id-2 div.sk-estimator:hover {background-color: #d4ebff;}#sk-container-id-2 div.sk-parallel-item::after {content: \"\";width: 100%;border-bottom: 1px solid gray;flex-grow: 1;}#sk-container-id-2 div.sk-label:hover label.sk-toggleable__label {background-color: #d4ebff;}#sk-container-id-2 div.sk-serial::before {content: \"\";position: absolute;border-left: 1px solid gray;box-sizing: border-box;top: 0;bottom: 0;left: 50%;z-index: 0;}#sk-container-id-2 div.sk-serial {display: flex;flex-direction: column;align-items: center;background-color: white;padding-right: 0.2em;padding-left: 0.2em;position: relative;}#sk-container-id-2 div.sk-item {position: relative;z-index: 1;}#sk-container-id-2 div.sk-parallel {display: flex;align-items: stretch;justify-content: center;background-color: white;position: relative;}#sk-container-id-2 div.sk-item::before, #sk-container-id-2 div.sk-parallel-item::before {content: \"\";position: absolute;border-left: 1px solid gray;box-sizing: border-box;top: 0;bottom: 0;left: 50%;z-index: -1;}#sk-container-id-2 div.sk-parallel-item {display: flex;flex-direction: column;z-index: 1;position: relative;background-color: white;}#sk-container-id-2 div.sk-parallel-item:first-child::after {align-self: flex-end;width: 50%;}#sk-container-id-2 div.sk-parallel-item:last-child::after {align-self: flex-start;width: 50%;}#sk-container-id-2 div.sk-parallel-item:only-child::after {width: 0;}#sk-container-id-2 div.sk-dashed-wrapped {border: 1px dashed gray;margin: 0 0.4em 0.5em 0.4em;box-sizing: border-box;padding-bottom: 0.4em;background-color: white;}#sk-container-id-2 div.sk-label label {font-family: monospace;font-weight: bold;display: inline-block;line-height: 1.2em;}#sk-container-id-2 div.sk-label-container {text-align: center;}#sk-container-id-2 div.sk-container {/* jupyter's `normalize.less` sets `[hidden] { display: none; }` but bootstrap.min.css set `[hidden] { display: none !important; }` so we also need the `!important` here to be able to override the default hidden behavior on the sphinx rendered scikit-learn.org. See: https://github.com/scikit-learn/scikit-learn/issues/21755 */display: inline-block !important;position: relative;}#sk-container-id-2 div.sk-text-repr-fallback {display: none;}</style><div id=\"sk-container-id-2\" class=\"sk-top-container\"><div class=\"sk-text-repr-fallback\"><pre>GradientBoostingRegressor(init=DecisionTreeRegressor(random_state=42),\n",
              "                          learning_rate=0.01, n_estimators=200)</pre><b>In a Jupyter environment, please rerun this cell to show the HTML representation or trust the notebook. <br />On GitHub, the HTML representation is unable to render, please try loading this page with nbviewer.org.</b></div><div class=\"sk-container\" hidden><div class=\"sk-item sk-dashed-wrapped\"><div class=\"sk-label-container\"><div class=\"sk-label sk-toggleable\"><input class=\"sk-toggleable__control sk-hidden--visually\" id=\"sk-estimator-id-2\" type=\"checkbox\" ><label for=\"sk-estimator-id-2\" class=\"sk-toggleable__label sk-toggleable__label-arrow\">GradientBoostingRegressor</label><div class=\"sk-toggleable__content\"><pre>GradientBoostingRegressor(init=DecisionTreeRegressor(random_state=42),\n",
              "                          learning_rate=0.01, n_estimators=200)</pre></div></div></div><div class=\"sk-parallel\"><div class=\"sk-parallel-item\"><div class=\"sk-item\"><div class=\"sk-label-container\"><div class=\"sk-label sk-toggleable\"><input class=\"sk-toggleable__control sk-hidden--visually\" id=\"sk-estimator-id-3\" type=\"checkbox\" ><label for=\"sk-estimator-id-3\" class=\"sk-toggleable__label sk-toggleable__label-arrow\">init: DecisionTreeRegressor</label><div class=\"sk-toggleable__content\"><pre>DecisionTreeRegressor(random_state=42)</pre></div></div></div><div class=\"sk-serial\"><div class=\"sk-item\"><div class=\"sk-estimator sk-toggleable\"><input class=\"sk-toggleable__control sk-hidden--visually\" id=\"sk-estimator-id-4\" type=\"checkbox\" ><label for=\"sk-estimator-id-4\" class=\"sk-toggleable__label sk-toggleable__label-arrow\">DecisionTreeRegressor</label><div class=\"sk-toggleable__content\"><pre>DecisionTreeRegressor(random_state=42)</pre></div></div></div></div></div></div></div></div></div></div>"
            ]
          },
          "metadata": {},
          "execution_count": 21
        }
      ],
      "source": [
        "# Gradient Boosting Regressor\n",
        "gb.fit(Xtrain,Ytrain)"
      ]
    },
    {
      "cell_type": "code",
      "execution_count": 22,
      "metadata": {
        "colab": {
          "base_uri": "https://localhost:8080/",
          "height": 156
        },
        "id": "KkK0u_Rx9C76",
        "outputId": "f32332d7-a4d2-4946-8700-2cfb66ff7f00"
      },
      "outputs": [
        {
          "output_type": "execute_result",
          "data": {
            "text/plain": [
              "GridSearchCV(cv=KFold(n_splits=5, random_state=None, shuffle=False),\n",
              "             estimator=GradientBoostingRegressor(init=DecisionTreeRegressor(random_state=42),\n",
              "                                                 learning_rate=0.01,\n",
              "                                                 n_estimators=200),\n",
              "             param_grid={'criterion': ['squared_error', 'friedman_mse'],\n",
              "                         'max_depth': [5, 10, 12],\n",
              "                         'max_features': ['sqrt', 'log2'],\n",
              "                         'n_estimators': [50, 70, 100],\n",
              "                         'random_state': [20, 22, 24]},\n",
              "             scoring='neg_mean_absolute_error')"
            ],
            "text/html": [
              "<style>#sk-container-id-3 {color: black;background-color: white;}#sk-container-id-3 pre{padding: 0;}#sk-container-id-3 div.sk-toggleable {background-color: white;}#sk-container-id-3 label.sk-toggleable__label {cursor: pointer;display: block;width: 100%;margin-bottom: 0;padding: 0.3em;box-sizing: border-box;text-align: center;}#sk-container-id-3 label.sk-toggleable__label-arrow:before {content: \"▸\";float: left;margin-right: 0.25em;color: #696969;}#sk-container-id-3 label.sk-toggleable__label-arrow:hover:before {color: black;}#sk-container-id-3 div.sk-estimator:hover label.sk-toggleable__label-arrow:before {color: black;}#sk-container-id-3 div.sk-toggleable__content {max-height: 0;max-width: 0;overflow: hidden;text-align: left;background-color: #f0f8ff;}#sk-container-id-3 div.sk-toggleable__content pre {margin: 0.2em;color: black;border-radius: 0.25em;background-color: #f0f8ff;}#sk-container-id-3 input.sk-toggleable__control:checked~div.sk-toggleable__content {max-height: 200px;max-width: 100%;overflow: auto;}#sk-container-id-3 input.sk-toggleable__control:checked~label.sk-toggleable__label-arrow:before {content: \"▾\";}#sk-container-id-3 div.sk-estimator input.sk-toggleable__control:checked~label.sk-toggleable__label {background-color: #d4ebff;}#sk-container-id-3 div.sk-label input.sk-toggleable__control:checked~label.sk-toggleable__label {background-color: #d4ebff;}#sk-container-id-3 input.sk-hidden--visually {border: 0;clip: rect(1px 1px 1px 1px);clip: rect(1px, 1px, 1px, 1px);height: 1px;margin: -1px;overflow: hidden;padding: 0;position: absolute;width: 1px;}#sk-container-id-3 div.sk-estimator {font-family: monospace;background-color: #f0f8ff;border: 1px dotted black;border-radius: 0.25em;box-sizing: border-box;margin-bottom: 0.5em;}#sk-container-id-3 div.sk-estimator:hover {background-color: #d4ebff;}#sk-container-id-3 div.sk-parallel-item::after {content: \"\";width: 100%;border-bottom: 1px solid gray;flex-grow: 1;}#sk-container-id-3 div.sk-label:hover label.sk-toggleable__label {background-color: #d4ebff;}#sk-container-id-3 div.sk-serial::before {content: \"\";position: absolute;border-left: 1px solid gray;box-sizing: border-box;top: 0;bottom: 0;left: 50%;z-index: 0;}#sk-container-id-3 div.sk-serial {display: flex;flex-direction: column;align-items: center;background-color: white;padding-right: 0.2em;padding-left: 0.2em;position: relative;}#sk-container-id-3 div.sk-item {position: relative;z-index: 1;}#sk-container-id-3 div.sk-parallel {display: flex;align-items: stretch;justify-content: center;background-color: white;position: relative;}#sk-container-id-3 div.sk-item::before, #sk-container-id-3 div.sk-parallel-item::before {content: \"\";position: absolute;border-left: 1px solid gray;box-sizing: border-box;top: 0;bottom: 0;left: 50%;z-index: -1;}#sk-container-id-3 div.sk-parallel-item {display: flex;flex-direction: column;z-index: 1;position: relative;background-color: white;}#sk-container-id-3 div.sk-parallel-item:first-child::after {align-self: flex-end;width: 50%;}#sk-container-id-3 div.sk-parallel-item:last-child::after {align-self: flex-start;width: 50%;}#sk-container-id-3 div.sk-parallel-item:only-child::after {width: 0;}#sk-container-id-3 div.sk-dashed-wrapped {border: 1px dashed gray;margin: 0 0.4em 0.5em 0.4em;box-sizing: border-box;padding-bottom: 0.4em;background-color: white;}#sk-container-id-3 div.sk-label label {font-family: monospace;font-weight: bold;display: inline-block;line-height: 1.2em;}#sk-container-id-3 div.sk-label-container {text-align: center;}#sk-container-id-3 div.sk-container {/* jupyter's `normalize.less` sets `[hidden] { display: none; }` but bootstrap.min.css set `[hidden] { display: none !important; }` so we also need the `!important` here to be able to override the default hidden behavior on the sphinx rendered scikit-learn.org. See: https://github.com/scikit-learn/scikit-learn/issues/21755 */display: inline-block !important;position: relative;}#sk-container-id-3 div.sk-text-repr-fallback {display: none;}</style><div id=\"sk-container-id-3\" class=\"sk-top-container\"><div class=\"sk-text-repr-fallback\"><pre>GridSearchCV(cv=KFold(n_splits=5, random_state=None, shuffle=False),\n",
              "             estimator=GradientBoostingRegressor(init=DecisionTreeRegressor(random_state=42),\n",
              "                                                 learning_rate=0.01,\n",
              "                                                 n_estimators=200),\n",
              "             param_grid={&#x27;criterion&#x27;: [&#x27;squared_error&#x27;, &#x27;friedman_mse&#x27;],\n",
              "                         &#x27;max_depth&#x27;: [5, 10, 12],\n",
              "                         &#x27;max_features&#x27;: [&#x27;sqrt&#x27;, &#x27;log2&#x27;],\n",
              "                         &#x27;n_estimators&#x27;: [50, 70, 100],\n",
              "                         &#x27;random_state&#x27;: [20, 22, 24]},\n",
              "             scoring=&#x27;neg_mean_absolute_error&#x27;)</pre><b>In a Jupyter environment, please rerun this cell to show the HTML representation or trust the notebook. <br />On GitHub, the HTML representation is unable to render, please try loading this page with nbviewer.org.</b></div><div class=\"sk-container\" hidden><div class=\"sk-item sk-dashed-wrapped\"><div class=\"sk-label-container\"><div class=\"sk-label sk-toggleable\"><input class=\"sk-toggleable__control sk-hidden--visually\" id=\"sk-estimator-id-5\" type=\"checkbox\" ><label for=\"sk-estimator-id-5\" class=\"sk-toggleable__label sk-toggleable__label-arrow\">GridSearchCV</label><div class=\"sk-toggleable__content\"><pre>GridSearchCV(cv=KFold(n_splits=5, random_state=None, shuffle=False),\n",
              "             estimator=GradientBoostingRegressor(init=DecisionTreeRegressor(random_state=42),\n",
              "                                                 learning_rate=0.01,\n",
              "                                                 n_estimators=200),\n",
              "             param_grid={&#x27;criterion&#x27;: [&#x27;squared_error&#x27;, &#x27;friedman_mse&#x27;],\n",
              "                         &#x27;max_depth&#x27;: [5, 10, 12],\n",
              "                         &#x27;max_features&#x27;: [&#x27;sqrt&#x27;, &#x27;log2&#x27;],\n",
              "                         &#x27;n_estimators&#x27;: [50, 70, 100],\n",
              "                         &#x27;random_state&#x27;: [20, 22, 24]},\n",
              "             scoring=&#x27;neg_mean_absolute_error&#x27;)</pre></div></div></div><div class=\"sk-parallel\"><div class=\"sk-parallel-item\"><div class=\"sk-item\"><div class=\"sk-label-container\"><div class=\"sk-label sk-toggleable\"><input class=\"sk-toggleable__control sk-hidden--visually\" id=\"sk-estimator-id-6\" type=\"checkbox\" ><label for=\"sk-estimator-id-6\" class=\"sk-toggleable__label sk-toggleable__label-arrow\">estimator: GradientBoostingRegressor</label><div class=\"sk-toggleable__content\"><pre>GradientBoostingRegressor(init=DecisionTreeRegressor(random_state=42),\n",
              "                          learning_rate=0.01, n_estimators=200)</pre></div></div></div><div class=\"sk-serial\"><div class=\"sk-item sk-dashed-wrapped\"><div class=\"sk-parallel\"><div class=\"sk-parallel-item\"><div class=\"sk-item\"><div class=\"sk-label-container\"><div class=\"sk-label sk-toggleable\"><input class=\"sk-toggleable__control sk-hidden--visually\" id=\"sk-estimator-id-7\" type=\"checkbox\" ><label for=\"sk-estimator-id-7\" class=\"sk-toggleable__label sk-toggleable__label-arrow\">init: DecisionTreeRegressor</label><div class=\"sk-toggleable__content\"><pre>DecisionTreeRegressor(random_state=42)</pre></div></div></div><div class=\"sk-serial\"><div class=\"sk-item\"><div class=\"sk-estimator sk-toggleable\"><input class=\"sk-toggleable__control sk-hidden--visually\" id=\"sk-estimator-id-8\" type=\"checkbox\" ><label for=\"sk-estimator-id-8\" class=\"sk-toggleable__label sk-toggleable__label-arrow\">DecisionTreeRegressor</label><div class=\"sk-toggleable__content\"><pre>DecisionTreeRegressor(random_state=42)</pre></div></div></div></div></div></div></div></div></div></div></div></div></div></div></div>"
            ]
          },
          "metadata": {},
          "execution_count": 22
        }
      ],
      "source": [
        "# Cross validation with the gradient boosting regresssor\n",
        "cv=KFold(n_splits=5)\n",
        "PARAMETERS ={\n",
        "\"max_depth\":[5,10, 12],\n",
        "\"n_estimators\":[50,70,100],\n",
        "\"max_features\":['sqrt', 'log2'],\n",
        "\"criterion\":['squared_error', 'friedman_mse'],\n",
        "\"random_state\": [20, 22, 24]}\n",
        "gb_cv = GridSearchCV(estimator = gb,param_grid=PARAMETERS,cv=cv,scoring=\"neg_mean_absolute_error\")\n",
        "gb_cv.fit(Xtrain, Ytrain)"
      ]
    },
    {
      "cell_type": "code",
      "execution_count": 23,
      "metadata": {
        "colab": {
          "base_uri": "https://localhost:8080/"
        },
        "id": "frwpDs_g-dC4",
        "outputId": "7e780c9a-62cd-4719-a5ae-e6b2951f91e4"
      },
      "outputs": [
        {
          "output_type": "stream",
          "name": "stdout",
          "text": [
            "Best parameters: {'criterion': 'squared_error', 'max_depth': 5, 'max_features': 'sqrt', 'n_estimators': 50, 'random_state': 20}\n"
          ]
        }
      ],
      "source": [
        "best_parameters = gb_cv.best_params_\n",
        "print(\"Best parameters:\", best_parameters) # display the best parameters for the gradient boosting regressor"
      ]
    },
    {
      "cell_type": "code",
      "execution_count": 24,
      "metadata": {
        "colab": {
          "base_uri": "https://localhost:8080/"
        },
        "id": "MKan61qP-flE",
        "outputId": "49f64bdc-6bd3-4f4c-b7a6-7deb260b8f62"
      },
      "outputs": [
        {
          "output_type": "stream",
          "name": "stdout",
          "text": [
            "The mean absolute error is  0.24359989443124835\n"
          ]
        }
      ],
      "source": [
        "y_pred=gb_cv.predict(Xtest)\n",
        "print(\"The mean absolute error is \",(mean_absolute_error(y_pred,Ytest))) # display the mean absolute error"
      ]
    },
    {
      "cell_type": "code",
      "execution_count": 25,
      "metadata": {
        "colab": {
          "base_uri": "https://localhost:8080/",
          "height": 74
        },
        "id": "6SxlxJT52L5G",
        "outputId": "027b1379-30ba-4056-fa0b-f40ea9942977"
      },
      "outputs": [
        {
          "output_type": "execute_result",
          "data": {
            "text/plain": [
              "RandomForestRegressor(n_estimators=1000, n_jobs=-1)"
            ],
            "text/html": [
              "<style>#sk-container-id-4 {color: black;background-color: white;}#sk-container-id-4 pre{padding: 0;}#sk-container-id-4 div.sk-toggleable {background-color: white;}#sk-container-id-4 label.sk-toggleable__label {cursor: pointer;display: block;width: 100%;margin-bottom: 0;padding: 0.3em;box-sizing: border-box;text-align: center;}#sk-container-id-4 label.sk-toggleable__label-arrow:before {content: \"▸\";float: left;margin-right: 0.25em;color: #696969;}#sk-container-id-4 label.sk-toggleable__label-arrow:hover:before {color: black;}#sk-container-id-4 div.sk-estimator:hover label.sk-toggleable__label-arrow:before {color: black;}#sk-container-id-4 div.sk-toggleable__content {max-height: 0;max-width: 0;overflow: hidden;text-align: left;background-color: #f0f8ff;}#sk-container-id-4 div.sk-toggleable__content pre {margin: 0.2em;color: black;border-radius: 0.25em;background-color: #f0f8ff;}#sk-container-id-4 input.sk-toggleable__control:checked~div.sk-toggleable__content {max-height: 200px;max-width: 100%;overflow: auto;}#sk-container-id-4 input.sk-toggleable__control:checked~label.sk-toggleable__label-arrow:before {content: \"▾\";}#sk-container-id-4 div.sk-estimator input.sk-toggleable__control:checked~label.sk-toggleable__label {background-color: #d4ebff;}#sk-container-id-4 div.sk-label input.sk-toggleable__control:checked~label.sk-toggleable__label {background-color: #d4ebff;}#sk-container-id-4 input.sk-hidden--visually {border: 0;clip: rect(1px 1px 1px 1px);clip: rect(1px, 1px, 1px, 1px);height: 1px;margin: -1px;overflow: hidden;padding: 0;position: absolute;width: 1px;}#sk-container-id-4 div.sk-estimator {font-family: monospace;background-color: #f0f8ff;border: 1px dotted black;border-radius: 0.25em;box-sizing: border-box;margin-bottom: 0.5em;}#sk-container-id-4 div.sk-estimator:hover {background-color: #d4ebff;}#sk-container-id-4 div.sk-parallel-item::after {content: \"\";width: 100%;border-bottom: 1px solid gray;flex-grow: 1;}#sk-container-id-4 div.sk-label:hover label.sk-toggleable__label {background-color: #d4ebff;}#sk-container-id-4 div.sk-serial::before {content: \"\";position: absolute;border-left: 1px solid gray;box-sizing: border-box;top: 0;bottom: 0;left: 50%;z-index: 0;}#sk-container-id-4 div.sk-serial {display: flex;flex-direction: column;align-items: center;background-color: white;padding-right: 0.2em;padding-left: 0.2em;position: relative;}#sk-container-id-4 div.sk-item {position: relative;z-index: 1;}#sk-container-id-4 div.sk-parallel {display: flex;align-items: stretch;justify-content: center;background-color: white;position: relative;}#sk-container-id-4 div.sk-item::before, #sk-container-id-4 div.sk-parallel-item::before {content: \"\";position: absolute;border-left: 1px solid gray;box-sizing: border-box;top: 0;bottom: 0;left: 50%;z-index: -1;}#sk-container-id-4 div.sk-parallel-item {display: flex;flex-direction: column;z-index: 1;position: relative;background-color: white;}#sk-container-id-4 div.sk-parallel-item:first-child::after {align-self: flex-end;width: 50%;}#sk-container-id-4 div.sk-parallel-item:last-child::after {align-self: flex-start;width: 50%;}#sk-container-id-4 div.sk-parallel-item:only-child::after {width: 0;}#sk-container-id-4 div.sk-dashed-wrapped {border: 1px dashed gray;margin: 0 0.4em 0.5em 0.4em;box-sizing: border-box;padding-bottom: 0.4em;background-color: white;}#sk-container-id-4 div.sk-label label {font-family: monospace;font-weight: bold;display: inline-block;line-height: 1.2em;}#sk-container-id-4 div.sk-label-container {text-align: center;}#sk-container-id-4 div.sk-container {/* jupyter's `normalize.less` sets `[hidden] { display: none; }` but bootstrap.min.css set `[hidden] { display: none !important; }` so we also need the `!important` here to be able to override the default hidden behavior on the sphinx rendered scikit-learn.org. See: https://github.com/scikit-learn/scikit-learn/issues/21755 */display: inline-block !important;position: relative;}#sk-container-id-4 div.sk-text-repr-fallback {display: none;}</style><div id=\"sk-container-id-4\" class=\"sk-top-container\"><div class=\"sk-text-repr-fallback\"><pre>RandomForestRegressor(n_estimators=1000, n_jobs=-1)</pre><b>In a Jupyter environment, please rerun this cell to show the HTML representation or trust the notebook. <br />On GitHub, the HTML representation is unable to render, please try loading this page with nbviewer.org.</b></div><div class=\"sk-container\" hidden><div class=\"sk-item\"><div class=\"sk-estimator sk-toggleable\"><input class=\"sk-toggleable__control sk-hidden--visually\" id=\"sk-estimator-id-9\" type=\"checkbox\" checked><label for=\"sk-estimator-id-9\" class=\"sk-toggleable__label sk-toggleable__label-arrow\">RandomForestRegressor</label><div class=\"sk-toggleable__content\"><pre>RandomForestRegressor(n_estimators=1000, n_jobs=-1)</pre></div></div></div></div></div>"
            ]
          },
          "metadata": {},
          "execution_count": 25
        }
      ],
      "source": [
        "# Random Forest Regressor\n",
        "rf.fit(Xtrain, Ytrain)"
      ]
    },
    {
      "cell_type": "code",
      "execution_count": 26,
      "metadata": {
        "colab": {
          "base_uri": "https://localhost:8080/",
          "height": 116
        },
        "id": "gXpH0c489P_x",
        "outputId": "ea7acb56-a1fd-4399-93c7-a37d2e4170ec"
      },
      "outputs": [
        {
          "output_type": "execute_result",
          "data": {
            "text/plain": [
              "GridSearchCV(cv=KFold(n_splits=5, random_state=None, shuffle=False),\n",
              "             estimator=RandomForestRegressor(n_estimators=1000, n_jobs=-1),\n",
              "             param_grid={'criterion': ['squared_error', 'friedman_mse'],\n",
              "                         'max_depth': [10, 12, 15],\n",
              "                         'max_features': ['sqrt', 'log2'],\n",
              "                         'n_estimators': [50, 70, 100],\n",
              "                         'random_state': [20, 22, 24]},\n",
              "             scoring='neg_mean_absolute_error')"
            ],
            "text/html": [
              "<style>#sk-container-id-5 {color: black;background-color: white;}#sk-container-id-5 pre{padding: 0;}#sk-container-id-5 div.sk-toggleable {background-color: white;}#sk-container-id-5 label.sk-toggleable__label {cursor: pointer;display: block;width: 100%;margin-bottom: 0;padding: 0.3em;box-sizing: border-box;text-align: center;}#sk-container-id-5 label.sk-toggleable__label-arrow:before {content: \"▸\";float: left;margin-right: 0.25em;color: #696969;}#sk-container-id-5 label.sk-toggleable__label-arrow:hover:before {color: black;}#sk-container-id-5 div.sk-estimator:hover label.sk-toggleable__label-arrow:before {color: black;}#sk-container-id-5 div.sk-toggleable__content {max-height: 0;max-width: 0;overflow: hidden;text-align: left;background-color: #f0f8ff;}#sk-container-id-5 div.sk-toggleable__content pre {margin: 0.2em;color: black;border-radius: 0.25em;background-color: #f0f8ff;}#sk-container-id-5 input.sk-toggleable__control:checked~div.sk-toggleable__content {max-height: 200px;max-width: 100%;overflow: auto;}#sk-container-id-5 input.sk-toggleable__control:checked~label.sk-toggleable__label-arrow:before {content: \"▾\";}#sk-container-id-5 div.sk-estimator input.sk-toggleable__control:checked~label.sk-toggleable__label {background-color: #d4ebff;}#sk-container-id-5 div.sk-label input.sk-toggleable__control:checked~label.sk-toggleable__label {background-color: #d4ebff;}#sk-container-id-5 input.sk-hidden--visually {border: 0;clip: rect(1px 1px 1px 1px);clip: rect(1px, 1px, 1px, 1px);height: 1px;margin: -1px;overflow: hidden;padding: 0;position: absolute;width: 1px;}#sk-container-id-5 div.sk-estimator {font-family: monospace;background-color: #f0f8ff;border: 1px dotted black;border-radius: 0.25em;box-sizing: border-box;margin-bottom: 0.5em;}#sk-container-id-5 div.sk-estimator:hover {background-color: #d4ebff;}#sk-container-id-5 div.sk-parallel-item::after {content: \"\";width: 100%;border-bottom: 1px solid gray;flex-grow: 1;}#sk-container-id-5 div.sk-label:hover label.sk-toggleable__label {background-color: #d4ebff;}#sk-container-id-5 div.sk-serial::before {content: \"\";position: absolute;border-left: 1px solid gray;box-sizing: border-box;top: 0;bottom: 0;left: 50%;z-index: 0;}#sk-container-id-5 div.sk-serial {display: flex;flex-direction: column;align-items: center;background-color: white;padding-right: 0.2em;padding-left: 0.2em;position: relative;}#sk-container-id-5 div.sk-item {position: relative;z-index: 1;}#sk-container-id-5 div.sk-parallel {display: flex;align-items: stretch;justify-content: center;background-color: white;position: relative;}#sk-container-id-5 div.sk-item::before, #sk-container-id-5 div.sk-parallel-item::before {content: \"\";position: absolute;border-left: 1px solid gray;box-sizing: border-box;top: 0;bottom: 0;left: 50%;z-index: -1;}#sk-container-id-5 div.sk-parallel-item {display: flex;flex-direction: column;z-index: 1;position: relative;background-color: white;}#sk-container-id-5 div.sk-parallel-item:first-child::after {align-self: flex-end;width: 50%;}#sk-container-id-5 div.sk-parallel-item:last-child::after {align-self: flex-start;width: 50%;}#sk-container-id-5 div.sk-parallel-item:only-child::after {width: 0;}#sk-container-id-5 div.sk-dashed-wrapped {border: 1px dashed gray;margin: 0 0.4em 0.5em 0.4em;box-sizing: border-box;padding-bottom: 0.4em;background-color: white;}#sk-container-id-5 div.sk-label label {font-family: monospace;font-weight: bold;display: inline-block;line-height: 1.2em;}#sk-container-id-5 div.sk-label-container {text-align: center;}#sk-container-id-5 div.sk-container {/* jupyter's `normalize.less` sets `[hidden] { display: none; }` but bootstrap.min.css set `[hidden] { display: none !important; }` so we also need the `!important` here to be able to override the default hidden behavior on the sphinx rendered scikit-learn.org. See: https://github.com/scikit-learn/scikit-learn/issues/21755 */display: inline-block !important;position: relative;}#sk-container-id-5 div.sk-text-repr-fallback {display: none;}</style><div id=\"sk-container-id-5\" class=\"sk-top-container\"><div class=\"sk-text-repr-fallback\"><pre>GridSearchCV(cv=KFold(n_splits=5, random_state=None, shuffle=False),\n",
              "             estimator=RandomForestRegressor(n_estimators=1000, n_jobs=-1),\n",
              "             param_grid={&#x27;criterion&#x27;: [&#x27;squared_error&#x27;, &#x27;friedman_mse&#x27;],\n",
              "                         &#x27;max_depth&#x27;: [10, 12, 15],\n",
              "                         &#x27;max_features&#x27;: [&#x27;sqrt&#x27;, &#x27;log2&#x27;],\n",
              "                         &#x27;n_estimators&#x27;: [50, 70, 100],\n",
              "                         &#x27;random_state&#x27;: [20, 22, 24]},\n",
              "             scoring=&#x27;neg_mean_absolute_error&#x27;)</pre><b>In a Jupyter environment, please rerun this cell to show the HTML representation or trust the notebook. <br />On GitHub, the HTML representation is unable to render, please try loading this page with nbviewer.org.</b></div><div class=\"sk-container\" hidden><div class=\"sk-item sk-dashed-wrapped\"><div class=\"sk-label-container\"><div class=\"sk-label sk-toggleable\"><input class=\"sk-toggleable__control sk-hidden--visually\" id=\"sk-estimator-id-10\" type=\"checkbox\" ><label for=\"sk-estimator-id-10\" class=\"sk-toggleable__label sk-toggleable__label-arrow\">GridSearchCV</label><div class=\"sk-toggleable__content\"><pre>GridSearchCV(cv=KFold(n_splits=5, random_state=None, shuffle=False),\n",
              "             estimator=RandomForestRegressor(n_estimators=1000, n_jobs=-1),\n",
              "             param_grid={&#x27;criterion&#x27;: [&#x27;squared_error&#x27;, &#x27;friedman_mse&#x27;],\n",
              "                         &#x27;max_depth&#x27;: [10, 12, 15],\n",
              "                         &#x27;max_features&#x27;: [&#x27;sqrt&#x27;, &#x27;log2&#x27;],\n",
              "                         &#x27;n_estimators&#x27;: [50, 70, 100],\n",
              "                         &#x27;random_state&#x27;: [20, 22, 24]},\n",
              "             scoring=&#x27;neg_mean_absolute_error&#x27;)</pre></div></div></div><div class=\"sk-parallel\"><div class=\"sk-parallel-item\"><div class=\"sk-item\"><div class=\"sk-label-container\"><div class=\"sk-label sk-toggleable\"><input class=\"sk-toggleable__control sk-hidden--visually\" id=\"sk-estimator-id-11\" type=\"checkbox\" ><label for=\"sk-estimator-id-11\" class=\"sk-toggleable__label sk-toggleable__label-arrow\">estimator: RandomForestRegressor</label><div class=\"sk-toggleable__content\"><pre>RandomForestRegressor(n_estimators=1000, n_jobs=-1)</pre></div></div></div><div class=\"sk-serial\"><div class=\"sk-item\"><div class=\"sk-estimator sk-toggleable\"><input class=\"sk-toggleable__control sk-hidden--visually\" id=\"sk-estimator-id-12\" type=\"checkbox\" ><label for=\"sk-estimator-id-12\" class=\"sk-toggleable__label sk-toggleable__label-arrow\">RandomForestRegressor</label><div class=\"sk-toggleable__content\"><pre>RandomForestRegressor(n_estimators=1000, n_jobs=-1)</pre></div></div></div></div></div></div></div></div></div></div>"
            ]
          },
          "metadata": {},
          "execution_count": 26
        }
      ],
      "source": [
        "# Cross validation with the random forest regresssor\n",
        "cv=KFold(n_splits=5)\n",
        "PARAMETERS ={\n",
        "\"max_depth\": [10, 12, 15],\n",
        "\"n_estimators\": [50, 70, 100],\n",
        "\"criterion\": ['squared_error', 'friedman_mse'],\n",
        "\"max_features\": ['sqrt', 'log2'],\n",
        "\"random_state\": [20, 22, 24]}\n",
        "rf_cv = GridSearchCV(estimator = rf,param_grid=PARAMETERS,cv=cv,scoring=\"neg_mean_absolute_error\")\n",
        "rf_cv.fit(Xtrain, Ytrain)"
      ]
    },
    {
      "cell_type": "code",
      "execution_count": 27,
      "metadata": {
        "id": "p79jByap_A_Q",
        "colab": {
          "base_uri": "https://localhost:8080/"
        },
        "outputId": "deda4a4a-d622-4c0b-82fa-97d58798b4cf"
      },
      "outputs": [
        {
          "output_type": "stream",
          "name": "stdout",
          "text": [
            "Best parameters: {'criterion': 'squared_error', 'max_depth': 15, 'max_features': 'log2', 'n_estimators': 100, 'random_state': 24}\n"
          ]
        }
      ],
      "source": [
        "best_parameters = rf_cv.best_params_\n",
        "print(\"Best parameters:\", best_parameters) # display the best parameters for the random forest regressor"
      ]
    },
    {
      "cell_type": "code",
      "execution_count": 28,
      "metadata": {
        "id": "Ubb3Afiy_DNG",
        "colab": {
          "base_uri": "https://localhost:8080/"
        },
        "outputId": "c624a9e5-29cd-431e-fe16-19f4318bf117"
      },
      "outputs": [
        {
          "output_type": "stream",
          "name": "stdout",
          "text": [
            "The mean absolute error is  0.35059677535790873\n"
          ]
        }
      ],
      "source": [
        "y_pred=rf_cv.predict(Xtest)\n",
        "print(\"The mean absolute error is \",(mean_absolute_error(y_pred,Ytest))) # display the mean absolute error"
      ]
    },
    {
      "cell_type": "code",
      "execution_count": 29,
      "metadata": {
        "id": "tThhQb999Z2F",
        "colab": {
          "base_uri": "https://localhost:8080/",
          "height": 116
        },
        "outputId": "99682395-8c0b-4615-c478-43267d9c5be5"
      },
      "outputs": [
        {
          "output_type": "execute_result",
          "data": {
            "text/plain": [
              "GridSearchCV(cv=KFold(n_splits=5, random_state=None, shuffle=False),\n",
              "             estimator=XGBRegressor(base_score=None, booster=None,\n",
              "                                    callbacks=None, colsample_bylevel=None,\n",
              "                                    colsample_bynode=None,\n",
              "                                    colsample_bytree=None, device=None,\n",
              "                                    early_stopping_rounds=None,\n",
              "                                    enable_categorical=False, eval_metric=None,\n",
              "                                    feature_types=None, gamma=None,\n",
              "                                    grow_policy=None, importance_type=None,\n",
              "                                    i...\n",
              "                                    learning_rate=None, max_bin=None,\n",
              "                                    max_cat_threshold=None,\n",
              "                                    max_cat_to_onehot=None, max_delta_step=None,\n",
              "                                    max_depth=None, max_leaves=None,\n",
              "                                    min_child_weight=None, missing=nan,\n",
              "                                    monotone_constraints=None,\n",
              "                                    multi_strategy=None, n_estimators=None,\n",
              "                                    n_jobs=None, num_parallel_tree=None,\n",
              "                                    random_state=None, ...),\n",
              "             param_grid={'max_depth': [10, 12, 15],\n",
              "                         'random_state': [20, 22, 24]},\n",
              "             scoring='neg_mean_absolute_error')"
            ],
            "text/html": [
              "<style>#sk-container-id-6 {color: black;background-color: white;}#sk-container-id-6 pre{padding: 0;}#sk-container-id-6 div.sk-toggleable {background-color: white;}#sk-container-id-6 label.sk-toggleable__label {cursor: pointer;display: block;width: 100%;margin-bottom: 0;padding: 0.3em;box-sizing: border-box;text-align: center;}#sk-container-id-6 label.sk-toggleable__label-arrow:before {content: \"▸\";float: left;margin-right: 0.25em;color: #696969;}#sk-container-id-6 label.sk-toggleable__label-arrow:hover:before {color: black;}#sk-container-id-6 div.sk-estimator:hover label.sk-toggleable__label-arrow:before {color: black;}#sk-container-id-6 div.sk-toggleable__content {max-height: 0;max-width: 0;overflow: hidden;text-align: left;background-color: #f0f8ff;}#sk-container-id-6 div.sk-toggleable__content pre {margin: 0.2em;color: black;border-radius: 0.25em;background-color: #f0f8ff;}#sk-container-id-6 input.sk-toggleable__control:checked~div.sk-toggleable__content {max-height: 200px;max-width: 100%;overflow: auto;}#sk-container-id-6 input.sk-toggleable__control:checked~label.sk-toggleable__label-arrow:before {content: \"▾\";}#sk-container-id-6 div.sk-estimator input.sk-toggleable__control:checked~label.sk-toggleable__label {background-color: #d4ebff;}#sk-container-id-6 div.sk-label input.sk-toggleable__control:checked~label.sk-toggleable__label {background-color: #d4ebff;}#sk-container-id-6 input.sk-hidden--visually {border: 0;clip: rect(1px 1px 1px 1px);clip: rect(1px, 1px, 1px, 1px);height: 1px;margin: -1px;overflow: hidden;padding: 0;position: absolute;width: 1px;}#sk-container-id-6 div.sk-estimator {font-family: monospace;background-color: #f0f8ff;border: 1px dotted black;border-radius: 0.25em;box-sizing: border-box;margin-bottom: 0.5em;}#sk-container-id-6 div.sk-estimator:hover {background-color: #d4ebff;}#sk-container-id-6 div.sk-parallel-item::after {content: \"\";width: 100%;border-bottom: 1px solid gray;flex-grow: 1;}#sk-container-id-6 div.sk-label:hover label.sk-toggleable__label {background-color: #d4ebff;}#sk-container-id-6 div.sk-serial::before {content: \"\";position: absolute;border-left: 1px solid gray;box-sizing: border-box;top: 0;bottom: 0;left: 50%;z-index: 0;}#sk-container-id-6 div.sk-serial {display: flex;flex-direction: column;align-items: center;background-color: white;padding-right: 0.2em;padding-left: 0.2em;position: relative;}#sk-container-id-6 div.sk-item {position: relative;z-index: 1;}#sk-container-id-6 div.sk-parallel {display: flex;align-items: stretch;justify-content: center;background-color: white;position: relative;}#sk-container-id-6 div.sk-item::before, #sk-container-id-6 div.sk-parallel-item::before {content: \"\";position: absolute;border-left: 1px solid gray;box-sizing: border-box;top: 0;bottom: 0;left: 50%;z-index: -1;}#sk-container-id-6 div.sk-parallel-item {display: flex;flex-direction: column;z-index: 1;position: relative;background-color: white;}#sk-container-id-6 div.sk-parallel-item:first-child::after {align-self: flex-end;width: 50%;}#sk-container-id-6 div.sk-parallel-item:last-child::after {align-self: flex-start;width: 50%;}#sk-container-id-6 div.sk-parallel-item:only-child::after {width: 0;}#sk-container-id-6 div.sk-dashed-wrapped {border: 1px dashed gray;margin: 0 0.4em 0.5em 0.4em;box-sizing: border-box;padding-bottom: 0.4em;background-color: white;}#sk-container-id-6 div.sk-label label {font-family: monospace;font-weight: bold;display: inline-block;line-height: 1.2em;}#sk-container-id-6 div.sk-label-container {text-align: center;}#sk-container-id-6 div.sk-container {/* jupyter's `normalize.less` sets `[hidden] { display: none; }` but bootstrap.min.css set `[hidden] { display: none !important; }` so we also need the `!important` here to be able to override the default hidden behavior on the sphinx rendered scikit-learn.org. See: https://github.com/scikit-learn/scikit-learn/issues/21755 */display: inline-block !important;position: relative;}#sk-container-id-6 div.sk-text-repr-fallback {display: none;}</style><div id=\"sk-container-id-6\" class=\"sk-top-container\"><div class=\"sk-text-repr-fallback\"><pre>GridSearchCV(cv=KFold(n_splits=5, random_state=None, shuffle=False),\n",
              "             estimator=XGBRegressor(base_score=None, booster=None,\n",
              "                                    callbacks=None, colsample_bylevel=None,\n",
              "                                    colsample_bynode=None,\n",
              "                                    colsample_bytree=None, device=None,\n",
              "                                    early_stopping_rounds=None,\n",
              "                                    enable_categorical=False, eval_metric=None,\n",
              "                                    feature_types=None, gamma=None,\n",
              "                                    grow_policy=None, importance_type=None,\n",
              "                                    i...\n",
              "                                    learning_rate=None, max_bin=None,\n",
              "                                    max_cat_threshold=None,\n",
              "                                    max_cat_to_onehot=None, max_delta_step=None,\n",
              "                                    max_depth=None, max_leaves=None,\n",
              "                                    min_child_weight=None, missing=nan,\n",
              "                                    monotone_constraints=None,\n",
              "                                    multi_strategy=None, n_estimators=None,\n",
              "                                    n_jobs=None, num_parallel_tree=None,\n",
              "                                    random_state=None, ...),\n",
              "             param_grid={&#x27;max_depth&#x27;: [10, 12, 15],\n",
              "                         &#x27;random_state&#x27;: [20, 22, 24]},\n",
              "             scoring=&#x27;neg_mean_absolute_error&#x27;)</pre><b>In a Jupyter environment, please rerun this cell to show the HTML representation or trust the notebook. <br />On GitHub, the HTML representation is unable to render, please try loading this page with nbviewer.org.</b></div><div class=\"sk-container\" hidden><div class=\"sk-item sk-dashed-wrapped\"><div class=\"sk-label-container\"><div class=\"sk-label sk-toggleable\"><input class=\"sk-toggleable__control sk-hidden--visually\" id=\"sk-estimator-id-13\" type=\"checkbox\" ><label for=\"sk-estimator-id-13\" class=\"sk-toggleable__label sk-toggleable__label-arrow\">GridSearchCV</label><div class=\"sk-toggleable__content\"><pre>GridSearchCV(cv=KFold(n_splits=5, random_state=None, shuffle=False),\n",
              "             estimator=XGBRegressor(base_score=None, booster=None,\n",
              "                                    callbacks=None, colsample_bylevel=None,\n",
              "                                    colsample_bynode=None,\n",
              "                                    colsample_bytree=None, device=None,\n",
              "                                    early_stopping_rounds=None,\n",
              "                                    enable_categorical=False, eval_metric=None,\n",
              "                                    feature_types=None, gamma=None,\n",
              "                                    grow_policy=None, importance_type=None,\n",
              "                                    i...\n",
              "                                    learning_rate=None, max_bin=None,\n",
              "                                    max_cat_threshold=None,\n",
              "                                    max_cat_to_onehot=None, max_delta_step=None,\n",
              "                                    max_depth=None, max_leaves=None,\n",
              "                                    min_child_weight=None, missing=nan,\n",
              "                                    monotone_constraints=None,\n",
              "                                    multi_strategy=None, n_estimators=None,\n",
              "                                    n_jobs=None, num_parallel_tree=None,\n",
              "                                    random_state=None, ...),\n",
              "             param_grid={&#x27;max_depth&#x27;: [10, 12, 15],\n",
              "                         &#x27;random_state&#x27;: [20, 22, 24]},\n",
              "             scoring=&#x27;neg_mean_absolute_error&#x27;)</pre></div></div></div><div class=\"sk-parallel\"><div class=\"sk-parallel-item\"><div class=\"sk-item\"><div class=\"sk-label-container\"><div class=\"sk-label sk-toggleable\"><input class=\"sk-toggleable__control sk-hidden--visually\" id=\"sk-estimator-id-14\" type=\"checkbox\" ><label for=\"sk-estimator-id-14\" class=\"sk-toggleable__label sk-toggleable__label-arrow\">estimator: XGBRegressor</label><div class=\"sk-toggleable__content\"><pre>XGBRegressor(base_score=None, booster=None, callbacks=None,\n",
              "             colsample_bylevel=None, colsample_bynode=None,\n",
              "             colsample_bytree=None, device=None, early_stopping_rounds=None,\n",
              "             enable_categorical=False, eval_metric=None, feature_types=None,\n",
              "             gamma=None, grow_policy=None, importance_type=None,\n",
              "             interaction_constraints=None, learning_rate=None, max_bin=None,\n",
              "             max_cat_threshold=None, max_cat_to_onehot=None,\n",
              "             max_delta_step=None, max_depth=None, max_leaves=None,\n",
              "             min_child_weight=None, missing=nan, monotone_constraints=None,\n",
              "             multi_strategy=None, n_estimators=None, n_jobs=None,\n",
              "             num_parallel_tree=None, random_state=None, ...)</pre></div></div></div><div class=\"sk-serial\"><div class=\"sk-item\"><div class=\"sk-estimator sk-toggleable\"><input class=\"sk-toggleable__control sk-hidden--visually\" id=\"sk-estimator-id-15\" type=\"checkbox\" ><label for=\"sk-estimator-id-15\" class=\"sk-toggleable__label sk-toggleable__label-arrow\">XGBRegressor</label><div class=\"sk-toggleable__content\"><pre>XGBRegressor(base_score=None, booster=None, callbacks=None,\n",
              "             colsample_bylevel=None, colsample_bynode=None,\n",
              "             colsample_bytree=None, device=None, early_stopping_rounds=None,\n",
              "             enable_categorical=False, eval_metric=None, feature_types=None,\n",
              "             gamma=None, grow_policy=None, importance_type=None,\n",
              "             interaction_constraints=None, learning_rate=None, max_bin=None,\n",
              "             max_cat_threshold=None, max_cat_to_onehot=None,\n",
              "             max_delta_step=None, max_depth=None, max_leaves=None,\n",
              "             min_child_weight=None, missing=nan, monotone_constraints=None,\n",
              "             multi_strategy=None, n_estimators=None, n_jobs=None,\n",
              "             num_parallel_tree=None, random_state=None, ...)</pre></div></div></div></div></div></div></div></div></div></div>"
            ]
          },
          "metadata": {},
          "execution_count": 29
        }
      ],
      "source": [
        "# Cross validation with the XGB regresssor\n",
        "cv=KFold(n_splits=5)\n",
        "PARAMETERS ={\n",
        "\"max_depth\": [10, 12, 15],\n",
        "\"random_state\": [20, 22, 24]}\n",
        "xgb_cv = GridSearchCV(estimator = XGB_model,param_grid=PARAMETERS,cv=cv,scoring=\"neg_mean_absolute_error\")\n",
        "xgb_cv.fit(Xtrain, Ytrain)"
      ]
    },
    {
      "cell_type": "code",
      "execution_count": 30,
      "metadata": {
        "id": "vff9ATEm-NY4",
        "colab": {
          "base_uri": "https://localhost:8080/"
        },
        "outputId": "368e69a2-fd3c-4f0f-a930-e8e841aae703"
      },
      "outputs": [
        {
          "output_type": "stream",
          "name": "stdout",
          "text": [
            "Best parameters: {'max_depth': 15, 'random_state': 20}\n"
          ]
        }
      ],
      "source": [
        "best_parameters = xgb_cv.best_params_\n",
        "print(\"Best parameters:\", best_parameters) # display the best parameters for the XGB regressor"
      ]
    },
    {
      "cell_type": "code",
      "execution_count": 31,
      "metadata": {
        "id": "tK9EuABZ-WSV",
        "colab": {
          "base_uri": "https://localhost:8080/"
        },
        "outputId": "6774ef1c-28ae-4cc8-cc3d-545dae9336b0"
      },
      "outputs": [
        {
          "output_type": "stream",
          "name": "stdout",
          "text": [
            "The mean absolute error is  0.23583957191884092\n"
          ]
        }
      ],
      "source": [
        "y_pred=xgb_cv.predict(Xtest)\n",
        "print(\"The mean absolute error is \",(mean_absolute_error(y_pred,Ytest))) # display the mean absolute error"
      ]
    },
    {
      "cell_type": "markdown",
      "metadata": {
        "id": "ffQIhRhQSWY0"
      },
      "source": [
        "# **4. Model Optimization**\n",
        "Fine tuning , training and re-testing\n",
        "\n"
      ]
    },
    {
      "cell_type": "code",
      "execution_count": 32,
      "metadata": {
        "id": "bQkdNRLT6DH0",
        "colab": {
          "base_uri": "https://localhost:8080/"
        },
        "outputId": "f880d05a-53d1-44c4-c389-4a1acd638952"
      },
      "outputs": [
        {
          "output_type": "stream",
          "name": "stdout",
          "text": [
            "<class 'pandas.core.frame.DataFrame'>\n",
            "RangeIndex: 18944 entries, 0 to 18943\n",
            "Data columns (total 11 columns):\n",
            " #   Column              Non-Null Count  Dtype  \n",
            "---  ------              --------------  -----  \n",
            " 0   value_eur           18944 non-null  float64\n",
            " 1   release_clause_eur  18944 non-null  float64\n",
            " 2   age                 18944 non-null  float64\n",
            " 3   potential           18944 non-null  float64\n",
            " 4   movement_reactions  18944 non-null  float64\n",
            " 5   wage_eur            18944 non-null  float64\n",
            " 6   gk                  18944 non-null  float64\n",
            " 7   rm                  18944 non-null  float64\n",
            " 8   lm                  18944 non-null  float64\n",
            " 9   lcb                 18944 non-null  float64\n",
            " 10  cb                  18944 non-null  float64\n",
            "dtypes: float64(11)\n",
            "memory usage: 1.6 MB\n"
          ]
        }
      ],
      "source": [
        "training_x.info()"
      ]
    },
    {
      "cell_type": "code",
      "execution_count": 33,
      "metadata": {
        "id": "7HvGLUzTpy5W"
      },
      "outputs": [],
      "source": [
        "Xtrain,Xtest,Ytrain,Ytest=train_test_split(training_x,Y,test_size=0.2,random_state=42) #splitting our data"
      ]
    },
    {
      "cell_type": "code",
      "execution_count": 34,
      "metadata": {
        "id": "fbHe2fMQRBfC",
        "colab": {
          "base_uri": "https://localhost:8080/",
          "height": 156
        },
        "outputId": "a9e98783-37ca-4178-e8aa-65072e08663b"
      },
      "outputs": [
        {
          "output_type": "execute_result",
          "data": {
            "text/plain": [
              "GridSearchCV(cv=KFold(n_splits=5, random_state=None, shuffle=False),\n",
              "             estimator=GradientBoostingRegressor(init=DecisionTreeRegressor(random_state=42),\n",
              "                                                 learning_rate=0.01,\n",
              "                                                 n_estimators=200),\n",
              "             param_grid={'criterion': ['squared_error', 'friedman_mse'],\n",
              "                         'max_depth': [7, 10, 15],\n",
              "                         'max_features': ['sqrt', 'log2'],\n",
              "                         'n_estimators': [50, 70, 120],\n",
              "                         'random_state': [20, 22, 24]},\n",
              "             scoring='neg_mean_absolute_error')"
            ],
            "text/html": [
              "<style>#sk-container-id-7 {color: black;background-color: white;}#sk-container-id-7 pre{padding: 0;}#sk-container-id-7 div.sk-toggleable {background-color: white;}#sk-container-id-7 label.sk-toggleable__label {cursor: pointer;display: block;width: 100%;margin-bottom: 0;padding: 0.3em;box-sizing: border-box;text-align: center;}#sk-container-id-7 label.sk-toggleable__label-arrow:before {content: \"▸\";float: left;margin-right: 0.25em;color: #696969;}#sk-container-id-7 label.sk-toggleable__label-arrow:hover:before {color: black;}#sk-container-id-7 div.sk-estimator:hover label.sk-toggleable__label-arrow:before {color: black;}#sk-container-id-7 div.sk-toggleable__content {max-height: 0;max-width: 0;overflow: hidden;text-align: left;background-color: #f0f8ff;}#sk-container-id-7 div.sk-toggleable__content pre {margin: 0.2em;color: black;border-radius: 0.25em;background-color: #f0f8ff;}#sk-container-id-7 input.sk-toggleable__control:checked~div.sk-toggleable__content {max-height: 200px;max-width: 100%;overflow: auto;}#sk-container-id-7 input.sk-toggleable__control:checked~label.sk-toggleable__label-arrow:before {content: \"▾\";}#sk-container-id-7 div.sk-estimator input.sk-toggleable__control:checked~label.sk-toggleable__label {background-color: #d4ebff;}#sk-container-id-7 div.sk-label input.sk-toggleable__control:checked~label.sk-toggleable__label {background-color: #d4ebff;}#sk-container-id-7 input.sk-hidden--visually {border: 0;clip: rect(1px 1px 1px 1px);clip: rect(1px, 1px, 1px, 1px);height: 1px;margin: -1px;overflow: hidden;padding: 0;position: absolute;width: 1px;}#sk-container-id-7 div.sk-estimator {font-family: monospace;background-color: #f0f8ff;border: 1px dotted black;border-radius: 0.25em;box-sizing: border-box;margin-bottom: 0.5em;}#sk-container-id-7 div.sk-estimator:hover {background-color: #d4ebff;}#sk-container-id-7 div.sk-parallel-item::after {content: \"\";width: 100%;border-bottom: 1px solid gray;flex-grow: 1;}#sk-container-id-7 div.sk-label:hover label.sk-toggleable__label {background-color: #d4ebff;}#sk-container-id-7 div.sk-serial::before {content: \"\";position: absolute;border-left: 1px solid gray;box-sizing: border-box;top: 0;bottom: 0;left: 50%;z-index: 0;}#sk-container-id-7 div.sk-serial {display: flex;flex-direction: column;align-items: center;background-color: white;padding-right: 0.2em;padding-left: 0.2em;position: relative;}#sk-container-id-7 div.sk-item {position: relative;z-index: 1;}#sk-container-id-7 div.sk-parallel {display: flex;align-items: stretch;justify-content: center;background-color: white;position: relative;}#sk-container-id-7 div.sk-item::before, #sk-container-id-7 div.sk-parallel-item::before {content: \"\";position: absolute;border-left: 1px solid gray;box-sizing: border-box;top: 0;bottom: 0;left: 50%;z-index: -1;}#sk-container-id-7 div.sk-parallel-item {display: flex;flex-direction: column;z-index: 1;position: relative;background-color: white;}#sk-container-id-7 div.sk-parallel-item:first-child::after {align-self: flex-end;width: 50%;}#sk-container-id-7 div.sk-parallel-item:last-child::after {align-self: flex-start;width: 50%;}#sk-container-id-7 div.sk-parallel-item:only-child::after {width: 0;}#sk-container-id-7 div.sk-dashed-wrapped {border: 1px dashed gray;margin: 0 0.4em 0.5em 0.4em;box-sizing: border-box;padding-bottom: 0.4em;background-color: white;}#sk-container-id-7 div.sk-label label {font-family: monospace;font-weight: bold;display: inline-block;line-height: 1.2em;}#sk-container-id-7 div.sk-label-container {text-align: center;}#sk-container-id-7 div.sk-container {/* jupyter's `normalize.less` sets `[hidden] { display: none; }` but bootstrap.min.css set `[hidden] { display: none !important; }` so we also need the `!important` here to be able to override the default hidden behavior on the sphinx rendered scikit-learn.org. See: https://github.com/scikit-learn/scikit-learn/issues/21755 */display: inline-block !important;position: relative;}#sk-container-id-7 div.sk-text-repr-fallback {display: none;}</style><div id=\"sk-container-id-7\" class=\"sk-top-container\"><div class=\"sk-text-repr-fallback\"><pre>GridSearchCV(cv=KFold(n_splits=5, random_state=None, shuffle=False),\n",
              "             estimator=GradientBoostingRegressor(init=DecisionTreeRegressor(random_state=42),\n",
              "                                                 learning_rate=0.01,\n",
              "                                                 n_estimators=200),\n",
              "             param_grid={&#x27;criterion&#x27;: [&#x27;squared_error&#x27;, &#x27;friedman_mse&#x27;],\n",
              "                         &#x27;max_depth&#x27;: [7, 10, 15],\n",
              "                         &#x27;max_features&#x27;: [&#x27;sqrt&#x27;, &#x27;log2&#x27;],\n",
              "                         &#x27;n_estimators&#x27;: [50, 70, 120],\n",
              "                         &#x27;random_state&#x27;: [20, 22, 24]},\n",
              "             scoring=&#x27;neg_mean_absolute_error&#x27;)</pre><b>In a Jupyter environment, please rerun this cell to show the HTML representation or trust the notebook. <br />On GitHub, the HTML representation is unable to render, please try loading this page with nbviewer.org.</b></div><div class=\"sk-container\" hidden><div class=\"sk-item sk-dashed-wrapped\"><div class=\"sk-label-container\"><div class=\"sk-label sk-toggleable\"><input class=\"sk-toggleable__control sk-hidden--visually\" id=\"sk-estimator-id-16\" type=\"checkbox\" ><label for=\"sk-estimator-id-16\" class=\"sk-toggleable__label sk-toggleable__label-arrow\">GridSearchCV</label><div class=\"sk-toggleable__content\"><pre>GridSearchCV(cv=KFold(n_splits=5, random_state=None, shuffle=False),\n",
              "             estimator=GradientBoostingRegressor(init=DecisionTreeRegressor(random_state=42),\n",
              "                                                 learning_rate=0.01,\n",
              "                                                 n_estimators=200),\n",
              "             param_grid={&#x27;criterion&#x27;: [&#x27;squared_error&#x27;, &#x27;friedman_mse&#x27;],\n",
              "                         &#x27;max_depth&#x27;: [7, 10, 15],\n",
              "                         &#x27;max_features&#x27;: [&#x27;sqrt&#x27;, &#x27;log2&#x27;],\n",
              "                         &#x27;n_estimators&#x27;: [50, 70, 120],\n",
              "                         &#x27;random_state&#x27;: [20, 22, 24]},\n",
              "             scoring=&#x27;neg_mean_absolute_error&#x27;)</pre></div></div></div><div class=\"sk-parallel\"><div class=\"sk-parallel-item\"><div class=\"sk-item\"><div class=\"sk-label-container\"><div class=\"sk-label sk-toggleable\"><input class=\"sk-toggleable__control sk-hidden--visually\" id=\"sk-estimator-id-17\" type=\"checkbox\" ><label for=\"sk-estimator-id-17\" class=\"sk-toggleable__label sk-toggleable__label-arrow\">estimator: GradientBoostingRegressor</label><div class=\"sk-toggleable__content\"><pre>GradientBoostingRegressor(init=DecisionTreeRegressor(random_state=42),\n",
              "                          learning_rate=0.01, n_estimators=200)</pre></div></div></div><div class=\"sk-serial\"><div class=\"sk-item sk-dashed-wrapped\"><div class=\"sk-parallel\"><div class=\"sk-parallel-item\"><div class=\"sk-item\"><div class=\"sk-label-container\"><div class=\"sk-label sk-toggleable\"><input class=\"sk-toggleable__control sk-hidden--visually\" id=\"sk-estimator-id-18\" type=\"checkbox\" ><label for=\"sk-estimator-id-18\" class=\"sk-toggleable__label sk-toggleable__label-arrow\">init: DecisionTreeRegressor</label><div class=\"sk-toggleable__content\"><pre>DecisionTreeRegressor(random_state=42)</pre></div></div></div><div class=\"sk-serial\"><div class=\"sk-item\"><div class=\"sk-estimator sk-toggleable\"><input class=\"sk-toggleable__control sk-hidden--visually\" id=\"sk-estimator-id-19\" type=\"checkbox\" ><label for=\"sk-estimator-id-19\" class=\"sk-toggleable__label sk-toggleable__label-arrow\">DecisionTreeRegressor</label><div class=\"sk-toggleable__content\"><pre>DecisionTreeRegressor(random_state=42)</pre></div></div></div></div></div></div></div></div></div></div></div></div></div></div></div>"
            ]
          },
          "metadata": {},
          "execution_count": 34
        }
      ],
      "source": [
        "#cross validation with gb boost which was our best performing model\n",
        "cv=KFold(n_splits=5)\n",
        "PARAMETERS ={\n",
        "\"max_depth\":[7,10,15],\n",
        "\"n_estimators\":[50,70,120],\n",
        "\"max_features\":['sqrt', 'log2'],\n",
        "\"criterion\":['squared_error', 'friedman_mse'],\n",
        "\"random_state\": [20, 22, 24]}\n",
        "gb_cv = GridSearchCV(estimator = gb,param_grid=PARAMETERS,cv=cv,scoring=\"neg_mean_absolute_error\")\n",
        "gb_cv.fit(Xtrain, Ytrain)"
      ]
    },
    {
      "cell_type": "code",
      "execution_count": 35,
      "metadata": {
        "id": "aBh8qDGWRFyS",
        "colab": {
          "base_uri": "https://localhost:8080/"
        },
        "outputId": "304801bb-ca15-4c2d-9bea-7f9fb2d70b5a"
      },
      "outputs": [
        {
          "output_type": "stream",
          "name": "stdout",
          "text": [
            "Best parameters: {'criterion': 'squared_error', 'max_depth': 7, 'max_features': 'sqrt', 'n_estimators': 50, 'random_state': 20}\n"
          ]
        }
      ],
      "source": [
        "#display the best parameters for the GB regressor\n",
        "best_parameters = gb_cv.best_params_\n",
        "print(\"Best parameters:\", best_parameters)"
      ]
    },
    {
      "cell_type": "code",
      "execution_count": 36,
      "metadata": {
        "id": "qYbGSP30RKEB",
        "colab": {
          "base_uri": "https://localhost:8080/"
        },
        "outputId": "849791f5-97c3-44b7-ba01-09a0498230d1"
      },
      "outputs": [
        {
          "output_type": "stream",
          "name": "stdout",
          "text": [
            "The mean absolute error is  0.24359989443124835\n"
          ]
        }
      ],
      "source": [
        "y_pred=gb_cv.predict(Xtest)\n",
        "print(\"The mean absolute error is \",(mean_absolute_error(y_pred,Ytest))) # display the mean absolute error"
      ]
    },
    {
      "cell_type": "markdown",
      "metadata": {
        "id": "88JMmPmZYY5a"
      },
      "source": [
        "# **5. Model testing with player 22 data**"
      ]
    },
    {
      "cell_type": "code",
      "execution_count": 37,
      "metadata": {
        "id": "PZM_TiTMYSVi",
        "colab": {
          "base_uri": "https://localhost:8080/"
        },
        "outputId": "c78e04c6-9a90-451e-918b-96f17e2e2ff4"
      },
      "outputs": [
        {
          "output_type": "stream",
          "name": "stdout",
          "text": [
            "<class 'pandas.core.frame.DataFrame'>\n",
            "RangeIndex: 19239 entries, 0 to 19238\n",
            "Data columns (total 11 columns):\n",
            " #   Column              Non-Null Count  Dtype  \n",
            "---  ------              --------------  -----  \n",
            " 0   value_eur           19165 non-null  float64\n",
            " 1   release_clause_eur  18063 non-null  float64\n",
            " 2   age                 19239 non-null  int64  \n",
            " 3   potential           19239 non-null  int64  \n",
            " 4   movement_reactions  19239 non-null  int64  \n",
            " 5   wage_eur            19178 non-null  float64\n",
            " 6   gk                  19239 non-null  object \n",
            " 7   rm                  19239 non-null  object \n",
            " 8   lm                  19239 non-null  object \n",
            " 9   lcb                 19239 non-null  object \n",
            " 10  cb                  19239 non-null  object \n",
            "dtypes: float64(3), int64(3), object(5)\n",
            "memory usage: 1.6+ MB\n"
          ]
        }
      ],
      "source": [
        "#using specific columns used in our training data in our testing data\n",
        "new_testing_data = testing_data[training_x.columns]\n",
        "new_testing_data.info()"
      ]
    },
    {
      "cell_type": "code",
      "execution_count": 38,
      "metadata": {
        "id": "4YwsOTn-Y_IP",
        "colab": {
          "base_uri": "https://localhost:8080/"
        },
        "outputId": "db1084cd-1fff-4401-a9e4-540216892502"
      },
      "outputs": [
        {
          "output_type": "execute_result",
          "data": {
            "text/plain": [
              "0        93\n",
              "1        92\n",
              "2        91\n",
              "3        91\n",
              "4        91\n",
              "         ..\n",
              "19234    47\n",
              "19235    47\n",
              "19236    47\n",
              "19237    47\n",
              "19238    47\n",
              "Name: overall, Length: 19239, dtype: int64"
            ]
          },
          "metadata": {},
          "execution_count": 38
        }
      ],
      "source": [
        "Y = testing_data['overall']\n",
        "Y"
      ]
    },
    {
      "cell_type": "code",
      "execution_count": 39,
      "metadata": {
        "id": "VS2BLbgBZ6Dx",
        "colab": {
          "base_uri": "https://localhost:8080/"
        },
        "outputId": "8b136e5e-e3ce-47eb-bfb2-80507f754393"
      },
      "outputs": [
        {
          "output_type": "stream",
          "name": "stdout",
          "text": [
            "<class 'pandas.core.frame.DataFrame'>\n",
            "RangeIndex: 19239 entries, 0 to 19238\n",
            "Data columns (total 6 columns):\n",
            " #   Column              Non-Null Count  Dtype  \n",
            "---  ------              --------------  -----  \n",
            " 0   value_eur           19165 non-null  float64\n",
            " 1   release_clause_eur  18063 non-null  float64\n",
            " 2   age                 19239 non-null  int64  \n",
            " 3   potential           19239 non-null  int64  \n",
            " 4   movement_reactions  19239 non-null  int64  \n",
            " 5   wage_eur            19178 non-null  float64\n",
            "dtypes: float64(3), int64(3)\n",
            "memory usage: 902.0 KB\n"
          ]
        }
      ],
      "source": [
        "#grouped columns that are numeric\n",
        "numeric_testing = new_testing_data.select_dtypes(include=['int', 'float']).columns\n",
        "numeric_testing = new_testing_data[numeric_testing]\n",
        "numeric_testing.info()"
      ]
    },
    {
      "cell_type": "code",
      "execution_count": 40,
      "metadata": {
        "id": "47pxAQW9_GH1",
        "colab": {
          "base_uri": "https://localhost:8080/"
        },
        "outputId": "a38a7690-4ba3-4cff-d3f3-ad530d3bb843"
      },
      "outputs": [
        {
          "output_type": "stream",
          "name": "stdout",
          "text": [
            "<class 'pandas.core.frame.DataFrame'>\n",
            "RangeIndex: 19239 entries, 0 to 19238\n",
            "Data columns (total 5 columns):\n",
            " #   Column  Non-Null Count  Dtype \n",
            "---  ------  --------------  ----- \n",
            " 0   gk      19239 non-null  object\n",
            " 1   rm      19239 non-null  object\n",
            " 2   lm      19239 non-null  object\n",
            " 3   lcb     19239 non-null  object\n",
            " 4   cb      19239 non-null  object\n",
            "dtypes: object(5)\n",
            "memory usage: 751.6+ KB\n"
          ]
        }
      ],
      "source": [
        "#grouped all columns with non-numeric values and object\n",
        "object_testing = new_testing_data.select_dtypes(exclude=['int', 'float']).columns\n",
        "object_testing = new_testing_data[object_testing]\n",
        "object_testing.info()"
      ]
    },
    {
      "cell_type": "code",
      "execution_count": 41,
      "metadata": {
        "id": "NmxIxX8Eakor",
        "colab": {
          "base_uri": "https://localhost:8080/"
        },
        "outputId": "bdc04825-8ccb-4c9b-f06b-40ad1f55a2d8"
      },
      "outputs": [
        {
          "output_type": "stream",
          "name": "stdout",
          "text": [
            "<class 'pandas.core.frame.DataFrame'>\n",
            "RangeIndex: 19239 entries, 0 to 19238\n",
            "Data columns (total 6 columns):\n",
            " #   Column              Non-Null Count  Dtype  \n",
            "---  ------              --------------  -----  \n",
            " 0   value_eur           19239 non-null  float64\n",
            " 1   release_clause_eur  19239 non-null  float64\n",
            " 2   age                 19239 non-null  float64\n",
            " 3   potential           19239 non-null  float64\n",
            " 4   movement_reactions  19239 non-null  float64\n",
            " 5   wage_eur            19239 non-null  float64\n",
            "dtypes: float64(6)\n",
            "memory usage: 902.0 KB\n"
          ]
        }
      ],
      "source": [
        "#imputed the numeric values using most_frequent ie. to fill in with the mean\n",
        "imp = SimpleImputer(strategy='mean')\n",
        "numeric_testing = pd.DataFrame(imp.fit_transform(numeric_testing), columns = numeric_testing.columns)\n",
        "numeric_testing.info()"
      ]
    },
    {
      "cell_type": "code",
      "execution_count": 42,
      "metadata": {
        "id": "HCp6fHvQaflO",
        "colab": {
          "base_uri": "https://localhost:8080/"
        },
        "outputId": "38d74d67-c5a5-44a4-b8ca-7798dabd50d0"
      },
      "outputs": [
        {
          "output_type": "stream",
          "name": "stdout",
          "text": [
            "<class 'pandas.core.frame.DataFrame'>\n",
            "RangeIndex: 19239 entries, 0 to 19238\n",
            "Data columns (total 5 columns):\n",
            " #   Column  Non-Null Count  Dtype\n",
            "---  ------  --------------  -----\n",
            " 0   gk      19239 non-null  int64\n",
            " 1   rm      19239 non-null  int64\n",
            " 2   lm      19239 non-null  int64\n",
            " 3   lcb     19239 non-null  int64\n",
            " 4   cb      19239 non-null  int64\n",
            "dtypes: int64(5)\n",
            "memory usage: 751.6 KB\n"
          ]
        }
      ],
      "source": [
        "#encode the object data using the label encoder\n",
        "encoded_object = pd.DataFrame()\n",
        "for c in object_testing.columns:\n",
        "  label_encoder = LabelEncoder()\n",
        "  encoded_object[c] = label_encoder.fit_transform(object_testing[c])\n",
        "encoded_object.info()"
      ]
    },
    {
      "cell_type": "code",
      "execution_count": 43,
      "metadata": {
        "id": "LQsEpay0bL_J",
        "colab": {
          "base_uri": "https://localhost:8080/"
        },
        "outputId": "52384d9d-bff5-48ef-e083-ba0f56f1cb60"
      },
      "outputs": [
        {
          "output_type": "stream",
          "name": "stdout",
          "text": [
            "<class 'pandas.core.frame.DataFrame'>\n",
            "RangeIndex: 19239 entries, 0 to 19238\n",
            "Data columns (total 11 columns):\n",
            " #   Column              Non-Null Count  Dtype  \n",
            "---  ------              --------------  -----  \n",
            " 0   gk                  19239 non-null  int64  \n",
            " 1   rm                  19239 non-null  int64  \n",
            " 2   lm                  19239 non-null  int64  \n",
            " 3   lcb                 19239 non-null  int64  \n",
            " 4   cb                  19239 non-null  int64  \n",
            " 5   value_eur           19239 non-null  float64\n",
            " 6   release_clause_eur  19239 non-null  float64\n",
            " 7   age                 19239 non-null  float64\n",
            " 8   potential           19239 non-null  float64\n",
            " 9   movement_reactions  19239 non-null  float64\n",
            " 10  wage_eur            19239 non-null  float64\n",
            "dtypes: float64(6), int64(5)\n",
            "memory usage: 1.6 MB\n"
          ]
        }
      ],
      "source": [
        "#rejoined the numeric and non-numeric columns\n",
        "testing_x = pd.DataFrame()\n",
        "testing_x = pd.concat([encoded_object, numeric_testing], axis = 1)\n",
        "testing_x.info()"
      ]
    },
    {
      "cell_type": "code",
      "execution_count": 44,
      "metadata": {
        "id": "0TWXIRz0a_zu",
        "colab": {
          "base_uri": "https://localhost:8080/",
          "height": 226
        },
        "outputId": "caf3a8c0-3b43-4bd1-a204-a5ced60d8272"
      },
      "outputs": [
        {
          "output_type": "execute_result",
          "data": {
            "text/plain": [
              "         gk        rm        lm       lcb        cb  value_eur  \\\n",
              "0  0.068706  3.052455  3.052455 -0.533389 -0.533389   9.889601   \n",
              "1  0.068706  2.843314  2.843314  0.334698  0.334698  15.350958   \n",
              "2  0.184414  2.968799  2.968799 -0.320796 -0.320796   5.546836   \n",
              "3  0.184414  3.010627  3.010627 -0.533389 -0.533389  16.601147   \n",
              "4  0.300122  3.010627  3.010627  1.379946  1.379946  16.140551   \n",
              "\n",
              "   release_clause_eur       age  potential  movement_reactions   wage_eur  \n",
              "0            9.591752  1.851089    3.60178            3.599846  15.998022  \n",
              "1           13.244084  1.429869    3.43747            3.489252  13.425844  \n",
              "2            5.380179  2.272309    3.27316            3.599846  13.425844  \n",
              "3           16.109335  0.798039    3.27316            3.046874  13.425844  \n",
              "4           15.660560  1.008649    3.27316            3.268063  17.541329  "
            ],
            "text/html": [
              "\n",
              "  <div id=\"df-62c62890-e8bb-4192-a588-a80aff8d9747\" class=\"colab-df-container\">\n",
              "    <div>\n",
              "<style scoped>\n",
              "    .dataframe tbody tr th:only-of-type {\n",
              "        vertical-align: middle;\n",
              "    }\n",
              "\n",
              "    .dataframe tbody tr th {\n",
              "        vertical-align: top;\n",
              "    }\n",
              "\n",
              "    .dataframe thead th {\n",
              "        text-align: right;\n",
              "    }\n",
              "</style>\n",
              "<table border=\"1\" class=\"dataframe\">\n",
              "  <thead>\n",
              "    <tr style=\"text-align: right;\">\n",
              "      <th></th>\n",
              "      <th>gk</th>\n",
              "      <th>rm</th>\n",
              "      <th>lm</th>\n",
              "      <th>lcb</th>\n",
              "      <th>cb</th>\n",
              "      <th>value_eur</th>\n",
              "      <th>release_clause_eur</th>\n",
              "      <th>age</th>\n",
              "      <th>potential</th>\n",
              "      <th>movement_reactions</th>\n",
              "      <th>wage_eur</th>\n",
              "    </tr>\n",
              "  </thead>\n",
              "  <tbody>\n",
              "    <tr>\n",
              "      <th>0</th>\n",
              "      <td>0.068706</td>\n",
              "      <td>3.052455</td>\n",
              "      <td>3.052455</td>\n",
              "      <td>-0.533389</td>\n",
              "      <td>-0.533389</td>\n",
              "      <td>9.889601</td>\n",
              "      <td>9.591752</td>\n",
              "      <td>1.851089</td>\n",
              "      <td>3.60178</td>\n",
              "      <td>3.599846</td>\n",
              "      <td>15.998022</td>\n",
              "    </tr>\n",
              "    <tr>\n",
              "      <th>1</th>\n",
              "      <td>0.068706</td>\n",
              "      <td>2.843314</td>\n",
              "      <td>2.843314</td>\n",
              "      <td>0.334698</td>\n",
              "      <td>0.334698</td>\n",
              "      <td>15.350958</td>\n",
              "      <td>13.244084</td>\n",
              "      <td>1.429869</td>\n",
              "      <td>3.43747</td>\n",
              "      <td>3.489252</td>\n",
              "      <td>13.425844</td>\n",
              "    </tr>\n",
              "    <tr>\n",
              "      <th>2</th>\n",
              "      <td>0.184414</td>\n",
              "      <td>2.968799</td>\n",
              "      <td>2.968799</td>\n",
              "      <td>-0.320796</td>\n",
              "      <td>-0.320796</td>\n",
              "      <td>5.546836</td>\n",
              "      <td>5.380179</td>\n",
              "      <td>2.272309</td>\n",
              "      <td>3.27316</td>\n",
              "      <td>3.599846</td>\n",
              "      <td>13.425844</td>\n",
              "    </tr>\n",
              "    <tr>\n",
              "      <th>3</th>\n",
              "      <td>0.184414</td>\n",
              "      <td>3.010627</td>\n",
              "      <td>3.010627</td>\n",
              "      <td>-0.533389</td>\n",
              "      <td>-0.533389</td>\n",
              "      <td>16.601147</td>\n",
              "      <td>16.109335</td>\n",
              "      <td>0.798039</td>\n",
              "      <td>3.27316</td>\n",
              "      <td>3.046874</td>\n",
              "      <td>13.425844</td>\n",
              "    </tr>\n",
              "    <tr>\n",
              "      <th>4</th>\n",
              "      <td>0.300122</td>\n",
              "      <td>3.010627</td>\n",
              "      <td>3.010627</td>\n",
              "      <td>1.379946</td>\n",
              "      <td>1.379946</td>\n",
              "      <td>16.140551</td>\n",
              "      <td>15.660560</td>\n",
              "      <td>1.008649</td>\n",
              "      <td>3.27316</td>\n",
              "      <td>3.268063</td>\n",
              "      <td>17.541329</td>\n",
              "    </tr>\n",
              "  </tbody>\n",
              "</table>\n",
              "</div>\n",
              "    <div class=\"colab-df-buttons\">\n",
              "\n",
              "  <div class=\"colab-df-container\">\n",
              "    <button class=\"colab-df-convert\" onclick=\"convertToInteractive('df-62c62890-e8bb-4192-a588-a80aff8d9747')\"\n",
              "            title=\"Convert this dataframe to an interactive table.\"\n",
              "            style=\"display:none;\">\n",
              "\n",
              "  <svg xmlns=\"http://www.w3.org/2000/svg\" height=\"24px\" viewBox=\"0 -960 960 960\">\n",
              "    <path d=\"M120-120v-720h720v720H120Zm60-500h600v-160H180v160Zm220 220h160v-160H400v160Zm0 220h160v-160H400v160ZM180-400h160v-160H180v160Zm440 0h160v-160H620v160ZM180-180h160v-160H180v160Zm440 0h160v-160H620v160Z\"/>\n",
              "  </svg>\n",
              "    </button>\n",
              "\n",
              "  <style>\n",
              "    .colab-df-container {\n",
              "      display:flex;\n",
              "      gap: 12px;\n",
              "    }\n",
              "\n",
              "    .colab-df-convert {\n",
              "      background-color: #E8F0FE;\n",
              "      border: none;\n",
              "      border-radius: 50%;\n",
              "      cursor: pointer;\n",
              "      display: none;\n",
              "      fill: #1967D2;\n",
              "      height: 32px;\n",
              "      padding: 0 0 0 0;\n",
              "      width: 32px;\n",
              "    }\n",
              "\n",
              "    .colab-df-convert:hover {\n",
              "      background-color: #E2EBFA;\n",
              "      box-shadow: 0px 1px 2px rgba(60, 64, 67, 0.3), 0px 1px 3px 1px rgba(60, 64, 67, 0.15);\n",
              "      fill: #174EA6;\n",
              "    }\n",
              "\n",
              "    .colab-df-buttons div {\n",
              "      margin-bottom: 4px;\n",
              "    }\n",
              "\n",
              "    [theme=dark] .colab-df-convert {\n",
              "      background-color: #3B4455;\n",
              "      fill: #D2E3FC;\n",
              "    }\n",
              "\n",
              "    [theme=dark] .colab-df-convert:hover {\n",
              "      background-color: #434B5C;\n",
              "      box-shadow: 0px 1px 3px 1px rgba(0, 0, 0, 0.15);\n",
              "      filter: drop-shadow(0px 1px 2px rgba(0, 0, 0, 0.3));\n",
              "      fill: #FFFFFF;\n",
              "    }\n",
              "  </style>\n",
              "\n",
              "    <script>\n",
              "      const buttonEl =\n",
              "        document.querySelector('#df-62c62890-e8bb-4192-a588-a80aff8d9747 button.colab-df-convert');\n",
              "      buttonEl.style.display =\n",
              "        google.colab.kernel.accessAllowed ? 'block' : 'none';\n",
              "\n",
              "      async function convertToInteractive(key) {\n",
              "        const element = document.querySelector('#df-62c62890-e8bb-4192-a588-a80aff8d9747');\n",
              "        const dataTable =\n",
              "          await google.colab.kernel.invokeFunction('convertToInteractive',\n",
              "                                                    [key], {});\n",
              "        if (!dataTable) return;\n",
              "\n",
              "        const docLinkHtml = 'Like what you see? Visit the ' +\n",
              "          '<a target=\"_blank\" href=https://colab.research.google.com/notebooks/data_table.ipynb>data table notebook</a>'\n",
              "          + ' to learn more about interactive tables.';\n",
              "        element.innerHTML = '';\n",
              "        dataTable['output_type'] = 'display_data';\n",
              "        await google.colab.output.renderOutput(dataTable, element);\n",
              "        const docLink = document.createElement('div');\n",
              "        docLink.innerHTML = docLinkHtml;\n",
              "        element.appendChild(docLink);\n",
              "      }\n",
              "    </script>\n",
              "  </div>\n",
              "\n",
              "\n",
              "<div id=\"df-d1645efa-f254-4084-b156-088c0f52d688\">\n",
              "  <button class=\"colab-df-quickchart\" onclick=\"quickchart('df-d1645efa-f254-4084-b156-088c0f52d688')\"\n",
              "            title=\"Suggest charts.\"\n",
              "            style=\"display:none;\">\n",
              "\n",
              "<svg xmlns=\"http://www.w3.org/2000/svg\" height=\"24px\"viewBox=\"0 0 24 24\"\n",
              "     width=\"24px\">\n",
              "    <g>\n",
              "        <path d=\"M19 3H5c-1.1 0-2 .9-2 2v14c0 1.1.9 2 2 2h14c1.1 0 2-.9 2-2V5c0-1.1-.9-2-2-2zM9 17H7v-7h2v7zm4 0h-2V7h2v10zm4 0h-2v-4h2v4z\"/>\n",
              "    </g>\n",
              "</svg>\n",
              "  </button>\n",
              "\n",
              "<style>\n",
              "  .colab-df-quickchart {\n",
              "      --bg-color: #E8F0FE;\n",
              "      --fill-color: #1967D2;\n",
              "      --hover-bg-color: #E2EBFA;\n",
              "      --hover-fill-color: #174EA6;\n",
              "      --disabled-fill-color: #AAA;\n",
              "      --disabled-bg-color: #DDD;\n",
              "  }\n",
              "\n",
              "  [theme=dark] .colab-df-quickchart {\n",
              "      --bg-color: #3B4455;\n",
              "      --fill-color: #D2E3FC;\n",
              "      --hover-bg-color: #434B5C;\n",
              "      --hover-fill-color: #FFFFFF;\n",
              "      --disabled-bg-color: #3B4455;\n",
              "      --disabled-fill-color: #666;\n",
              "  }\n",
              "\n",
              "  .colab-df-quickchart {\n",
              "    background-color: var(--bg-color);\n",
              "    border: none;\n",
              "    border-radius: 50%;\n",
              "    cursor: pointer;\n",
              "    display: none;\n",
              "    fill: var(--fill-color);\n",
              "    height: 32px;\n",
              "    padding: 0;\n",
              "    width: 32px;\n",
              "  }\n",
              "\n",
              "  .colab-df-quickchart:hover {\n",
              "    background-color: var(--hover-bg-color);\n",
              "    box-shadow: 0 1px 2px rgba(60, 64, 67, 0.3), 0 1px 3px 1px rgba(60, 64, 67, 0.15);\n",
              "    fill: var(--button-hover-fill-color);\n",
              "  }\n",
              "\n",
              "  .colab-df-quickchart-complete:disabled,\n",
              "  .colab-df-quickchart-complete:disabled:hover {\n",
              "    background-color: var(--disabled-bg-color);\n",
              "    fill: var(--disabled-fill-color);\n",
              "    box-shadow: none;\n",
              "  }\n",
              "\n",
              "  .colab-df-spinner {\n",
              "    border: 2px solid var(--fill-color);\n",
              "    border-color: transparent;\n",
              "    border-bottom-color: var(--fill-color);\n",
              "    animation:\n",
              "      spin 1s steps(1) infinite;\n",
              "  }\n",
              "\n",
              "  @keyframes spin {\n",
              "    0% {\n",
              "      border-color: transparent;\n",
              "      border-bottom-color: var(--fill-color);\n",
              "      border-left-color: var(--fill-color);\n",
              "    }\n",
              "    20% {\n",
              "      border-color: transparent;\n",
              "      border-left-color: var(--fill-color);\n",
              "      border-top-color: var(--fill-color);\n",
              "    }\n",
              "    30% {\n",
              "      border-color: transparent;\n",
              "      border-left-color: var(--fill-color);\n",
              "      border-top-color: var(--fill-color);\n",
              "      border-right-color: var(--fill-color);\n",
              "    }\n",
              "    40% {\n",
              "      border-color: transparent;\n",
              "      border-right-color: var(--fill-color);\n",
              "      border-top-color: var(--fill-color);\n",
              "    }\n",
              "    60% {\n",
              "      border-color: transparent;\n",
              "      border-right-color: var(--fill-color);\n",
              "    }\n",
              "    80% {\n",
              "      border-color: transparent;\n",
              "      border-right-color: var(--fill-color);\n",
              "      border-bottom-color: var(--fill-color);\n",
              "    }\n",
              "    90% {\n",
              "      border-color: transparent;\n",
              "      border-bottom-color: var(--fill-color);\n",
              "    }\n",
              "  }\n",
              "</style>\n",
              "\n",
              "  <script>\n",
              "    async function quickchart(key) {\n",
              "      const quickchartButtonEl =\n",
              "        document.querySelector('#' + key + ' button');\n",
              "      quickchartButtonEl.disabled = true;  // To prevent multiple clicks.\n",
              "      quickchartButtonEl.classList.add('colab-df-spinner');\n",
              "      try {\n",
              "        const charts = await google.colab.kernel.invokeFunction(\n",
              "            'suggestCharts', [key], {});\n",
              "      } catch (error) {\n",
              "        console.error('Error during call to suggestCharts:', error);\n",
              "      }\n",
              "      quickchartButtonEl.classList.remove('colab-df-spinner');\n",
              "      quickchartButtonEl.classList.add('colab-df-quickchart-complete');\n",
              "    }\n",
              "    (() => {\n",
              "      let quickchartButtonEl =\n",
              "        document.querySelector('#df-d1645efa-f254-4084-b156-088c0f52d688 button');\n",
              "      quickchartButtonEl.style.display =\n",
              "        google.colab.kernel.accessAllowed ? 'block' : 'none';\n",
              "    })();\n",
              "  </script>\n",
              "</div>\n",
              "    </div>\n",
              "  </div>\n"
            ]
          },
          "metadata": {},
          "execution_count": 44
        }
      ],
      "source": [
        "sc = pickle.load(open('scaler_model.pkl', 'rb'))\n",
        "new_testing_x = sc.transform(testing_x)\n",
        "new_testing_x = pd.DataFrame(new_testing_x, columns = testing_x.columns)\n",
        "new_testing_x.head(5)"
      ]
    },
    {
      "cell_type": "code",
      "source": [
        "gb_best = GradientBoostingRegressor(criterion='squared_error',max_depth = 7, max_features = 'sqrt' , n_estimators = 50, random_state = 20)"
      ],
      "metadata": {
        "id": "Z5suPqUW0INj"
      },
      "execution_count": 47,
      "outputs": []
    },
    {
      "cell_type": "code",
      "source": [
        "all_2021_X = pd.concat([Xtrain, Xtest])\n",
        "all_2021_X"
      ],
      "metadata": {
        "colab": {
          "base_uri": "https://localhost:8080/",
          "height": 443
        },
        "id": "M3XcaXzH035z",
        "outputId": "7ec59e85-7e9d-45f7-c645-1573d4b91354"
      },
      "execution_count": 50,
      "outputs": [
        {
          "output_type": "execute_result",
          "data": {
            "text/plain": [
              "       value_eur  release_clause_eur       age  potential  movement_reactions  \\\n",
              "18775  -0.360898           -0.408397 -1.325424  -1.159891           -3.249244   \n",
              "17559  -0.331669           -0.383747 -1.325424   0.476817           -1.164245   \n",
              "7667   -0.243984           -0.298288  0.590598  -0.668878            0.262334   \n",
              "2638   -0.036136            0.292488  1.016381   0.313147            1.249965   \n",
              "18148  -0.344010           -0.397600 -1.325424  -0.177866           -1.273981   \n",
              "...          ...                 ...       ...        ...                 ...   \n",
              "8404   -0.088098           -0.125129 -0.899642   1.131501            0.262334   \n",
              "5412   -0.354403           -0.401470  2.506621  -0.341537            0.152597   \n",
              "3755   -0.062117            0.302674  0.590598   0.476817            1.359702   \n",
              "11886  -0.331669           -0.371524  1.229273  -1.323562           -0.066877   \n",
              "13592  -0.289450           -0.353393 -0.686750  -0.505208           -0.505824   \n",
              "\n",
              "       wage_eur        gk        rm        lm       lcb        cb  \n",
              "18775 -0.433425  0.996626 -1.747355 -1.747355 -1.452170 -1.452170  \n",
              "17559 -0.420789 -0.705586 -0.542699 -0.542699 -0.759894 -0.759894  \n",
              "7667  -0.104899 -0.462413  0.584236  0.584236  0.351392  0.351392  \n",
              "2638  -0.205984  0.023934  0.331647  0.331647  2.027428  2.027428  \n",
              "18148 -0.408153 -0.462413 -0.950728 -0.950728 -0.541280 -0.541280  \n",
              "...         ...       ...       ...       ...       ...       ...  \n",
              "8404  -0.433425 -0.340826  0.467657  0.467657  0.624658  0.624658  \n",
              "5412  -0.307068  3.124391 -1.436476 -1.436476 -1.197121 -1.197121  \n",
              "3755  -0.420789 -0.219240 -0.970158 -0.970158  1.754162  1.754162  \n",
              "11886 -0.357611 -0.097653 -0.484410 -0.484410  0.588223  0.588223  \n",
              "13592 -0.408153 -0.340826  0.117918  0.117918 -0.978507 -0.978507  \n",
              "\n",
              "[18944 rows x 11 columns]"
            ],
            "text/html": [
              "\n",
              "  <div id=\"df-eb5203a4-e851-44ab-8b35-abf613a997e1\" class=\"colab-df-container\">\n",
              "    <div>\n",
              "<style scoped>\n",
              "    .dataframe tbody tr th:only-of-type {\n",
              "        vertical-align: middle;\n",
              "    }\n",
              "\n",
              "    .dataframe tbody tr th {\n",
              "        vertical-align: top;\n",
              "    }\n",
              "\n",
              "    .dataframe thead th {\n",
              "        text-align: right;\n",
              "    }\n",
              "</style>\n",
              "<table border=\"1\" class=\"dataframe\">\n",
              "  <thead>\n",
              "    <tr style=\"text-align: right;\">\n",
              "      <th></th>\n",
              "      <th>value_eur</th>\n",
              "      <th>release_clause_eur</th>\n",
              "      <th>age</th>\n",
              "      <th>potential</th>\n",
              "      <th>movement_reactions</th>\n",
              "      <th>wage_eur</th>\n",
              "      <th>gk</th>\n",
              "      <th>rm</th>\n",
              "      <th>lm</th>\n",
              "      <th>lcb</th>\n",
              "      <th>cb</th>\n",
              "    </tr>\n",
              "  </thead>\n",
              "  <tbody>\n",
              "    <tr>\n",
              "      <th>18775</th>\n",
              "      <td>-0.360898</td>\n",
              "      <td>-0.408397</td>\n",
              "      <td>-1.325424</td>\n",
              "      <td>-1.159891</td>\n",
              "      <td>-3.249244</td>\n",
              "      <td>-0.433425</td>\n",
              "      <td>0.996626</td>\n",
              "      <td>-1.747355</td>\n",
              "      <td>-1.747355</td>\n",
              "      <td>-1.452170</td>\n",
              "      <td>-1.452170</td>\n",
              "    </tr>\n",
              "    <tr>\n",
              "      <th>17559</th>\n",
              "      <td>-0.331669</td>\n",
              "      <td>-0.383747</td>\n",
              "      <td>-1.325424</td>\n",
              "      <td>0.476817</td>\n",
              "      <td>-1.164245</td>\n",
              "      <td>-0.420789</td>\n",
              "      <td>-0.705586</td>\n",
              "      <td>-0.542699</td>\n",
              "      <td>-0.542699</td>\n",
              "      <td>-0.759894</td>\n",
              "      <td>-0.759894</td>\n",
              "    </tr>\n",
              "    <tr>\n",
              "      <th>7667</th>\n",
              "      <td>-0.243984</td>\n",
              "      <td>-0.298288</td>\n",
              "      <td>0.590598</td>\n",
              "      <td>-0.668878</td>\n",
              "      <td>0.262334</td>\n",
              "      <td>-0.104899</td>\n",
              "      <td>-0.462413</td>\n",
              "      <td>0.584236</td>\n",
              "      <td>0.584236</td>\n",
              "      <td>0.351392</td>\n",
              "      <td>0.351392</td>\n",
              "    </tr>\n",
              "    <tr>\n",
              "      <th>2638</th>\n",
              "      <td>-0.036136</td>\n",
              "      <td>0.292488</td>\n",
              "      <td>1.016381</td>\n",
              "      <td>0.313147</td>\n",
              "      <td>1.249965</td>\n",
              "      <td>-0.205984</td>\n",
              "      <td>0.023934</td>\n",
              "      <td>0.331647</td>\n",
              "      <td>0.331647</td>\n",
              "      <td>2.027428</td>\n",
              "      <td>2.027428</td>\n",
              "    </tr>\n",
              "    <tr>\n",
              "      <th>18148</th>\n",
              "      <td>-0.344010</td>\n",
              "      <td>-0.397600</td>\n",
              "      <td>-1.325424</td>\n",
              "      <td>-0.177866</td>\n",
              "      <td>-1.273981</td>\n",
              "      <td>-0.408153</td>\n",
              "      <td>-0.462413</td>\n",
              "      <td>-0.950728</td>\n",
              "      <td>-0.950728</td>\n",
              "      <td>-0.541280</td>\n",
              "      <td>-0.541280</td>\n",
              "    </tr>\n",
              "    <tr>\n",
              "      <th>...</th>\n",
              "      <td>...</td>\n",
              "      <td>...</td>\n",
              "      <td>...</td>\n",
              "      <td>...</td>\n",
              "      <td>...</td>\n",
              "      <td>...</td>\n",
              "      <td>...</td>\n",
              "      <td>...</td>\n",
              "      <td>...</td>\n",
              "      <td>...</td>\n",
              "      <td>...</td>\n",
              "    </tr>\n",
              "    <tr>\n",
              "      <th>8404</th>\n",
              "      <td>-0.088098</td>\n",
              "      <td>-0.125129</td>\n",
              "      <td>-0.899642</td>\n",
              "      <td>1.131501</td>\n",
              "      <td>0.262334</td>\n",
              "      <td>-0.433425</td>\n",
              "      <td>-0.340826</td>\n",
              "      <td>0.467657</td>\n",
              "      <td>0.467657</td>\n",
              "      <td>0.624658</td>\n",
              "      <td>0.624658</td>\n",
              "    </tr>\n",
              "    <tr>\n",
              "      <th>5412</th>\n",
              "      <td>-0.354403</td>\n",
              "      <td>-0.401470</td>\n",
              "      <td>2.506621</td>\n",
              "      <td>-0.341537</td>\n",
              "      <td>0.152597</td>\n",
              "      <td>-0.307068</td>\n",
              "      <td>3.124391</td>\n",
              "      <td>-1.436476</td>\n",
              "      <td>-1.436476</td>\n",
              "      <td>-1.197121</td>\n",
              "      <td>-1.197121</td>\n",
              "    </tr>\n",
              "    <tr>\n",
              "      <th>3755</th>\n",
              "      <td>-0.062117</td>\n",
              "      <td>0.302674</td>\n",
              "      <td>0.590598</td>\n",
              "      <td>0.476817</td>\n",
              "      <td>1.359702</td>\n",
              "      <td>-0.420789</td>\n",
              "      <td>-0.219240</td>\n",
              "      <td>-0.970158</td>\n",
              "      <td>-0.970158</td>\n",
              "      <td>1.754162</td>\n",
              "      <td>1.754162</td>\n",
              "    </tr>\n",
              "    <tr>\n",
              "      <th>11886</th>\n",
              "      <td>-0.331669</td>\n",
              "      <td>-0.371524</td>\n",
              "      <td>1.229273</td>\n",
              "      <td>-1.323562</td>\n",
              "      <td>-0.066877</td>\n",
              "      <td>-0.357611</td>\n",
              "      <td>-0.097653</td>\n",
              "      <td>-0.484410</td>\n",
              "      <td>-0.484410</td>\n",
              "      <td>0.588223</td>\n",
              "      <td>0.588223</td>\n",
              "    </tr>\n",
              "    <tr>\n",
              "      <th>13592</th>\n",
              "      <td>-0.289450</td>\n",
              "      <td>-0.353393</td>\n",
              "      <td>-0.686750</td>\n",
              "      <td>-0.505208</td>\n",
              "      <td>-0.505824</td>\n",
              "      <td>-0.408153</td>\n",
              "      <td>-0.340826</td>\n",
              "      <td>0.117918</td>\n",
              "      <td>0.117918</td>\n",
              "      <td>-0.978507</td>\n",
              "      <td>-0.978507</td>\n",
              "    </tr>\n",
              "  </tbody>\n",
              "</table>\n",
              "<p>18944 rows × 11 columns</p>\n",
              "</div>\n",
              "    <div class=\"colab-df-buttons\">\n",
              "\n",
              "  <div class=\"colab-df-container\">\n",
              "    <button class=\"colab-df-convert\" onclick=\"convertToInteractive('df-eb5203a4-e851-44ab-8b35-abf613a997e1')\"\n",
              "            title=\"Convert this dataframe to an interactive table.\"\n",
              "            style=\"display:none;\">\n",
              "\n",
              "  <svg xmlns=\"http://www.w3.org/2000/svg\" height=\"24px\" viewBox=\"0 -960 960 960\">\n",
              "    <path d=\"M120-120v-720h720v720H120Zm60-500h600v-160H180v160Zm220 220h160v-160H400v160Zm0 220h160v-160H400v160ZM180-400h160v-160H180v160Zm440 0h160v-160H620v160ZM180-180h160v-160H180v160Zm440 0h160v-160H620v160Z\"/>\n",
              "  </svg>\n",
              "    </button>\n",
              "\n",
              "  <style>\n",
              "    .colab-df-container {\n",
              "      display:flex;\n",
              "      gap: 12px;\n",
              "    }\n",
              "\n",
              "    .colab-df-convert {\n",
              "      background-color: #E8F0FE;\n",
              "      border: none;\n",
              "      border-radius: 50%;\n",
              "      cursor: pointer;\n",
              "      display: none;\n",
              "      fill: #1967D2;\n",
              "      height: 32px;\n",
              "      padding: 0 0 0 0;\n",
              "      width: 32px;\n",
              "    }\n",
              "\n",
              "    .colab-df-convert:hover {\n",
              "      background-color: #E2EBFA;\n",
              "      box-shadow: 0px 1px 2px rgba(60, 64, 67, 0.3), 0px 1px 3px 1px rgba(60, 64, 67, 0.15);\n",
              "      fill: #174EA6;\n",
              "    }\n",
              "\n",
              "    .colab-df-buttons div {\n",
              "      margin-bottom: 4px;\n",
              "    }\n",
              "\n",
              "    [theme=dark] .colab-df-convert {\n",
              "      background-color: #3B4455;\n",
              "      fill: #D2E3FC;\n",
              "    }\n",
              "\n",
              "    [theme=dark] .colab-df-convert:hover {\n",
              "      background-color: #434B5C;\n",
              "      box-shadow: 0px 1px 3px 1px rgba(0, 0, 0, 0.15);\n",
              "      filter: drop-shadow(0px 1px 2px rgba(0, 0, 0, 0.3));\n",
              "      fill: #FFFFFF;\n",
              "    }\n",
              "  </style>\n",
              "\n",
              "    <script>\n",
              "      const buttonEl =\n",
              "        document.querySelector('#df-eb5203a4-e851-44ab-8b35-abf613a997e1 button.colab-df-convert');\n",
              "      buttonEl.style.display =\n",
              "        google.colab.kernel.accessAllowed ? 'block' : 'none';\n",
              "\n",
              "      async function convertToInteractive(key) {\n",
              "        const element = document.querySelector('#df-eb5203a4-e851-44ab-8b35-abf613a997e1');\n",
              "        const dataTable =\n",
              "          await google.colab.kernel.invokeFunction('convertToInteractive',\n",
              "                                                    [key], {});\n",
              "        if (!dataTable) return;\n",
              "\n",
              "        const docLinkHtml = 'Like what you see? Visit the ' +\n",
              "          '<a target=\"_blank\" href=https://colab.research.google.com/notebooks/data_table.ipynb>data table notebook</a>'\n",
              "          + ' to learn more about interactive tables.';\n",
              "        element.innerHTML = '';\n",
              "        dataTable['output_type'] = 'display_data';\n",
              "        await google.colab.output.renderOutput(dataTable, element);\n",
              "        const docLink = document.createElement('div');\n",
              "        docLink.innerHTML = docLinkHtml;\n",
              "        element.appendChild(docLink);\n",
              "      }\n",
              "    </script>\n",
              "  </div>\n",
              "\n",
              "\n",
              "<div id=\"df-834e1a0e-6ab7-4a5d-9527-dcbef7105879\">\n",
              "  <button class=\"colab-df-quickchart\" onclick=\"quickchart('df-834e1a0e-6ab7-4a5d-9527-dcbef7105879')\"\n",
              "            title=\"Suggest charts.\"\n",
              "            style=\"display:none;\">\n",
              "\n",
              "<svg xmlns=\"http://www.w3.org/2000/svg\" height=\"24px\"viewBox=\"0 0 24 24\"\n",
              "     width=\"24px\">\n",
              "    <g>\n",
              "        <path d=\"M19 3H5c-1.1 0-2 .9-2 2v14c0 1.1.9 2 2 2h14c1.1 0 2-.9 2-2V5c0-1.1-.9-2-2-2zM9 17H7v-7h2v7zm4 0h-2V7h2v10zm4 0h-2v-4h2v4z\"/>\n",
              "    </g>\n",
              "</svg>\n",
              "  </button>\n",
              "\n",
              "<style>\n",
              "  .colab-df-quickchart {\n",
              "      --bg-color: #E8F0FE;\n",
              "      --fill-color: #1967D2;\n",
              "      --hover-bg-color: #E2EBFA;\n",
              "      --hover-fill-color: #174EA6;\n",
              "      --disabled-fill-color: #AAA;\n",
              "      --disabled-bg-color: #DDD;\n",
              "  }\n",
              "\n",
              "  [theme=dark] .colab-df-quickchart {\n",
              "      --bg-color: #3B4455;\n",
              "      --fill-color: #D2E3FC;\n",
              "      --hover-bg-color: #434B5C;\n",
              "      --hover-fill-color: #FFFFFF;\n",
              "      --disabled-bg-color: #3B4455;\n",
              "      --disabled-fill-color: #666;\n",
              "  }\n",
              "\n",
              "  .colab-df-quickchart {\n",
              "    background-color: var(--bg-color);\n",
              "    border: none;\n",
              "    border-radius: 50%;\n",
              "    cursor: pointer;\n",
              "    display: none;\n",
              "    fill: var(--fill-color);\n",
              "    height: 32px;\n",
              "    padding: 0;\n",
              "    width: 32px;\n",
              "  }\n",
              "\n",
              "  .colab-df-quickchart:hover {\n",
              "    background-color: var(--hover-bg-color);\n",
              "    box-shadow: 0 1px 2px rgba(60, 64, 67, 0.3), 0 1px 3px 1px rgba(60, 64, 67, 0.15);\n",
              "    fill: var(--button-hover-fill-color);\n",
              "  }\n",
              "\n",
              "  .colab-df-quickchart-complete:disabled,\n",
              "  .colab-df-quickchart-complete:disabled:hover {\n",
              "    background-color: var(--disabled-bg-color);\n",
              "    fill: var(--disabled-fill-color);\n",
              "    box-shadow: none;\n",
              "  }\n",
              "\n",
              "  .colab-df-spinner {\n",
              "    border: 2px solid var(--fill-color);\n",
              "    border-color: transparent;\n",
              "    border-bottom-color: var(--fill-color);\n",
              "    animation:\n",
              "      spin 1s steps(1) infinite;\n",
              "  }\n",
              "\n",
              "  @keyframes spin {\n",
              "    0% {\n",
              "      border-color: transparent;\n",
              "      border-bottom-color: var(--fill-color);\n",
              "      border-left-color: var(--fill-color);\n",
              "    }\n",
              "    20% {\n",
              "      border-color: transparent;\n",
              "      border-left-color: var(--fill-color);\n",
              "      border-top-color: var(--fill-color);\n",
              "    }\n",
              "    30% {\n",
              "      border-color: transparent;\n",
              "      border-left-color: var(--fill-color);\n",
              "      border-top-color: var(--fill-color);\n",
              "      border-right-color: var(--fill-color);\n",
              "    }\n",
              "    40% {\n",
              "      border-color: transparent;\n",
              "      border-right-color: var(--fill-color);\n",
              "      border-top-color: var(--fill-color);\n",
              "    }\n",
              "    60% {\n",
              "      border-color: transparent;\n",
              "      border-right-color: var(--fill-color);\n",
              "    }\n",
              "    80% {\n",
              "      border-color: transparent;\n",
              "      border-right-color: var(--fill-color);\n",
              "      border-bottom-color: var(--fill-color);\n",
              "    }\n",
              "    90% {\n",
              "      border-color: transparent;\n",
              "      border-bottom-color: var(--fill-color);\n",
              "    }\n",
              "  }\n",
              "</style>\n",
              "\n",
              "  <script>\n",
              "    async function quickchart(key) {\n",
              "      const quickchartButtonEl =\n",
              "        document.querySelector('#' + key + ' button');\n",
              "      quickchartButtonEl.disabled = true;  // To prevent multiple clicks.\n",
              "      quickchartButtonEl.classList.add('colab-df-spinner');\n",
              "      try {\n",
              "        const charts = await google.colab.kernel.invokeFunction(\n",
              "            'suggestCharts', [key], {});\n",
              "      } catch (error) {\n",
              "        console.error('Error during call to suggestCharts:', error);\n",
              "      }\n",
              "      quickchartButtonEl.classList.remove('colab-df-spinner');\n",
              "      quickchartButtonEl.classList.add('colab-df-quickchart-complete');\n",
              "    }\n",
              "    (() => {\n",
              "      let quickchartButtonEl =\n",
              "        document.querySelector('#df-834e1a0e-6ab7-4a5d-9527-dcbef7105879 button');\n",
              "      quickchartButtonEl.style.display =\n",
              "        google.colab.kernel.accessAllowed ? 'block' : 'none';\n",
              "    })();\n",
              "  </script>\n",
              "</div>\n",
              "    </div>\n",
              "  </div>\n"
            ]
          },
          "metadata": {},
          "execution_count": 50
        }
      ]
    },
    {
      "cell_type": "code",
      "source": [
        "all_2021_Y = pd.concat([Ytrain, Ytest])\n",
        "all_2021_Y"
      ],
      "metadata": {
        "colab": {
          "base_uri": "https://localhost:8080/"
        },
        "id": "IrO6hI5u2azP",
        "outputId": "9e1f36c4-4836-4052-f6a7-d9a13807ee39"
      },
      "execution_count": 51,
      "outputs": [
        {
          "output_type": "execute_result",
          "data": {
            "text/plain": [
              "18775    50\n",
              "17559    55\n",
              "7667     67\n",
              "2638     73\n",
              "18148    53\n",
              "         ..\n",
              "8404     67\n",
              "5412     69\n",
              "3755     72\n",
              "11886    63\n",
              "13592    62\n",
              "Name: overall, Length: 18944, dtype: int64"
            ]
          },
          "metadata": {},
          "execution_count": 51
        }
      ]
    },
    {
      "cell_type": "code",
      "source": [
        "gb_best.fit(all_2021_X, all_2021_Y)"
      ],
      "metadata": {
        "colab": {
          "base_uri": "https://localhost:8080/",
          "height": 109
        },
        "id": "djcS0PZA2k6O",
        "outputId": "2803c279-35a4-46c5-ecde-3c6d33604c62"
      },
      "execution_count": 52,
      "outputs": [
        {
          "output_type": "execute_result",
          "data": {
            "text/plain": [
              "GradientBoostingRegressor(criterion='squared_error', max_depth=7,\n",
              "                          max_features='sqrt', n_estimators=50,\n",
              "                          random_state=20)"
            ],
            "text/html": [
              "<style>#sk-container-id-8 {color: black;background-color: white;}#sk-container-id-8 pre{padding: 0;}#sk-container-id-8 div.sk-toggleable {background-color: white;}#sk-container-id-8 label.sk-toggleable__label {cursor: pointer;display: block;width: 100%;margin-bottom: 0;padding: 0.3em;box-sizing: border-box;text-align: center;}#sk-container-id-8 label.sk-toggleable__label-arrow:before {content: \"▸\";float: left;margin-right: 0.25em;color: #696969;}#sk-container-id-8 label.sk-toggleable__label-arrow:hover:before {color: black;}#sk-container-id-8 div.sk-estimator:hover label.sk-toggleable__label-arrow:before {color: black;}#sk-container-id-8 div.sk-toggleable__content {max-height: 0;max-width: 0;overflow: hidden;text-align: left;background-color: #f0f8ff;}#sk-container-id-8 div.sk-toggleable__content pre {margin: 0.2em;color: black;border-radius: 0.25em;background-color: #f0f8ff;}#sk-container-id-8 input.sk-toggleable__control:checked~div.sk-toggleable__content {max-height: 200px;max-width: 100%;overflow: auto;}#sk-container-id-8 input.sk-toggleable__control:checked~label.sk-toggleable__label-arrow:before {content: \"▾\";}#sk-container-id-8 div.sk-estimator input.sk-toggleable__control:checked~label.sk-toggleable__label {background-color: #d4ebff;}#sk-container-id-8 div.sk-label input.sk-toggleable__control:checked~label.sk-toggleable__label {background-color: #d4ebff;}#sk-container-id-8 input.sk-hidden--visually {border: 0;clip: rect(1px 1px 1px 1px);clip: rect(1px, 1px, 1px, 1px);height: 1px;margin: -1px;overflow: hidden;padding: 0;position: absolute;width: 1px;}#sk-container-id-8 div.sk-estimator {font-family: monospace;background-color: #f0f8ff;border: 1px dotted black;border-radius: 0.25em;box-sizing: border-box;margin-bottom: 0.5em;}#sk-container-id-8 div.sk-estimator:hover {background-color: #d4ebff;}#sk-container-id-8 div.sk-parallel-item::after {content: \"\";width: 100%;border-bottom: 1px solid gray;flex-grow: 1;}#sk-container-id-8 div.sk-label:hover label.sk-toggleable__label {background-color: #d4ebff;}#sk-container-id-8 div.sk-serial::before {content: \"\";position: absolute;border-left: 1px solid gray;box-sizing: border-box;top: 0;bottom: 0;left: 50%;z-index: 0;}#sk-container-id-8 div.sk-serial {display: flex;flex-direction: column;align-items: center;background-color: white;padding-right: 0.2em;padding-left: 0.2em;position: relative;}#sk-container-id-8 div.sk-item {position: relative;z-index: 1;}#sk-container-id-8 div.sk-parallel {display: flex;align-items: stretch;justify-content: center;background-color: white;position: relative;}#sk-container-id-8 div.sk-item::before, #sk-container-id-8 div.sk-parallel-item::before {content: \"\";position: absolute;border-left: 1px solid gray;box-sizing: border-box;top: 0;bottom: 0;left: 50%;z-index: -1;}#sk-container-id-8 div.sk-parallel-item {display: flex;flex-direction: column;z-index: 1;position: relative;background-color: white;}#sk-container-id-8 div.sk-parallel-item:first-child::after {align-self: flex-end;width: 50%;}#sk-container-id-8 div.sk-parallel-item:last-child::after {align-self: flex-start;width: 50%;}#sk-container-id-8 div.sk-parallel-item:only-child::after {width: 0;}#sk-container-id-8 div.sk-dashed-wrapped {border: 1px dashed gray;margin: 0 0.4em 0.5em 0.4em;box-sizing: border-box;padding-bottom: 0.4em;background-color: white;}#sk-container-id-8 div.sk-label label {font-family: monospace;font-weight: bold;display: inline-block;line-height: 1.2em;}#sk-container-id-8 div.sk-label-container {text-align: center;}#sk-container-id-8 div.sk-container {/* jupyter's `normalize.less` sets `[hidden] { display: none; }` but bootstrap.min.css set `[hidden] { display: none !important; }` so we also need the `!important` here to be able to override the default hidden behavior on the sphinx rendered scikit-learn.org. See: https://github.com/scikit-learn/scikit-learn/issues/21755 */display: inline-block !important;position: relative;}#sk-container-id-8 div.sk-text-repr-fallback {display: none;}</style><div id=\"sk-container-id-8\" class=\"sk-top-container\"><div class=\"sk-text-repr-fallback\"><pre>GradientBoostingRegressor(criterion=&#x27;squared_error&#x27;, max_depth=7,\n",
              "                          max_features=&#x27;sqrt&#x27;, n_estimators=50,\n",
              "                          random_state=20)</pre><b>In a Jupyter environment, please rerun this cell to show the HTML representation or trust the notebook. <br />On GitHub, the HTML representation is unable to render, please try loading this page with nbviewer.org.</b></div><div class=\"sk-container\" hidden><div class=\"sk-item\"><div class=\"sk-estimator sk-toggleable\"><input class=\"sk-toggleable__control sk-hidden--visually\" id=\"sk-estimator-id-20\" type=\"checkbox\" checked><label for=\"sk-estimator-id-20\" class=\"sk-toggleable__label sk-toggleable__label-arrow\">GradientBoostingRegressor</label><div class=\"sk-toggleable__content\"><pre>GradientBoostingRegressor(criterion=&#x27;squared_error&#x27;, max_depth=7,\n",
              "                          max_features=&#x27;sqrt&#x27;, n_estimators=50,\n",
              "                          random_state=20)</pre></div></div></div></div></div>"
            ]
          },
          "metadata": {},
          "execution_count": 52
        }
      ]
    },
    {
      "cell_type": "code",
      "source": [
        "train_columns = all_2021_X.columns\n",
        "test_columns = new_testing_x.columns"
      ],
      "metadata": {
        "id": "pkOwtJBq3Hl5"
      },
      "execution_count": 56,
      "outputs": []
    },
    {
      "cell_type": "code",
      "source": [
        "train_columns, test_columns"
      ],
      "metadata": {
        "colab": {
          "base_uri": "https://localhost:8080/"
        },
        "id": "avPZv2Rc3VIY",
        "outputId": "a5f44651-beee-417e-f3a8-c55cf58ee4ec"
      },
      "execution_count": 57,
      "outputs": [
        {
          "output_type": "execute_result",
          "data": {
            "text/plain": [
              "(Index(['value_eur', 'release_clause_eur', 'age', 'potential',\n",
              "        'movement_reactions', 'wage_eur', 'gk', 'rm', 'lm', 'lcb', 'cb'],\n",
              "       dtype='object'),\n",
              " Index(['gk', 'rm', 'lm', 'lcb', 'cb', 'value_eur', 'release_clause_eur', 'age',\n",
              "        'potential', 'movement_reactions', 'wage_eur'],\n",
              "       dtype='object'))"
            ]
          },
          "metadata": {},
          "execution_count": 57
        }
      ]
    },
    {
      "cell_type": "code",
      "source": [
        "testing_x = new_testing_x[train_columns]\n",
        "testing_x.head()"
      ],
      "metadata": {
        "colab": {
          "base_uri": "https://localhost:8080/",
          "height": 226
        },
        "id": "8CJAIcwH3h81",
        "outputId": "c5fd258f-c23c-428b-a22f-d292f37e97db"
      },
      "execution_count": 59,
      "outputs": [
        {
          "output_type": "execute_result",
          "data": {
            "text/plain": [
              "   value_eur  release_clause_eur       age  potential  movement_reactions  \\\n",
              "0   9.889601            9.591752  1.851089    3.60178            3.599846   \n",
              "1  15.350958           13.244084  1.429869    3.43747            3.489252   \n",
              "2   5.546836            5.380179  2.272309    3.27316            3.599846   \n",
              "3  16.601147           16.109335  0.798039    3.27316            3.046874   \n",
              "4  16.140551           15.660560  1.008649    3.27316            3.268063   \n",
              "\n",
              "    wage_eur        gk        rm        lm       lcb        cb  \n",
              "0  15.998022  0.068706  3.052455  3.052455 -0.533389 -0.533389  \n",
              "1  13.425844  0.068706  2.843314  2.843314  0.334698  0.334698  \n",
              "2  13.425844  0.184414  2.968799  2.968799 -0.320796 -0.320796  \n",
              "3  13.425844  0.184414  3.010627  3.010627 -0.533389 -0.533389  \n",
              "4  17.541329  0.300122  3.010627  3.010627  1.379946  1.379946  "
            ],
            "text/html": [
              "\n",
              "  <div id=\"df-b1d55329-db1e-488f-8938-f9d0b0ef33bd\" class=\"colab-df-container\">\n",
              "    <div>\n",
              "<style scoped>\n",
              "    .dataframe tbody tr th:only-of-type {\n",
              "        vertical-align: middle;\n",
              "    }\n",
              "\n",
              "    .dataframe tbody tr th {\n",
              "        vertical-align: top;\n",
              "    }\n",
              "\n",
              "    .dataframe thead th {\n",
              "        text-align: right;\n",
              "    }\n",
              "</style>\n",
              "<table border=\"1\" class=\"dataframe\">\n",
              "  <thead>\n",
              "    <tr style=\"text-align: right;\">\n",
              "      <th></th>\n",
              "      <th>value_eur</th>\n",
              "      <th>release_clause_eur</th>\n",
              "      <th>age</th>\n",
              "      <th>potential</th>\n",
              "      <th>movement_reactions</th>\n",
              "      <th>wage_eur</th>\n",
              "      <th>gk</th>\n",
              "      <th>rm</th>\n",
              "      <th>lm</th>\n",
              "      <th>lcb</th>\n",
              "      <th>cb</th>\n",
              "    </tr>\n",
              "  </thead>\n",
              "  <tbody>\n",
              "    <tr>\n",
              "      <th>0</th>\n",
              "      <td>9.889601</td>\n",
              "      <td>9.591752</td>\n",
              "      <td>1.851089</td>\n",
              "      <td>3.60178</td>\n",
              "      <td>3.599846</td>\n",
              "      <td>15.998022</td>\n",
              "      <td>0.068706</td>\n",
              "      <td>3.052455</td>\n",
              "      <td>3.052455</td>\n",
              "      <td>-0.533389</td>\n",
              "      <td>-0.533389</td>\n",
              "    </tr>\n",
              "    <tr>\n",
              "      <th>1</th>\n",
              "      <td>15.350958</td>\n",
              "      <td>13.244084</td>\n",
              "      <td>1.429869</td>\n",
              "      <td>3.43747</td>\n",
              "      <td>3.489252</td>\n",
              "      <td>13.425844</td>\n",
              "      <td>0.068706</td>\n",
              "      <td>2.843314</td>\n",
              "      <td>2.843314</td>\n",
              "      <td>0.334698</td>\n",
              "      <td>0.334698</td>\n",
              "    </tr>\n",
              "    <tr>\n",
              "      <th>2</th>\n",
              "      <td>5.546836</td>\n",
              "      <td>5.380179</td>\n",
              "      <td>2.272309</td>\n",
              "      <td>3.27316</td>\n",
              "      <td>3.599846</td>\n",
              "      <td>13.425844</td>\n",
              "      <td>0.184414</td>\n",
              "      <td>2.968799</td>\n",
              "      <td>2.968799</td>\n",
              "      <td>-0.320796</td>\n",
              "      <td>-0.320796</td>\n",
              "    </tr>\n",
              "    <tr>\n",
              "      <th>3</th>\n",
              "      <td>16.601147</td>\n",
              "      <td>16.109335</td>\n",
              "      <td>0.798039</td>\n",
              "      <td>3.27316</td>\n",
              "      <td>3.046874</td>\n",
              "      <td>13.425844</td>\n",
              "      <td>0.184414</td>\n",
              "      <td>3.010627</td>\n",
              "      <td>3.010627</td>\n",
              "      <td>-0.533389</td>\n",
              "      <td>-0.533389</td>\n",
              "    </tr>\n",
              "    <tr>\n",
              "      <th>4</th>\n",
              "      <td>16.140551</td>\n",
              "      <td>15.660560</td>\n",
              "      <td>1.008649</td>\n",
              "      <td>3.27316</td>\n",
              "      <td>3.268063</td>\n",
              "      <td>17.541329</td>\n",
              "      <td>0.300122</td>\n",
              "      <td>3.010627</td>\n",
              "      <td>3.010627</td>\n",
              "      <td>1.379946</td>\n",
              "      <td>1.379946</td>\n",
              "    </tr>\n",
              "  </tbody>\n",
              "</table>\n",
              "</div>\n",
              "    <div class=\"colab-df-buttons\">\n",
              "\n",
              "  <div class=\"colab-df-container\">\n",
              "    <button class=\"colab-df-convert\" onclick=\"convertToInteractive('df-b1d55329-db1e-488f-8938-f9d0b0ef33bd')\"\n",
              "            title=\"Convert this dataframe to an interactive table.\"\n",
              "            style=\"display:none;\">\n",
              "\n",
              "  <svg xmlns=\"http://www.w3.org/2000/svg\" height=\"24px\" viewBox=\"0 -960 960 960\">\n",
              "    <path d=\"M120-120v-720h720v720H120Zm60-500h600v-160H180v160Zm220 220h160v-160H400v160Zm0 220h160v-160H400v160ZM180-400h160v-160H180v160Zm440 0h160v-160H620v160ZM180-180h160v-160H180v160Zm440 0h160v-160H620v160Z\"/>\n",
              "  </svg>\n",
              "    </button>\n",
              "\n",
              "  <style>\n",
              "    .colab-df-container {\n",
              "      display:flex;\n",
              "      gap: 12px;\n",
              "    }\n",
              "\n",
              "    .colab-df-convert {\n",
              "      background-color: #E8F0FE;\n",
              "      border: none;\n",
              "      border-radius: 50%;\n",
              "      cursor: pointer;\n",
              "      display: none;\n",
              "      fill: #1967D2;\n",
              "      height: 32px;\n",
              "      padding: 0 0 0 0;\n",
              "      width: 32px;\n",
              "    }\n",
              "\n",
              "    .colab-df-convert:hover {\n",
              "      background-color: #E2EBFA;\n",
              "      box-shadow: 0px 1px 2px rgba(60, 64, 67, 0.3), 0px 1px 3px 1px rgba(60, 64, 67, 0.15);\n",
              "      fill: #174EA6;\n",
              "    }\n",
              "\n",
              "    .colab-df-buttons div {\n",
              "      margin-bottom: 4px;\n",
              "    }\n",
              "\n",
              "    [theme=dark] .colab-df-convert {\n",
              "      background-color: #3B4455;\n",
              "      fill: #D2E3FC;\n",
              "    }\n",
              "\n",
              "    [theme=dark] .colab-df-convert:hover {\n",
              "      background-color: #434B5C;\n",
              "      box-shadow: 0px 1px 3px 1px rgba(0, 0, 0, 0.15);\n",
              "      filter: drop-shadow(0px 1px 2px rgba(0, 0, 0, 0.3));\n",
              "      fill: #FFFFFF;\n",
              "    }\n",
              "  </style>\n",
              "\n",
              "    <script>\n",
              "      const buttonEl =\n",
              "        document.querySelector('#df-b1d55329-db1e-488f-8938-f9d0b0ef33bd button.colab-df-convert');\n",
              "      buttonEl.style.display =\n",
              "        google.colab.kernel.accessAllowed ? 'block' : 'none';\n",
              "\n",
              "      async function convertToInteractive(key) {\n",
              "        const element = document.querySelector('#df-b1d55329-db1e-488f-8938-f9d0b0ef33bd');\n",
              "        const dataTable =\n",
              "          await google.colab.kernel.invokeFunction('convertToInteractive',\n",
              "                                                    [key], {});\n",
              "        if (!dataTable) return;\n",
              "\n",
              "        const docLinkHtml = 'Like what you see? Visit the ' +\n",
              "          '<a target=\"_blank\" href=https://colab.research.google.com/notebooks/data_table.ipynb>data table notebook</a>'\n",
              "          + ' to learn more about interactive tables.';\n",
              "        element.innerHTML = '';\n",
              "        dataTable['output_type'] = 'display_data';\n",
              "        await google.colab.output.renderOutput(dataTable, element);\n",
              "        const docLink = document.createElement('div');\n",
              "        docLink.innerHTML = docLinkHtml;\n",
              "        element.appendChild(docLink);\n",
              "      }\n",
              "    </script>\n",
              "  </div>\n",
              "\n",
              "\n",
              "<div id=\"df-24f10bcd-258c-471c-a01b-60fe6b227fb3\">\n",
              "  <button class=\"colab-df-quickchart\" onclick=\"quickchart('df-24f10bcd-258c-471c-a01b-60fe6b227fb3')\"\n",
              "            title=\"Suggest charts.\"\n",
              "            style=\"display:none;\">\n",
              "\n",
              "<svg xmlns=\"http://www.w3.org/2000/svg\" height=\"24px\"viewBox=\"0 0 24 24\"\n",
              "     width=\"24px\">\n",
              "    <g>\n",
              "        <path d=\"M19 3H5c-1.1 0-2 .9-2 2v14c0 1.1.9 2 2 2h14c1.1 0 2-.9 2-2V5c0-1.1-.9-2-2-2zM9 17H7v-7h2v7zm4 0h-2V7h2v10zm4 0h-2v-4h2v4z\"/>\n",
              "    </g>\n",
              "</svg>\n",
              "  </button>\n",
              "\n",
              "<style>\n",
              "  .colab-df-quickchart {\n",
              "      --bg-color: #E8F0FE;\n",
              "      --fill-color: #1967D2;\n",
              "      --hover-bg-color: #E2EBFA;\n",
              "      --hover-fill-color: #174EA6;\n",
              "      --disabled-fill-color: #AAA;\n",
              "      --disabled-bg-color: #DDD;\n",
              "  }\n",
              "\n",
              "  [theme=dark] .colab-df-quickchart {\n",
              "      --bg-color: #3B4455;\n",
              "      --fill-color: #D2E3FC;\n",
              "      --hover-bg-color: #434B5C;\n",
              "      --hover-fill-color: #FFFFFF;\n",
              "      --disabled-bg-color: #3B4455;\n",
              "      --disabled-fill-color: #666;\n",
              "  }\n",
              "\n",
              "  .colab-df-quickchart {\n",
              "    background-color: var(--bg-color);\n",
              "    border: none;\n",
              "    border-radius: 50%;\n",
              "    cursor: pointer;\n",
              "    display: none;\n",
              "    fill: var(--fill-color);\n",
              "    height: 32px;\n",
              "    padding: 0;\n",
              "    width: 32px;\n",
              "  }\n",
              "\n",
              "  .colab-df-quickchart:hover {\n",
              "    background-color: var(--hover-bg-color);\n",
              "    box-shadow: 0 1px 2px rgba(60, 64, 67, 0.3), 0 1px 3px 1px rgba(60, 64, 67, 0.15);\n",
              "    fill: var(--button-hover-fill-color);\n",
              "  }\n",
              "\n",
              "  .colab-df-quickchart-complete:disabled,\n",
              "  .colab-df-quickchart-complete:disabled:hover {\n",
              "    background-color: var(--disabled-bg-color);\n",
              "    fill: var(--disabled-fill-color);\n",
              "    box-shadow: none;\n",
              "  }\n",
              "\n",
              "  .colab-df-spinner {\n",
              "    border: 2px solid var(--fill-color);\n",
              "    border-color: transparent;\n",
              "    border-bottom-color: var(--fill-color);\n",
              "    animation:\n",
              "      spin 1s steps(1) infinite;\n",
              "  }\n",
              "\n",
              "  @keyframes spin {\n",
              "    0% {\n",
              "      border-color: transparent;\n",
              "      border-bottom-color: var(--fill-color);\n",
              "      border-left-color: var(--fill-color);\n",
              "    }\n",
              "    20% {\n",
              "      border-color: transparent;\n",
              "      border-left-color: var(--fill-color);\n",
              "      border-top-color: var(--fill-color);\n",
              "    }\n",
              "    30% {\n",
              "      border-color: transparent;\n",
              "      border-left-color: var(--fill-color);\n",
              "      border-top-color: var(--fill-color);\n",
              "      border-right-color: var(--fill-color);\n",
              "    }\n",
              "    40% {\n",
              "      border-color: transparent;\n",
              "      border-right-color: var(--fill-color);\n",
              "      border-top-color: var(--fill-color);\n",
              "    }\n",
              "    60% {\n",
              "      border-color: transparent;\n",
              "      border-right-color: var(--fill-color);\n",
              "    }\n",
              "    80% {\n",
              "      border-color: transparent;\n",
              "      border-right-color: var(--fill-color);\n",
              "      border-bottom-color: var(--fill-color);\n",
              "    }\n",
              "    90% {\n",
              "      border-color: transparent;\n",
              "      border-bottom-color: var(--fill-color);\n",
              "    }\n",
              "  }\n",
              "</style>\n",
              "\n",
              "  <script>\n",
              "    async function quickchart(key) {\n",
              "      const quickchartButtonEl =\n",
              "        document.querySelector('#' + key + ' button');\n",
              "      quickchartButtonEl.disabled = true;  // To prevent multiple clicks.\n",
              "      quickchartButtonEl.classList.add('colab-df-spinner');\n",
              "      try {\n",
              "        const charts = await google.colab.kernel.invokeFunction(\n",
              "            'suggestCharts', [key], {});\n",
              "      } catch (error) {\n",
              "        console.error('Error during call to suggestCharts:', error);\n",
              "      }\n",
              "      quickchartButtonEl.classList.remove('colab-df-spinner');\n",
              "      quickchartButtonEl.classList.add('colab-df-quickchart-complete');\n",
              "    }\n",
              "    (() => {\n",
              "      let quickchartButtonEl =\n",
              "        document.querySelector('#df-24f10bcd-258c-471c-a01b-60fe6b227fb3 button');\n",
              "      quickchartButtonEl.style.display =\n",
              "        google.colab.kernel.accessAllowed ? 'block' : 'none';\n",
              "    })();\n",
              "  </script>\n",
              "</div>\n",
              "    </div>\n",
              "  </div>\n"
            ]
          },
          "metadata": {},
          "execution_count": 59
        }
      ]
    },
    {
      "cell_type": "code",
      "execution_count": 60,
      "metadata": {
        "id": "hnbK6sbzmjgw",
        "colab": {
          "base_uri": "https://localhost:8080/"
        },
        "outputId": "285e5f02-a1a1-4278-c0af-7aa87379da80"
      },
      "outputs": [
        {
          "output_type": "stream",
          "name": "stdout",
          "text": [
            "The mean absolute error is  0.9503103681635735\n"
          ]
        }
      ],
      "source": [
        "y_pred=gb_best.predict(testing_x)\n",
        "print(\"The mean absolute error is \",(mean_absolute_error(Y, y_pred))) # display the mean absolute error"
      ]
    },
    {
      "cell_type": "markdown",
      "metadata": {
        "id": "T3O1lk7Cw8R1"
      },
      "source": [
        "# 6. Saving the model using pickle"
      ]
    },
    {
      "cell_type": "code",
      "execution_count": 61,
      "metadata": {
        "id": "yv5QzyTSQesX"
      },
      "outputs": [],
      "source": [
        "import pickle"
      ]
    },
    {
      "cell_type": "code",
      "execution_count": 62,
      "metadata": {
        "id": "P9GP46xoAIGf"
      },
      "outputs": [],
      "source": [
        "with open('deployed_model.pkl', 'wb') as file:\n",
        "  pickle.dump(gb_best, file)"
      ]
    }
  ],
  "metadata": {
    "colab": {
      "provenance": []
    },
    "kernelspec": {
      "display_name": "Python 3",
      "name": "python3"
    },
    "language_info": {
      "name": "python"
    }
  },
  "nbformat": 4,
  "nbformat_minor": 0
}